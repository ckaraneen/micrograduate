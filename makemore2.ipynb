{
 "cells": [
  {
   "cell_type": "markdown",
   "id": "5094a092-245c-4d20-9cc7-ead263ede1bd",
   "metadata": {
    "tags": []
   },
   "source": [
    "# 3. **makemore** (part 2): mlp"
   ]
  },
  {
   "cell_type": "markdown",
   "id": "042c805e",
   "metadata": {},
   "source": [
    "## Intro"
   ]
  },
  {
   "cell_type": "markdown",
   "id": "1c3d337a-cc28-4db0-9cd7-9684437068a9",
   "metadata": {},
   "source": [
    "Time to make more out of **makemore**! In the last lesson, we implemented the bigram language model, both using counts and a super simple, 1-linear-layer **nn**. How we approach training is that we looked only at the single previous character and we predicted a distribution for the character coming next in the sequence. We did that by taking counts and normalizing them into probabilities so that each row in the count matrix sums to $1$. This method is great if you only have one character of previous context. The problem with that model though is that predictions are not very good. Another problem, if we are to take more context into account, is that the counts in the matrix grow exponentially as we increase the length of the context. For just $1$ character of context we have $27$ rows, each representing the next possible character. For $2$ characters, the number of rows would grow to $27 \\cdot 27 = 729$. Whereas for $3$ characters, it would explode to $27 \\cdot 27 \\cdot 27 = 19683$, and so on. This solution simply doesn't scale well and explodes. That is why we are going to move on and instead implement an **mlp** model to predict the next character in a sequence."
   ]
  },
  {
   "cell_type": "markdown",
   "id": "2aab4840",
   "metadata": {},
   "source": [
    "## Building a **mlp** language model"
   ]
  },
  {
   "cell_type": "markdown",
   "id": "f25c2bce",
   "metadata": {},
   "source": [
    "The modeling approach we are going to adopt follows [Bengio et al. 2003](https://dl.acm.org/doi/10.5555/944919.944966), an important paper that we are going to implement. Although they implement a word-level language model, we are going to stick to our character-level language model, but follow the same approach. The authors propose associating each and every word (out of e.g. $17000$) with a feature vector (e.g. of $30$ dimensions). In other words, every word is a point that is embedded into a $30$-dimensional space. You can think of it this way. We have $17000$ point-vectors in a $30$-dimensional space. As you can imagine, that is very crowded, that's lots of points for a very small space. Now, in the beginning, these words are initialized completely randomly: they are spread out at random. But, then we are going to tune these embeddings of these words using **backprop**. So during the course of training of this **nn**, these point-vectors are going to basically be moved around in this space. And you might imagine that, for example, words that have very similar meanings or that are indeed synonyms of each other might end up in a very similar part of the vector space, and, conversely, words with very different meanings will go somewhere else in that space. Now, their modeling approach otherwise is identical to what ours has been so far. They are using a **mlp** **nn** to predict the next word, given the previous words and to train the **nn** they are maximizing the log-likehood of the training data, just like we did. Here, is their example of this intuition: suppose the exact phrase *`a dog was running in a`* has never occured and at test time we want our model to complete the sentence by predicting the word that might follow it (e.g. *`room`*). Because the model has never encountered this exact phrase in the training set, it is out of distribution, as we say. Meaning, you don't have fundamentally any reason to suspect what might come next. However, the approach we are following allows you to get around such suspicion. Maybe we haven't seen the exact phrase, but maybe we have seen similar phrases like: *`the dog was running in a`* and maybe your **nn** has learned that *`a`* and *`the`* are frequently interchangeble with each other. So maybe our model took the embeddings for *`a`* and *`the`* and it actually put them nearby eachother in the vector space. Thus, you can transfer knowledge through such an embedding and generalize in that way. Similarly, it can do the same with other similar words such that a phrase such as *`The cat is walking in the bedroom`* can help us generalize to a diserable or at least valid sentence like *`a dog was running in a`* **`room`** by merit of the magic of feature vector similarity after training! To put it more simply, manipulating the embedding space allows us to transfer knowledge, predict and generalize to novel scenarios even when fed inputs like the sequence of words mentioned that we have not trained on. If you scroll down the paper, you will see the following diagram:"
   ]
  },
  {
   "cell_type": "code",
   "execution_count": 266,
   "id": "a2d9ef42-b167-4107-8e80-077009c46ffb",
   "metadata": {},
   "outputs": [
    {
     "data": {
      "image/jpeg": "[encoded data removed]",
      "text/plain": [
       "<IPython.core.display.Image object>"
      ]
     },
     "metadata": {},
     "output_type": "display_data"
    }
   ],
   "source": [
    "from IPython.display import Image, display\n",
    "display(Image(filename='bengio2003nn.jpeg'))"
   ]
  },
  {
   "cell_type": "markdown",
   "id": "2bc9423c-003c-4f83-948f-b81b216b3a80",
   "metadata": {},
   "source": [
    "This is the **nn** where we are taking e.g. three previous words and we are trying to predict the fourth word in a sequence, where $w_{t-3}$, $w_{t-2}$, $w_{t-1}$ are the indeces of each incoming word. Since there are $17000$ possible words, these indeces are integers between $0-16999$. There's also a lookup table $C$, a matrix that has $17000$ rows (one for each word embedding) and $30$ columns (one for each feature vector/embedding dimension). Every index basically plucks out a row of this embedding matrix so that each index is converted to the $30$-dimensional embedding vector corresponding to that word. Therefore, each word index corresponds to $30$ neuron activations exiting the first layer: $w_{t-3} \\rightarrow C(w_{t-3})$, $w_{t-2} \\rightarrow C(w_{t-2})$, $w_{t-1} \\rightarrow C(w_{t-1})$. Thus, the first layer contains $90$ neurons in total. Notice how the $C$ matrix is shared, which means that we are indexing the same matrix over and over. Next up is the hidden layer of this **nn** whose size is a hyperparameter, meaning that it is up to the choice of the designer how wide, aka how many neurons, it is going to have. For example it could have $100$ or any other number that endows the **nn** with the best performance, after evaluation. This hidden layer is fully connected to the input layer of $90$ neurons, meaning each neuron is connected to each one of this layer's neurons. Then there's a $\\tanh$ non-linearity, and then there's an output layer. And because of course we want the **nn** to give us the next word, the output layer has $17000$ neurons that are also fully connected to the previous (hidden) layer's neurons. So, there's a lot of parameters, as there are a lot of words, so most computation happens in the output layer. Each of this layer's $17000$ logits is passed through a $softmax$ function, meaning they are all exponentiated and then everything is normalized to sum to $1$, so that we have a nice probability distribution $P(w_{t}=i\\ |\\ context)$ for the next word $w_{t}$ in the sequence. During training of course, we have the label or target index: the index of the next word in the sequence which we use to pluck out the probability of that word from that distribution. The point of training is to maximize the probability of that word **w.r.t.** the **nn** parameters, meaning the weights and biases of the output layer, of the hidden layer and of the embedding lookup table $C$. All of these parameters are optimized using **backprop**. Ignore the green dashed arrows in the diagram, they represent a variation of the **nn** we are not going to explore in this lesson. So, what we  described is the setup. Now, let's implement it!"
   ]
  },
  {
   "cell_type": "code",
   "execution_count": 267,
   "id": "067645e9-e2f0-491f-bc34-ed9718838b39",
   "metadata": {},
   "outputs": [],
   "source": [
    "import torch\n",
    "import torch.nn.functional as F\n",
    "import matplotlib.pyplot as plt\n",
    "%matplotlib ipympl"
   ]
  },
  {
   "cell_type": "code",
   "execution_count": 268,
   "id": "b14295ec-a1f0-4c96-8a86-274f4faf04a7",
   "metadata": {},
   "outputs": [
    {
     "data": {
      "text/plain": [
       "['emma', 'olivia', 'ava', 'isabella', 'sophia', 'charlotte', 'mia', 'amelia']"
      ]
     },
     "execution_count": 268,
     "metadata": {},
     "output_type": "execute_result"
    }
   ],
   "source": [
    "# read in all the words\n",
    "words = open(\"names.txt\", \"r\").read().splitlines()\n",
    "words[:8]"
   ]
  },
  {
   "cell_type": "code",
   "execution_count": 269,
   "id": "8f530570-023f-433e-bb18-248e519af93a",
   "metadata": {},
   "outputs": [
    {
     "data": {
      "text/plain": [
       "32033"
      ]
     },
     "execution_count": 269,
     "metadata": {},
     "output_type": "execute_result"
    }
   ],
   "source": [
    "len(words)"
   ]
  },
  {
   "cell_type": "code",
   "execution_count": 270,
   "id": "dc44b7ac-6abb-4a9c-ba4d-df36bf0ff1d8",
   "metadata": {},
   "outputs": [
    {
     "name": "stdout",
     "output_type": "stream",
     "text": [
      "{1: 'a', 2: 'b', 3: 'c', 4: 'd', 5: 'e', 6: 'f', 7: 'g', 8: 'h', 9: 'i', 10: 'j', 11: 'k', 12: 'l', 13: 'm', 14: 'n', 15: 'o', 16: 'p', 17: 'q', 18: 'r', 19: 's', 20: 't', 21: 'u', 22: 'v', 23: 'w', 24: 'x', 25: 'y', 26: 'z', 0: '.'}\n"
     ]
    }
   ],
   "source": [
    "# build the vocabulary of characters and mappings to/from integers\n",
    "chars = sorted(list(set(\"\".join(words))))\n",
    "ctoi = {c: i + 1 for i, c in enumerate(chars)}\n",
    "ctoi[\".\"] = 0\n",
    "itoc = {i: c for c, i in ctoi.items()}\n",
    "print(itoc)"
   ]
  },
  {
   "cell_type": "markdown",
   "id": "40a05667-9527-4f4e-b103-7fedeaae4119",
   "metadata": {},
   "source": [
    "As you can see, we are reading `32033` words into a list and we are creating character-to/from-index mappings. From here, the first thing we want to do is compile the dataset for the **nn**:"
   ]
  },
  {
   "cell_type": "code",
   "execution_count": 271,
   "id": "dc5360ee-d6ff-45c4-b5af-d5c4eee0367f",
   "metadata": {},
   "outputs": [
    {
     "name": "stdout",
     "output_type": "stream",
     "text": [
      "emma\n",
      "... ---> e\n",
      "..e ---> m\n",
      ".em ---> m\n",
      "emm ---> a\n",
      "mma ---> .\n",
      "olivia\n",
      "... ---> o\n",
      "..o ---> l\n",
      ".ol ---> i\n",
      "oli ---> v\n",
      "liv ---> i\n",
      "ivi ---> a\n",
      "via ---> .\n",
      "ava\n",
      "... ---> a\n",
      "..a ---> v\n",
      ".av ---> a\n",
      "ava ---> .\n",
      "isabella\n",
      "... ---> i\n",
      "..i ---> s\n",
      ".is ---> a\n",
      "isa ---> b\n",
      "sab ---> e\n",
      "abe ---> l\n",
      "bel ---> l\n",
      "ell ---> a\n",
      "lla ---> .\n",
      "sophia\n",
      "... ---> s\n",
      "..s ---> o\n",
      ".so ---> p\n",
      "sop ---> h\n",
      "oph ---> i\n",
      "phi ---> a\n",
      "hia ---> .\n",
      "x.shape=torch.Size([32, 3]), y.shape=torch.Size([32])\n",
      "x.dtype=torch.int64, y.dtype=torch.int64\n"
     ]
    }
   ],
   "source": [
    "# context length: how many characters do we take to predict the next one?\n",
    "block_size = 3\n",
    "\n",
    "\n",
    "def build_dataset(words, verbose=False):\n",
    "    x, y = [], []\n",
    "    for w in words:\n",
    "        if verbose:\n",
    "            print(w)\n",
    "        context = [0] * block_size\n",
    "        for ch in w + \".\":\n",
    "            ix = ctoi[ch]\n",
    "            if verbose:\n",
    "                print(\"\".join(itoc[i] for i in context), \"--->\", itoc[ix])\n",
    "            context = context[1:] + [ix]  # crop and append\n",
    "            x.append(context)\n",
    "            y.append(ix)\n",
    "    x = torch.tensor(x)\n",
    "    y = torch.tensor(y)\n",
    "    print(f\"{x.shape=}, {y.shape=}\")\n",
    "    print(f\"{x.dtype=}, {y.dtype=}\")\n",
    "    return x, y\n",
    "\n",
    "\n",
    "x, y = build_dataset(words[:5], verbose=True)"
   ]
  },
  {
   "cell_type": "markdown",
   "id": "671e3c48-36ee-4eb9-b4da-40bac1764a1b",
   "metadata": {},
   "source": [
    "We first define the `block_size` which is how many characters we need to predict the next one. In the example I just described, we used $3$ words to predict the next one. Here, we also use a block size of $3$ and do the same thing, but remember, instead of words we expect characters as inputs and predictions. After defining the block size, we construct `x`: a feature list of word index triplets (e.g. `[[ 0,  0,  5], [ 0,  5, 13], ...]`) that represent the context inputs, and `y`: a list of corresponding target word indeces (e.g. `[ 5, 13, ...]`). In the printout above, you can see for each word's context character triplet, the corresponding target character. E.g. for an input of  `...` the target character is `e`, for `..e` it's `m`, and so on! Change the `block_size` and see the print out for yourself. Notice how we are using dots as padding. After building the dataset, inputs and targets look like this:"
   ]
  },
  {
   "cell_type": "code",
   "execution_count": 272,
   "id": "223368af-1d90-4bd3-84cf-65083c425de3",
   "metadata": {},
   "outputs": [
    {
     "data": {
      "text/plain": [
       "(tensor([[ 0,  0,  5],\n",
       "         [ 0,  5, 13],\n",
       "         [ 5, 13, 13],\n",
       "         [13, 13,  1],\n",
       "         [13,  1,  0],\n",
       "         [ 0,  0, 15],\n",
       "         [ 0, 15, 12],\n",
       "         [15, 12,  9],\n",
       "         [12,  9, 22],\n",
       "         [ 9, 22,  9],\n",
       "         [22,  9,  1],\n",
       "         [ 9,  1,  0],\n",
       "         [ 0,  0,  1],\n",
       "         [ 0,  1, 22],\n",
       "         [ 1, 22,  1],\n",
       "         [22,  1,  0],\n",
       "         [ 0,  0,  9],\n",
       "         [ 0,  9, 19],\n",
       "         [ 9, 19,  1],\n",
       "         [19,  1,  2],\n",
       "         [ 1,  2,  5],\n",
       "         [ 2,  5, 12],\n",
       "         [ 5, 12, 12],\n",
       "         [12, 12,  1],\n",
       "         [12,  1,  0],\n",
       "         [ 0,  0, 19],\n",
       "         [ 0, 19, 15],\n",
       "         [19, 15, 16],\n",
       "         [15, 16,  8],\n",
       "         [16,  8,  9],\n",
       "         [ 8,  9,  1],\n",
       "         [ 9,  1,  0]]),\n",
       " tensor([ 5, 13, 13,  1,  0, 15, 12,  9, 22,  9,  1,  0,  1, 22,  1,  0,  9, 19,\n",
       "          1,  2,  5, 12, 12,  1,  0, 19, 15, 16,  8,  9,  1,  0]))"
      ]
     },
     "execution_count": 272,
     "metadata": {},
     "output_type": "execute_result"
    }
   ],
   "source": [
    "x, y"
   ]
  },
  {
   "cell_type": "markdown",
   "id": "7e1c4eed-b11a-4a10-b4bb-017f2e86cc00",
   "metadata": {},
   "source": [
    "Given these, let's write a **nn** that takes the `x` and predicts `y`. First, let's build the embedding lookup table `C`. In the paper, they have $17000$ words and embed them in spaces as low-dimensional as $30$, so they cram $17000$ into a $30$-dimensional space. In our case, we have only $27$ possible characters, so let's cram them into as small as -let's say- a $2$-dimensional space:"
   ]
  },
  {
   "cell_type": "code",
   "execution_count": 273,
   "id": "37e69cef-cec3-45b7-b74a-95dec1cb60c2",
   "metadata": {},
   "outputs": [
    {
     "data": {
      "text/plain": [
       "tensor([[ 1.5674, -0.2373],\n",
       "        [-0.0274, -1.1008],\n",
       "        [ 0.2859, -0.0296],\n",
       "        [-1.5471,  0.6049],\n",
       "        [ 0.0791,  0.9046],\n",
       "        [-0.4713,  0.7868],\n",
       "        [-0.3284, -0.4330],\n",
       "        [ 1.3729,  2.9334],\n",
       "        [ 1.5618, -1.6261],\n",
       "        [ 0.6772, -0.8404],\n",
       "        [ 0.9849, -0.1484],\n",
       "        [-1.4795,  0.4483],\n",
       "        [-0.0707,  2.4968],\n",
       "        [ 2.4448, -0.6701],\n",
       "        [-1.2199,  0.3031],\n",
       "        [-1.0725,  0.7276],\n",
       "        [ 0.0511,  1.3095],\n",
       "        [-0.8022, -0.8504],\n",
       "        [-1.8068,  1.2523],\n",
       "        [ 0.1476, -1.0006],\n",
       "        [-0.5030, -1.0660],\n",
       "        [ 0.8480,  2.0275],\n",
       "        [-0.1158, -1.2078],\n",
       "        [-1.0406, -1.5367],\n",
       "        [-0.5132,  0.2961],\n",
       "        [-1.4904, -0.2838],\n",
       "        [ 0.2569,  0.2130]])"
      ]
     },
     "execution_count": 273,
     "metadata": {},
     "output_type": "execute_result"
    }
   ],
   "source": [
    "SEED = 2147483647\n",
    "g = torch.Generator().manual_seed(SEED)\n",
    "C = torch.randn((27, 2), generator=g)\n",
    "C"
   ]
  },
  {
   "cell_type": "markdown",
   "id": "20a13cae-0732-4585-ab17-ecef29aaf140",
   "metadata": {},
   "source": [
    "Each of our $27$ characters will have a $2$-dimensional embedding. Therefore, our table `C` will have $27$ rows (one for each character) and $2$ columns (number of dimensions per character embedding). Before we embed all the integers inside input `x` using this lookup table `C`, let's first embed a single, individual character, let's say, $5$, so we get a sense of how this works. One way to do it is to simply index the table using the character index:"
   ]
  },
  {
   "cell_type": "code",
   "execution_count": 274,
   "id": "18c83b3c-5e70-4d9f-ae29-8aa58b2c64aa",
   "metadata": {},
   "outputs": [
    {
     "data": {
      "text/plain": [
       "tensor([-0.4713,  0.7868])"
      ]
     },
     "execution_count": 274,
     "metadata": {},
     "output_type": "execute_result"
    }
   ],
   "source": [
    "C[5]"
   ]
  },
  {
   "cell_type": "markdown",
   "id": "5cee5abb-5de0-4ba7-b17f-717c167d2541",
   "metadata": {},
   "source": [
    "Another way, as we saw in the previous lesson, is to one-hot encode the character:"
   ]
  },
  {
   "cell_type": "code",
   "execution_count": 275,
   "id": "cc1545fc-a10f-488f-a5dd-d50890633c77",
   "metadata": {},
   "outputs": [
    {
     "name": "stdout",
     "output_type": "stream",
     "text": [
      "tensor([0, 0, 0, 0, 0, 1, 0, 0, 0, 0, 0, 0, 0, 0, 0, 0, 0, 0, 0, 0, 0, 0, 0, 0,\n",
      "        0, 0, 0])\n",
      "torch.Size([27])\n"
     ]
    }
   ],
   "source": [
    "ohv = F.one_hot(torch.tensor(5), num_classes=27)\n",
    "print(ohv)\n",
    "print(ohv.shape)"
   ]
  },
  {
   "cell_type": "markdown",
   "id": "35c8d608-b1f9-4740-8023-c82f2cd0fb2c",
   "metadata": {},
   "source": [
    "With this way we get a one-hot encoded representation whose $5$-th element is $1$ and all the rest are $0$. Now, notice how, just as we previously alluded to in the previous lesson, if we take this one-hot vector and we multiply it by `C`:"
   ]
  },
  {
   "cell_type": "code",
   "execution_count": 276,
   "id": "5010822a-a2f6-4c10-80ae-7e77e1908dd2",
   "metadata": {},
   "outputs": [
    {
     "data": {
      "text/plain": [
       "tensor([-0.4713,  0.7868])"
      ]
     },
     "execution_count": 276,
     "metadata": {},
     "output_type": "execute_result"
    }
   ],
   "source": [
    "ohv_matmul_C = ohv.float() @ C\n",
    "ohv_matmul_C"
   ]
  },
  {
   "cell_type": "markdown",
   "id": "3c31221f-954c-488b-b236-6b90c3696d5a",
   "metadata": {},
   "source": [
    "as you can see, they are identical:"
   ]
  },
  {
   "cell_type": "code",
   "execution_count": 277,
   "id": "4d36a866-3b05-41b7-b0a9-e70190107ab3",
   "metadata": {},
   "outputs": [],
   "source": [
    "assert C[5].equal(ohv_matmul_C)"
   ]
  },
  {
   "cell_type": "markdown",
   "id": "60c3ea3a-9e02-49c9-aea2-77b49ca3e7ab",
   "metadata": {},
   "source": [
    "Multiplying a one-hot encoded vector and an appropriate matrix acts like indexing that matrix with the index of the vector that points to element $1$! And so, we actually arrive at the same result. This is interesting since it points out how the first layer of this **nn** (see diagram above) can be thought of as a set of neurons whose weight matrix is `C`, when the inputs (the integer character indeces) are one-hot encoded. Note aside, in order to embed a character, we are just going to simply index the table as it's much faster:"
   ]
  },
  {
   "cell_type": "code",
   "execution_count": 278,
   "id": "39c29e2a-f4ec-4190-9782-fd3fcfc129b7",
   "metadata": {},
   "outputs": [
    {
     "data": {
      "text/plain": [
       "tensor([-0.4713,  0.7868])"
      ]
     },
     "execution_count": 278,
     "metadata": {},
     "output_type": "execute_result"
    }
   ],
   "source": [
    "C[5]"
   ]
  },
  {
   "cell_type": "markdown",
   "id": "ed5cfbf8-259e-40c7-b5af-f55e96d080eb",
   "metadata": {},
   "source": [
    "which is easy for a single character. But what if we want to index more simultaneously? That's also easy:"
   ]
  },
  {
   "cell_type": "code",
   "execution_count": 279,
   "id": "30db9717-1e45-4117-80f6-a53f0166770e",
   "metadata": {},
   "outputs": [
    {
     "data": {
      "text/plain": [
       "tensor([[-0.4713,  0.7868],\n",
       "        [-0.3284, -0.4330],\n",
       "        [ 1.3729,  2.9334]])"
      ]
     },
     "execution_count": 279,
     "metadata": {},
     "output_type": "execute_result"
    }
   ],
   "source": [
    "C[[5, 6, 7]]"
   ]
  },
  {
   "cell_type": "markdown",
   "id": "d03aac0e-c56d-4b46-98b2-1624e697177a",
   "metadata": {},
   "source": [
    "Cool! You can actually index a PyTorch tensor with a list or another tensor. Therefore, to easily get all character embeddings, we can simply do:"
   ]
  },
  {
   "cell_type": "code",
   "execution_count": 280,
   "id": "ddc52cd7-9569-4ce0-9b21-8636211051d4",
   "metadata": {},
   "outputs": [
    {
     "name": "stdout",
     "output_type": "stream",
     "text": [
      "tensor([[[ 1.5674, -0.2373],\n",
      "         [ 1.5674, -0.2373],\n",
      "         [-0.4713,  0.7868]],\n",
      "\n",
      "        [[ 1.5674, -0.2373],\n",
      "         [-0.4713,  0.7868],\n",
      "         [ 2.4448, -0.6701]],\n",
      "\n",
      "        [[-0.4713,  0.7868],\n",
      "         [ 2.4448, -0.6701],\n",
      "         [ 2.4448, -0.6701]],\n",
      "\n",
      "        [[ 2.4448, -0.6701],\n",
      "         [ 2.4448, -0.6701],\n",
      "         [-0.0274, -1.1008]],\n",
      "\n",
      "        [[ 2.4448, -0.6701],\n",
      "         [-0.0274, -1.1008],\n",
      "         [ 1.5674, -0.2373]],\n",
      "\n",
      "        [[ 1.5674, -0.2373],\n",
      "         [ 1.5674, -0.2373],\n",
      "         [-1.0725,  0.7276]],\n",
      "\n",
      "        [[ 1.5674, -0.2373],\n",
      "         [-1.0725,  0.7276],\n",
      "         [-0.0707,  2.4968]],\n",
      "\n",
      "        [[-1.0725,  0.7276],\n",
      "         [-0.0707,  2.4968],\n",
      "         [ 0.6772, -0.8404]],\n",
      "\n",
      "        [[-0.0707,  2.4968],\n",
      "         [ 0.6772, -0.8404],\n",
      "         [-0.1158, -1.2078]],\n",
      "\n",
      "        [[ 0.6772, -0.8404],\n",
      "         [-0.1158, -1.2078],\n",
      "         [ 0.6772, -0.8404]],\n",
      "\n",
      "        [[-0.1158, -1.2078],\n",
      "         [ 0.6772, -0.8404],\n",
      "         [-0.0274, -1.1008]],\n",
      "\n",
      "        [[ 0.6772, -0.8404],\n",
      "         [-0.0274, -1.1008],\n",
      "         [ 1.5674, -0.2373]],\n",
      "\n",
      "        [[ 1.5674, -0.2373],\n",
      "         [ 1.5674, -0.2373],\n",
      "         [-0.0274, -1.1008]],\n",
      "\n",
      "        [[ 1.5674, -0.2373],\n",
      "         [-0.0274, -1.1008],\n",
      "         [-0.1158, -1.2078]],\n",
      "\n",
      "        [[-0.0274, -1.1008],\n",
      "         [-0.1158, -1.2078],\n",
      "         [-0.0274, -1.1008]],\n",
      "\n",
      "        [[-0.1158, -1.2078],\n",
      "         [-0.0274, -1.1008],\n",
      "         [ 1.5674, -0.2373]],\n",
      "\n",
      "        [[ 1.5674, -0.2373],\n",
      "         [ 1.5674, -0.2373],\n",
      "         [ 0.6772, -0.8404]],\n",
      "\n",
      "        [[ 1.5674, -0.2373],\n",
      "         [ 0.6772, -0.8404],\n",
      "         [ 0.1476, -1.0006]],\n",
      "\n",
      "        [[ 0.6772, -0.8404],\n",
      "         [ 0.1476, -1.0006],\n",
      "         [-0.0274, -1.1008]],\n",
      "\n",
      "        [[ 0.1476, -1.0006],\n",
      "         [-0.0274, -1.1008],\n",
      "         [ 0.2859, -0.0296]],\n",
      "\n",
      "        [[-0.0274, -1.1008],\n",
      "         [ 0.2859, -0.0296],\n",
      "         [-0.4713,  0.7868]],\n",
      "\n",
      "        [[ 0.2859, -0.0296],\n",
      "         [-0.4713,  0.7868],\n",
      "         [-0.0707,  2.4968]],\n",
      "\n",
      "        [[-0.4713,  0.7868],\n",
      "         [-0.0707,  2.4968],\n",
      "         [-0.0707,  2.4968]],\n",
      "\n",
      "        [[-0.0707,  2.4968],\n",
      "         [-0.0707,  2.4968],\n",
      "         [-0.0274, -1.1008]],\n",
      "\n",
      "        [[-0.0707,  2.4968],\n",
      "         [-0.0274, -1.1008],\n",
      "         [ 1.5674, -0.2373]],\n",
      "\n",
      "        [[ 1.5674, -0.2373],\n",
      "         [ 1.5674, -0.2373],\n",
      "         [ 0.1476, -1.0006]],\n",
      "\n",
      "        [[ 1.5674, -0.2373],\n",
      "         [ 0.1476, -1.0006],\n",
      "         [-1.0725,  0.7276]],\n",
      "\n",
      "        [[ 0.1476, -1.0006],\n",
      "         [-1.0725,  0.7276],\n",
      "         [ 0.0511,  1.3095]],\n",
      "\n",
      "        [[-1.0725,  0.7276],\n",
      "         [ 0.0511,  1.3095],\n",
      "         [ 1.5618, -1.6261]],\n",
      "\n",
      "        [[ 0.0511,  1.3095],\n",
      "         [ 1.5618, -1.6261],\n",
      "         [ 0.6772, -0.8404]],\n",
      "\n",
      "        [[ 1.5618, -1.6261],\n",
      "         [ 0.6772, -0.8404],\n",
      "         [-0.0274, -1.1008]],\n",
      "\n",
      "        [[ 0.6772, -0.8404],\n",
      "         [-0.0274, -1.1008],\n",
      "         [ 1.5674, -0.2373]]])\n",
      "torch.Size([32, 3, 2])\n"
     ]
    }
   ],
   "source": [
    "emb = C[x]\n",
    "print(emb)\n",
    "print(emb.shape)"
   ]
  },
  {
   "cell_type": "markdown",
   "id": "7a91c46d-4ff7-46e6-bf66-c06782fa1318",
   "metadata": {},
   "source": [
    "Notice the shape: `[<number of character input sets>, <input size>, <number of character embedding dimensions>]`. Indexing as following, we can assert that both ways of representation are valid:"
   ]
  },
  {
   "cell_type": "code",
   "execution_count": 281,
   "id": "72ce3d00-491f-4ae1-8793-cd3e4cdf64e0",
   "metadata": {},
   "outputs": [],
   "source": [
    "assert emb[13, 2].equal(C[x[13, 2]])"
   ]
  },
  {
   "cell_type": "markdown",
   "id": "752ae4f3-7327-4fc7-a721-9c2dfc0b529d",
   "metadata": {},
   "source": [
    "Long story short, PyTorch indexing is awesome and tensors such as embedding tables can be indexed by other tensors, e.g. inputs. One last thing, as far as the first layer is concerned. Since each embedding of our `3` inputs has `2` dimensions, the output dimension of our first layer is basically $3 \\cdot 2 = 6$. Usually, a **nn** layer is described by a pair of input and output dimensions. The input dimension of our first, embeddings layer is $32$ (`<number of character inputs>`). To get the output dimension we have to concatenate the following `<inputs size>` and `<number of character embedding dimensions>` tensor dimensions into one dimension:"
   ]
  },
  {
   "cell_type": "code",
   "execution_count": 282,
   "id": "b421b2c8-16cd-4941-b247-6f935e4ec645",
   "metadata": {},
   "outputs": [
    {
     "data": {
      "text/plain": [
       "torch.Size([32, 6])"
      ]
     },
     "execution_count": 282,
     "metadata": {},
     "output_type": "execute_result"
    }
   ],
   "source": [
    "last_dims = emb.shape[1:]  # get dimensions after the first one\n",
    "last_dims_product = torch.prod(torch.tensor(last_dims)).item()  # multiply them\n",
    "emb_proper = emb.view(-1, last_dims_product)\n",
    "emb_proper.shape  # tada!"
   ]
  },
  {
   "cell_type": "markdown",
   "id": "94535878-8d80-4851-a19c-d9d0254f577c",
   "metadata": {},
   "source": [
    "We have prepared the dimensionality of the first layer. Now, let's implement the hidden, second layer:"
   ]
  },
  {
   "cell_type": "code",
   "execution_count": 283,
   "id": "0546cf09-6973-4f21-bfa0-ed91743e24fd",
   "metadata": {},
   "outputs": [
    {
     "name": "stdout",
     "output_type": "stream",
     "text": [
      "torch.Size([6, 100])\n",
      "torch.Size([100])\n"
     ]
    }
   ],
   "source": [
    "l0out = emb_proper.shape[-1]\n",
    "l1in = l0out\n",
    "l1out = 100  # neurons of hidden layer\n",
    "w1 = torch.randn(l1in, l1out, generator=g)\n",
    "b1 = torch.randn(l1out, generator=g)\n",
    "print(w1.shape)\n",
    "print(b1.shape)"
   ]
  },
  {
   "cell_type": "code",
   "execution_count": 284,
   "id": "14151980-2b0a-496e-8a8b-f193f5a63385",
   "metadata": {},
   "outputs": [
    {
     "data": {
      "text/plain": [
       "tensor([[ 0.2797,  0.9997,  0.7675,  ...,  0.9929,  0.9992,  0.9981],\n",
       "        [-0.9960,  1.0000, -0.8694,  ..., -0.5159, -1.0000, -0.0069],\n",
       "        [-0.9968,  1.0000,  0.9878,  ...,  0.4976, -0.9297, -0.8616],\n",
       "        ...,\n",
       "        [-0.9043,  1.0000,  0.9868,  ..., -0.7859, -0.4819,  0.9981],\n",
       "        [-0.9048,  1.0000,  0.9553,  ...,  0.9866,  1.0000,  0.9907],\n",
       "        [-0.9868,  1.0000,  0.5264,  ...,  0.9843,  0.0223, -0.1655]])"
      ]
     },
     "execution_count": 284,
     "metadata": {},
     "output_type": "execute_result"
    }
   ],
   "source": [
    "h = torch.tanh(emb_proper @ w1 + b1)\n",
    "h"
   ]
  },
  {
   "cell_type": "code",
   "execution_count": 285,
   "id": "83cb44db-df95-49cf-9373-8ed90debff0e",
   "metadata": {},
   "outputs": [
    {
     "data": {
      "text/plain": [
       "torch.Size([32, 100])"
      ]
     },
     "execution_count": 285,
     "metadata": {},
     "output_type": "execute_result"
    }
   ],
   "source": [
    "h.shape"
   ]
  },
  {
   "cell_type": "markdown",
   "id": "51297169-cacc-4115-ac84-2047170bc8e6",
   "metadata": {},
   "source": [
    "Done! And now, to create the output layer:"
   ]
  },
  {
   "cell_type": "code",
   "execution_count": 286,
   "id": "dbebc43b-4e1d-45e4-8027-15e6b3c091b9",
   "metadata": {},
   "outputs": [
    {
     "name": "stdout",
     "output_type": "stream",
     "text": [
      "torch.Size([100, 27])\n",
      "torch.Size([27])\n"
     ]
    }
   ],
   "source": [
    "l2in = l1out\n",
    "l2out = 27  # number of characters\n",
    "w2 = torch.randn(l2in, l2out, generator=g)\n",
    "b2 = torch.randn(l2out, generator=g)\n",
    "print(w2.shape)\n",
    "print(b2.shape)"
   ]
  },
  {
   "cell_type": "code",
   "execution_count": 287,
   "id": "6a3876b0-d2b9-4dc9-aa3f-7868a6f52e02",
   "metadata": {},
   "outputs": [
    {
     "data": {
      "text/plain": [
       "torch.Size([32, 27])"
      ]
     },
     "execution_count": 287,
     "metadata": {},
     "output_type": "execute_result"
    }
   ],
   "source": [
    "logits = h @ w2 + b2\n",
    "logits.shape"
   ]
  },
  {
   "cell_type": "markdown",
   "id": "6a92aabb-1863-4211-bca4-db19f931bd26",
   "metadata": {},
   "source": [
    "Exactly as we saw in the previous lesson, we want to take these logits and we want to first exponentiate them to get our fake counts. Then, we want to normalize them to get the probabilities of how likely it is for each character to come next:"
   ]
  },
  {
   "cell_type": "code",
   "execution_count": 288,
   "id": "c8c092bf-a37f-45ed-a55e-8a2b31521215",
   "metadata": {},
   "outputs": [
    {
     "data": {
      "text/plain": [
       "torch.Size([32, 27])"
      ]
     },
     "execution_count": 288,
     "metadata": {},
     "output_type": "execute_result"
    }
   ],
   "source": [
    "counts = logits.exp()\n",
    "prob = counts / counts.sum(1, keepdims=True)\n",
    "prob.shape"
   ]
  },
  {
   "cell_type": "markdown",
   "id": "530e76b1-4239-43f7-8813-a8d4499162a9",
   "metadata": {},
   "source": [
    "Remember, we also have the the target values `y`, the actual characters that come next that we would like our **nn** to be able to predict:"
   ]
  },
  {
   "cell_type": "code",
   "execution_count": 289,
   "id": "3cae6932-4d7e-4610-9afe-1da9c454ec06",
   "metadata": {},
   "outputs": [
    {
     "data": {
      "text/plain": [
       "tensor([ 5, 13, 13,  1,  0, 15, 12,  9, 22,  9,  1,  0,  1, 22,  1,  0,  9, 19,\n",
       "         1,  2,  5, 12, 12,  1,  0, 19, 15, 16,  8,  9,  1,  0])"
      ]
     },
     "execution_count": 289,
     "metadata": {},
     "output_type": "execute_result"
    }
   ],
   "source": [
    "y"
   ]
  },
  {
   "cell_type": "markdown",
   "id": "f98ec84e-f6eb-4a8a-a165-1a2b3efb2c74",
   "metadata": {},
   "source": [
    "So, what we would like to do now is index into the rows of `prob` and for each row to pluck out the probability given to the correct character:"
   ]
  },
  {
   "cell_type": "code",
   "execution_count": 290,
   "id": "e5c84e96-b259-4e07-8f4e-6ba6ac2d7a64",
   "metadata": {},
   "outputs": [
    {
     "data": {
      "text/plain": [
       "tensor([9.9994e-12, 1.9647e-08, 4.0322e-07, 3.0845e-09, 4.6517e-11, 7.4238e-12,\n",
       "        2.0297e-09, 9.9179e-01, 1.7138e-02, 3.2410e-03, 2.8552e-06, 1.0565e-06,\n",
       "        2.6391e-09, 4.1804e-06, 3.5843e-08, 7.7737e-07, 3.5022e-02, 2.7425e-10,\n",
       "        1.7086e-08, 6.3572e-02, 1.1315e-08, 1.6961e-09, 2.1885e-11, 1.5201e-10,\n",
       "        1.0528e-03, 3.6704e-08, 9.5847e-02, 3.1954e-12, 8.5695e-17, 2.5576e-03,\n",
       "        9.1782e-12, 1.0565e-06])"
      ]
     },
     "execution_count": 290,
     "metadata": {},
     "output_type": "execute_result"
    }
   ],
   "source": [
    "prob[range(len(y)), y]"
   ]
  },
  {
   "cell_type": "markdown",
   "id": "41504c68-e49f-4e8d-909d-6969b999558b",
   "metadata": {},
   "source": [
    "This gives the current probabilities for these specific correct, target characters that come next after each character sequence, given the current **nn** configuration (weights and biases). Currently these probabilities are pretty bad and most characters are pretty unlikely to occur next. Of course, we haven't trained the **nn** yet. So, we want to train it so that each probability approximates `1`. As we saw previously, to do so, we have to define the **loss** and then minimize it:"
   ]
  },
  {
   "cell_type": "code",
   "execution_count": 291,
   "id": "aa8e1daf-6e94-4267-ba68-37edc26ec1c6",
   "metadata": {},
   "outputs": [
    {
     "data": {
      "text/plain": [
       "tensor(16.0342)"
      ]
     },
     "execution_count": 291,
     "metadata": {},
     "output_type": "execute_result"
    }
   ],
   "source": [
    "loss = -prob[range(len(y)), y].log().mean()\n",
    "loss"
   ]
  },
  {
   "cell_type": "markdown",
   "id": "b1ce15c3-0f68-4441-85fc-81f3649ce1cd",
   "metadata": {},
   "source": [
    "Pretty big loss! Haha. Now we will minimize it so our **nn** able to predict the next character in each sequence correctly. To do so, we have to optimize the parameters. Let's define a function that defines them and collects them all into a list just so we have easy access:"
   ]
  },
  {
   "cell_type": "code",
   "execution_count": 292,
   "id": "83d11060-e871-43c5-aabf-d13d3eaba420",
   "metadata": {},
   "outputs": [
    {
     "name": "stdout",
     "output_type": "stream",
     "text": [
      "torch.Size([182625, 3]) torch.Size([182625])\n",
      "torch.Size([22655, 3]) torch.Size([22655])\n",
      "torch.Size([22866, 3]) torch.Size([22866])\n"
     ]
    },
    {
     "data": {
      "text/plain": [
       "3481"
      ]
     },
     "execution_count": 292,
     "metadata": {},
     "output_type": "execute_result"
    }
   ],
   "source": [
    "import random\n",
    "\n",
    "# context length: how many characters do we take to predict the next one?\n",
    "block_size = 3\n",
    "\n",
    "\n",
    "# build the dataset\n",
    "def build_dataset(words):\n",
    "    X, Y = [], []\n",
    "    for w in words:\n",
    "        # print(w)\n",
    "        context = [0] * block_size\n",
    "        for ch in w + \".\":\n",
    "            ix = ctoi[ch]\n",
    "            X.append(context)\n",
    "            Y.append(ix)\n",
    "            # print(''.join(itos[i] for i in context), '--->', itos[ix])\n",
    "            context = context[1:] + [ix]  # crop and append\n",
    "\n",
    "    X = torch.tensor(X)\n",
    "    Y = torch.tensor(Y)\n",
    "    print(X.shape, Y.shape)\n",
    "    return X, Y\n",
    "\n",
    "\n",
    "random.seed(42)\n",
    "random.shuffle(words)\n",
    "n1 = int(0.8 * len(words))\n",
    "n2 = int(0.9 * len(words))\n",
    "\n",
    "Xtr, Ytr = build_dataset(words[:n1])\n",
    "Xdev, Ydev = build_dataset(words[n1:n2])\n",
    "Xte, Yte = build_dataset(words[n2:])\n",
    "\n",
    "\n",
    "def define_nn(l1out=100, embsize=2):\n",
    "    global C, w1, b1, w2, b2\n",
    "    g = torch.Generator().manual_seed(SEED)\n",
    "    C = torch.randn((27, embsize), generator=g)\n",
    "    l1in = embsize * block_size\n",
    "    # l1out: neurons of hidden layer\n",
    "    w1 = torch.randn(l1in, l1out, generator=g)\n",
    "    b1 = torch.randn(l1out, generator=g)\n",
    "    l2in = l1out\n",
    "    l2out = 27  # neurons of output layer, number of characters\n",
    "    w2 = torch.randn(l2in, l2out, generator=g)\n",
    "    b2 = torch.randn(l2out, generator=g)\n",
    "    parameters = [C, w1, b1, w2, b2]\n",
    "    return parameters\n",
    "\n",
    "\n",
    "parameters = define_nn()\n",
    "sum(p.nelement() for p in parameters)"
   ]
  },
  {
   "cell_type": "markdown",
   "id": "1bf2fe85-547f-40b3-b0d6-12202f5450fc",
   "metadata": {},
   "source": [
    "To recap the forward pass:"
   ]
  },
  {
   "cell_type": "code",
   "execution_count": 293,
   "id": "e4b6f850-489f-452f-84a1-e13f60b9cc85",
   "metadata": {},
   "outputs": [
    {
     "data": {
      "text/plain": [
       "tensor(16.0342)"
      ]
     },
     "execution_count": 293,
     "metadata": {},
     "output_type": "execute_result"
    }
   ],
   "source": [
    "emb = C[x]  # [32, 3, 2]\n",
    "last_dims = emb.shape[1:]  # get dimensions after the first one\n",
    "last_dims_product = torch.prod(torch.tensor(last_dims)).item()  # multiply them\n",
    "emb_proper = emb.view(-1, last_dims_product)  # [32, 6]\n",
    "h = torch.tanh(emb_proper @ w1 + b1)  # [32, 100]\n",
    "logits = h @ w2 + b2  # [32, 27]\n",
    "counts = logits.exp()\n",
    "prob = counts / counts.sum(1, keepdims=True)\n",
    "loss = -prob[range(len(y)), y].log().mean()\n",
    "loss"
   ]
  },
  {
   "cell_type": "markdown",
   "id": "6339f2b3-9cfa-4f0b-81cc-06e67d64d111",
   "metadata": {},
   "source": [
    "A better and more efficient way to calculate the **loss** from logits and targets is through the [cross entropy loss function](https://pytorch.org/docs/stable/generated/torch.nn.functional.cross_entropy.html):"
   ]
  },
  {
   "cell_type": "code",
   "execution_count": 294,
   "id": "34a4f3e0-f273-4144-8935-5c181e620641",
   "metadata": {},
   "outputs": [
    {
     "data": {
      "text/plain": [
       "tensor(16.0342)"
      ]
     },
     "execution_count": 294,
     "metadata": {},
     "output_type": "execute_result"
    }
   ],
   "source": [
    "F.cross_entropy(logits, y)"
   ]
  },
  {
   "cell_type": "markdown",
   "id": "91ee465a-df2f-4f26-bf54-e641867e2eb3",
   "metadata": {},
   "source": [
    "Let's tidy up the forward pass:"
   ]
  },
  {
   "cell_type": "code",
   "execution_count": 295,
   "id": "b00a2709-9119-4df1-b64f-cd39acd0058e",
   "metadata": {},
   "outputs": [],
   "source": [
    "def forward_pass(x, y):\n",
    "    emb = C[x]  # [32, 3, 2]\n",
    "    last_dims = emb.shape[1:]  # get dimensions after the first one\n",
    "    last_dims_product = torch.prod(torch.tensor(last_dims)).item()  # multiply them\n",
    "    emb_proper = emb.view(-1, last_dims_product)  # [32, 6]\n",
    "    h = torch.tanh(emb_proper @ w1 + b1)  # [32, 100]\n",
    "    logits = h @ w2 + b2  # [32, 27]\n",
    "    loss = F.cross_entropy(logits, y)\n",
    "    return loss"
   ]
  },
  {
   "cell_type": "markdown",
   "id": "dfde0ad6",
   "metadata": {},
   "source": [
    "## Training the model"
   ]
  },
  {
   "cell_type": "markdown",
   "id": "34d2e7dc-ad53-43ce-8d76-7f20c0fdd12b",
   "metadata": {},
   "source": [
    "And now, let's train our **nn**:"
   ]
  },
  {
   "cell_type": "code",
   "execution_count": 296,
   "id": "3aeeb3d9-3299-46f7-a00a-77c173687b8b",
   "metadata": {
    "tags": []
   },
   "outputs": [],
   "source": [
    "def train(x, y, epochs=10):\n",
    "    parameters = define_nn()\n",
    "    for p in parameters:\n",
    "        p.requires_grad = True\n",
    "    for _ in range(epochs):\n",
    "        loss = forward_pass(x, y)\n",
    "        print(loss.item())\n",
    "        for p in parameters:\n",
    "            p.grad = None\n",
    "        loss.backward()\n",
    "        for p in parameters:\n",
    "            p.data += -0.1 * p.grad"
   ]
  },
  {
   "cell_type": "code",
   "execution_count": 297,
   "id": "91ec7cd3-a888-4a8a-b29d-6f049e2025f7",
   "metadata": {},
   "outputs": [
    {
     "name": "stdout",
     "output_type": "stream",
     "text": [
      "16.034189224243164\n",
      "11.740133285522461\n",
      "9.195296287536621\n",
      "7.302927017211914\n",
      "5.805147647857666\n",
      "4.850736618041992\n",
      "4.184849739074707\n",
      "3.644319534301758\n",
      "3.207334518432617\n",
      "2.843700885772705\n"
     ]
    }
   ],
   "source": [
    "train(x, y)"
   ]
  },
  {
   "cell_type": "markdown",
   "id": "e2d94bc3-295f-460f-87bd-70740f946bba",
   "metadata": {},
   "source": [
    "The **loss** keeps decreasing, which means that the training process is working! Now, since we are only training using a dataset of $5$ words, and since our parameters are many more than the samples we are training on, our **nn** is probably overfitting. What we have to do now, is train on the whole dataset."
   ]
  },
  {
   "cell_type": "code",
   "execution_count": 298,
   "id": "1270714d-2216-4d92-80e4-c11acfe6c9fe",
   "metadata": {},
   "outputs": [
    {
     "name": "stdout",
     "output_type": "stream",
     "text": [
      "torch.Size([228146, 3]) torch.Size([228146])\n"
     ]
    }
   ],
   "source": [
    "x_all, y_all = build_dataset(words)"
   ]
  },
  {
   "cell_type": "code",
   "execution_count": 299,
   "id": "482b2243-ff34-4e58-8276-f3aa703a543f",
   "metadata": {},
   "outputs": [
    {
     "name": "stdout",
     "output_type": "stream",
     "text": [
      "19.505229949951172\n",
      "17.084487915039062\n",
      "15.776533126831055\n",
      "14.833348274230957\n",
      "14.002612113952637\n",
      "13.253267288208008\n",
      "12.579923629760742\n",
      "11.983107566833496\n",
      "11.470502853393555\n",
      "11.05186653137207\n"
     ]
    }
   ],
   "source": [
    "train(x_all, y_all)"
   ]
  },
  {
   "cell_type": "markdown",
   "id": "374585d9-83c3-4b9d-9ae3-e0649def8fd6",
   "metadata": {},
   "source": [
    "Same, the loss for all input samples also keeps decreasing. But, you'll notice that training takes longer now. This is happening because we are doing a lot of work, forward and backward passing on $228146$ examples. That's way too much work! In practice, what people usually do in such cases is they train on minibatches of the whole dataset. So, what we want to do, is we want to randomly select some portion of the dataset, and that's a minibatch! And then, only forward, backward and update on that minibatch, likewise iterate and train on those minibatches. A simple way to implement minibatching is to set a batch size, e.g.:"
   ]
  },
  {
   "cell_type": "code",
   "execution_count": 300,
   "id": "e2fd3752-df7e-4410-9021-e330ac9b1d4b",
   "metadata": {},
   "outputs": [],
   "source": [
    "batchsize = 32"
   ]
  },
  {
   "cell_type": "markdown",
   "id": "eda99949-e6b6-45a5-a727-96b10b6e3818",
   "metadata": {},
   "source": [
    "and then to randomly select `batchsize` number of indeces referencing the subset of input data to be used for minibatch training. To get the indeces you can do something like this:"
   ]
  },
  {
   "cell_type": "code",
   "execution_count": 301,
   "id": "032b2988-2332-49d3-85d2-8a80d465a655",
   "metadata": {},
   "outputs": [
    {
     "name": "stdout",
     "output_type": "stream",
     "text": [
      "tensor([ 51480,  71665, 198628,  80502,  39045,  53856,  99085,  90977,  31245,\n",
      "        142329,  90521,  28944,  46314, 156305,  55163,  25517,  68307, 131545,\n",
      "         31643, 110509,  73427,  10035,  45763,  12701, 150585, 211807, 121731,\n",
      "        178977,  83978,   8497, 141070, 139865])\n"
     ]
    }
   ],
   "source": [
    "batchix = torch.randint(0, x_all.shape[0], (batchsize,))\n",
    "print(batchix)"
   ]
  },
  {
   "cell_type": "markdown",
   "id": "f0e3a51f-221a-4350-8c6b-0c908764bcc7",
   "metadata": {},
   "source": [
    "Then, to actually get a minibatch per epoch, just create a new, random set of indeces and index the samples and targets from the dataset before each forward pass. Like this:"
   ]
  },
  {
   "cell_type": "code",
   "execution_count": 302,
   "id": "56bde375-4042-4e5a-90a8-44e4086f4b3a",
   "metadata": {},
   "outputs": [],
   "source": [
    "def train(x, y, lr=0.1, epochs=10, print_all_losses=True):\n",
    "    parameters = define_nn()\n",
    "    for p in parameters:\n",
    "        p.requires_grad = True\n",
    "    for _ in range(epochs):\n",
    "        batchix = torch.randint(0, x.shape[0], (batchsize,))\n",
    "        bx, by = x[batchix], y[batchix]\n",
    "        loss = forward_pass(bx, by)\n",
    "        if print_all_losses:\n",
    "            print(loss.item())\n",
    "        for p in parameters:\n",
    "            p.grad = None\n",
    "        loss.backward()\n",
    "        for p in parameters:\n",
    "            p.data += -lr * p.grad\n",
    "    if not print_all_losses:\n",
    "        print(loss.item())\n",
    "    return loss.item()"
   ]
  },
  {
   "cell_type": "markdown",
   "id": "9658a162-9fa0-4d7f-8e9c-a8e9e63fe4c0",
   "metadata": {},
   "source": [
    "Now, if we train using minibatches..."
   ]
  },
  {
   "cell_type": "code",
   "execution_count": 303,
   "id": "6993d1fc-0924-4ee3-b902-021374dfc377",
   "metadata": {},
   "outputs": [
    {
     "name": "stdout",
     "output_type": "stream",
     "text": [
      "15.899316787719727\n",
      "16.09111785888672\n",
      "16.234004974365234\n",
      "15.060422897338867\n",
      "13.5868558883667\n",
      "15.529427528381348\n",
      "11.487542152404785\n",
      "11.344415664672852\n",
      "9.724581718444824\n",
      "10.940024375915527\n"
     ]
    },
    {
     "data": {
      "text/plain": [
       "10.940024375915527"
      ]
     },
     "execution_count": 303,
     "metadata": {},
     "output_type": "execute_result"
    }
   ],
   "source": [
    "train(x_all, y_all)"
   ]
  },
  {
   "cell_type": "markdown",
   "id": "566f6c3a-13e7-44db-afa3-ed3dc13405ec",
   "metadata": {},
   "source": [
    "training is much much faster, almost instant! However, since we are dealing with minibatches, the quality of our gradient is lower, so the direction is not as reliable. It's not the actual exact gradient direction, but the gradient direction is good enough even though it's being estimated for only `batchsize` (e.g. `32`) examples. In general, it is better to have an approximate gradient and just make more steps than it is to compute the exact gradient and take fewer steps. And that is why in practice, minibatching works quite well."
   ]
  },
  {
   "cell_type": "markdown",
   "id": "c5b1b1c1",
   "metadata": {},
   "source": [
    "## Finding a good learning rate"
   ]
  },
  {
   "cell_type": "markdown",
   "id": "ff7966a3",
   "metadata": {},
   "source": [
    "Now, one issue that has popped up as you may have noticed, is that during minibatch training the **loss** seems to fluctuate. For some epochs it decreases, but then it increases again, and vice versa. That question that arises from this observation is this: are we stepping too slow or too fast? Meaning, are we updating the parameters by a fraction of their gradients that is too small or too large? Such magnitude is determined by the step size, aka the learning rate. Therefore, the overarching question is: how do you determine this learning rate? How do we gain confidence that we are stepping with the right speed? Let's see one way to determine the learning rate. We basically want to find a reasonable search range, if you will. What people usually do is they pick different learning rate values until they find a satisfactory one. Let's try to find one that is better. We see for example if it is very small:"
   ]
  },
  {
   "cell_type": "code",
   "execution_count": 304,
   "id": "9fe09a23-35a6-48ac-8bd9-0de889ab6bdb",
   "metadata": {},
   "outputs": [
    {
     "name": "stdout",
     "output_type": "stream",
     "text": [
      "18.24540138244629\n",
      "20.861600875854492\n",
      "20.78531837463379\n",
      "17.63834571838379\n",
      "20.344833374023438\n",
      "21.84271812438965\n",
      "22.347801208496094\n",
      "19.216136932373047\n",
      "17.01447296142578\n",
      "18.66942024230957\n",
      "18.722763061523438\n",
      "20.65729522705078\n",
      "20.77342414855957\n",
      "22.31102752685547\n",
      "19.923046112060547\n",
      "18.542171478271484\n",
      "20.77102279663086\n",
      "18.532548904418945\n",
      "17.117938995361328\n",
      "20.746196746826172\n",
      "19.661561965942383\n",
      "21.600265502929688\n",
      "19.275989532470703\n",
      "19.784799575805664\n",
      "17.782482147216797\n",
      "19.037261962890625\n",
      "19.216480255126953\n",
      "18.930334091186523\n",
      "18.221847534179688\n",
      "19.30893898010254\n",
      "19.270708084106445\n",
      "19.962480545043945\n",
      "19.287601470947266\n",
      "17.85296058654785\n",
      "21.124614715576172\n",
      "22.705080032348633\n",
      "22.104063034057617\n",
      "16.698307037353516\n",
      "18.85914421081543\n",
      "19.392297744750977\n",
      "22.07619857788086\n",
      "18.81907081604004\n",
      "23.8288631439209\n",
      "20.166790008544922\n",
      "17.73299217224121\n",
      "17.400875091552734\n",
      "19.622310638427734\n",
      "19.05034065246582\n",
      "21.924135208129883\n",
      "18.062992095947266\n",
      "20.652854919433594\n",
      "18.144512176513672\n",
      "17.412736892700195\n",
      "20.976747512817383\n",
      "17.73956298828125\n",
      "19.767887115478516\n",
      "17.640031814575195\n",
      "16.617385864257812\n",
      "20.548011779785156\n",
      "20.45646095275879\n",
      "20.55938720703125\n",
      "17.397958755493164\n",
      "18.919841766357422\n",
      "20.971784591674805\n",
      "21.926307678222656\n",
      "19.68238639831543\n",
      "18.916358947753906\n",
      "14.023321151733398\n",
      "17.951229095458984\n",
      "20.72664451599121\n",
      "16.780860900878906\n",
      "21.366212844848633\n",
      "19.29319190979004\n",
      "19.745710372924805\n",
      "19.311893463134766\n",
      "18.196964263916016\n",
      "22.077054977416992\n",
      "16.82583999633789\n",
      "17.10335922241211\n",
      "22.279359817504883\n",
      "18.07103157043457\n",
      "18.968069076538086\n",
      "21.01919937133789\n",
      "18.27521514892578\n",
      "19.63558006286621\n",
      "18.82398223876953\n",
      "18.91950225830078\n",
      "18.268936157226562\n",
      "16.554351806640625\n",
      "19.233495712280273\n",
      "19.59535026550293\n",
      "19.337100982666016\n",
      "18.354467391967773\n",
      "18.295698165893555\n",
      "20.372623443603516\n",
      "19.027101516723633\n",
      "22.483333587646484\n",
      "18.059965133666992\n",
      "19.857772827148438\n",
      "19.79486083984375\n"
     ]
    },
    {
     "data": {
      "text/plain": [
       "19.79486083984375"
      ]
     },
     "execution_count": 304,
     "metadata": {},
     "output_type": "execute_result"
    }
   ],
   "source": [
    "train(x_all, y_all, lr=0.0001, epochs=100)"
   ]
  },
  {
   "cell_type": "markdown",
   "id": "bf4398e5-bb18-4d4d-a3dc-3a8a4948ce80",
   "metadata": {},
   "source": [
    "The loss barely decreases. So this value is too low. Let's try something bigger, e.g."
   ]
  },
  {
   "cell_type": "code",
   "execution_count": 305,
   "id": "7f3f8604-8f8b-4b95-9961-74fa873d7456",
   "metadata": {},
   "outputs": [
    {
     "name": "stdout",
     "output_type": "stream",
     "text": [
      "22.813573837280273\n",
      "19.777795791625977\n",
      "18.59852409362793\n",
      "16.4335880279541\n",
      "19.594614028930664\n",
      "17.628135681152344\n",
      "16.55887794494629\n",
      "21.073760986328125\n",
      "21.73491859436035\n",
      "18.39204216003418\n",
      "18.07262420654297\n",
      "19.609291076660156\n",
      "19.699783325195312\n",
      "19.086462020874023\n",
      "16.870758056640625\n",
      "20.960281372070312\n",
      "17.211658477783203\n",
      "19.092052459716797\n",
      "16.570045471191406\n",
      "25.200654983520508\n",
      "16.664220809936523\n",
      "18.315584182739258\n",
      "17.98819351196289\n",
      "18.424978256225586\n",
      "19.078283309936523\n",
      "17.5787353515625\n",
      "19.94275665283203\n",
      "19.471179962158203\n",
      "21.28687286376953\n",
      "16.71489715576172\n",
      "15.23755168914795\n",
      "19.10691261291504\n",
      "17.128822326660156\n",
      "15.47027587890625\n",
      "17.340736389160156\n",
      "17.973234176635742\n",
      "19.38365936279297\n",
      "18.80007553100586\n",
      "20.76317024230957\n",
      "17.874391555786133\n",
      "18.033906936645508\n",
      "21.389223098754883\n",
      "21.442310333251953\n",
      "19.294269561767578\n",
      "18.727636337280273\n",
      "16.233572006225586\n",
      "17.691024780273438\n",
      "15.586821556091309\n",
      "19.51169204711914\n",
      "17.3693790435791\n",
      "17.887582778930664\n",
      "19.60170555114746\n",
      "17.885454177856445\n",
      "18.40400505065918\n",
      "15.443181991577148\n",
      "19.388158798217773\n",
      "18.38195037841797\n",
      "14.82835865020752\n",
      "19.34542465209961\n",
      "17.428211212158203\n",
      "17.537004470825195\n",
      "19.54068374633789\n",
      "19.30177879333496\n",
      "19.292272567749023\n",
      "18.253644943237305\n",
      "19.135089874267578\n",
      "16.16010856628418\n",
      "18.871286392211914\n",
      "18.83571434020996\n",
      "19.089405059814453\n",
      "19.140422821044922\n",
      "20.13551139831543\n",
      "18.426124572753906\n",
      "18.629749298095703\n",
      "18.06684684753418\n",
      "17.15891456604004\n",
      "17.021848678588867\n",
      "18.366418838500977\n",
      "13.989376068115234\n",
      "17.923717498779297\n",
      "19.44900894165039\n",
      "19.56077766418457\n",
      "16.691133499145508\n",
      "12.153372764587402\n",
      "18.81804084777832\n",
      "14.979090690612793\n",
      "17.55841636657715\n",
      "19.090909957885742\n",
      "16.302940368652344\n",
      "17.907611846923828\n",
      "20.507383346557617\n",
      "16.891563415527344\n",
      "16.343639373779297\n",
      "15.167682647705078\n",
      "16.568593978881836\n",
      "16.249649047851562\n",
      "16.476675033569336\n",
      "17.593320846557617\n",
      "18.951135635375977\n",
      "17.69400405883789\n"
     ]
    },
    {
     "data": {
      "text/plain": [
       "17.69400405883789"
      ]
     },
     "execution_count": 305,
     "metadata": {},
     "output_type": "execute_result"
    }
   ],
   "source": [
    "train(x_all, y_all, lr=0.001, epochs=100)"
   ]
  },
  {
   "cell_type": "markdown",
   "id": "35fd55b8-b02f-4ca4-b85d-79f1595396d5",
   "metadata": {},
   "source": [
    "This is ok, but still not good enough. The **loss** value decreases but not steadily and fluctuates a lot. For an even bigger value:"
   ]
  },
  {
   "cell_type": "code",
   "execution_count": 306,
   "id": "d0755e3e-2c10-49e1-bd75-acfa0f1c4cec",
   "metadata": {},
   "outputs": [
    {
     "name": "stdout",
     "output_type": "stream",
     "text": [
      "20.22675895690918\n",
      "15.362257957458496\n",
      "10.38536262512207\n",
      "12.162566184997559\n",
      "9.334121704101562\n",
      "13.384519577026367\n",
      "16.19565200805664\n",
      "11.458481788635254\n",
      "11.90314769744873\n",
      "12.92099666595459\n",
      "9.3458833694458\n",
      "9.435422897338867\n",
      "9.833915710449219\n",
      "7.228318214416504\n",
      "11.119440078735352\n",
      "10.990823745727539\n",
      "9.64590072631836\n",
      "10.205254554748535\n",
      "9.051750183105469\n",
      "11.902676582336426\n",
      "9.728222846984863\n",
      "7.760948181152344\n",
      "10.938937187194824\n",
      "18.097158432006836\n",
      "8.080592155456543\n",
      "6.763341903686523\n",
      "9.553994178771973\n",
      "11.416264533996582\n",
      "9.809564590454102\n",
      "5.329118728637695\n",
      "9.289068222045898\n",
      "11.1480131149292\n",
      "8.40532398223877\n",
      "7.688264846801758\n",
      "7.145375728607178\n",
      "6.926278114318848\n",
      "9.360161781311035\n",
      "9.838079452514648\n",
      "9.653820037841797\n",
      "8.802675247192383\n",
      "8.147910118103027\n",
      "7.622730255126953\n",
      "10.933183670043945\n",
      "12.792342185974121\n",
      "9.146950721740723\n",
      "8.464044570922852\n",
      "7.158176422119141\n",
      "7.433040142059326\n",
      "7.08837890625\n",
      "10.449695587158203\n",
      "8.99998950958252\n",
      "6.807853698730469\n",
      "8.814974784851074\n",
      "11.517963409423828\n",
      "7.438727855682373\n",
      "7.40449857711792\n",
      "7.328055381774902\n",
      "9.122350692749023\n",
      "10.12562370300293\n",
      "13.814223289489746\n",
      "7.373107433319092\n",
      "9.44713306427002\n",
      "7.942165851593018\n",
      "8.993538856506348\n",
      "8.55333423614502\n",
      "8.788561820983887\n",
      "8.588050842285156\n",
      "7.57441520690918\n",
      "7.480805397033691\n",
      "8.423717498779297\n",
      "8.033576011657715\n",
      "11.00777816772461\n",
      "7.211761951446533\n",
      "5.039692401885986\n",
      "5.338847637176514\n",
      "9.257438659667969\n",
      "9.03264045715332\n",
      "6.71760892868042\n",
      "7.40120267868042\n",
      "8.741625785827637\n",
      "7.3318963050842285\n",
      "6.9047746658325195\n",
      "8.00637149810791\n",
      "6.4610676765441895\n",
      "6.419140338897705\n",
      "7.559680461883545\n",
      "7.951794624328613\n",
      "7.296253681182861\n",
      "5.797267913818359\n",
      "5.514153003692627\n",
      "6.533000469207764\n",
      "6.415207862854004\n",
      "7.4762654304504395\n",
      "7.4279022216796875\n",
      "8.79207992553711\n",
      "7.744341850280762\n",
      "3.8956408500671387\n",
      "7.178718566894531\n",
      "7.554642200469971\n",
      "5.142463207244873\n"
     ]
    },
    {
     "data": {
      "text/plain": [
       "5.142463207244873"
      ]
     },
     "execution_count": 306,
     "metadata": {},
     "output_type": "execute_result"
    }
   ],
   "source": [
    "train(x_all, y_all, lr=1, epochs=100)"
   ]
  },
  {
   "cell_type": "markdown",
   "id": "010cfca5-310c-439e-97a5-0fc21ae9166b",
   "metadata": {},
   "source": [
    "Better! How about:"
   ]
  },
  {
   "cell_type": "code",
   "execution_count": 307,
   "id": "6a28c73d-398a-4203-94f7-57f035064ade",
   "metadata": {},
   "outputs": [
    {
     "name": "stdout",
     "output_type": "stream",
     "text": [
      "20.574790954589844\n",
      "42.079002380371094\n",
      "51.793975830078125\n",
      "67.43090057373047\n",
      "73.23493194580078\n",
      "106.6914291381836\n",
      "129.5277557373047\n",
      "157.41281127929688\n",
      "166.6996612548828\n",
      "100.3661117553711\n",
      "132.69525146484375\n",
      "74.83573913574219\n",
      "72.94635009765625\n",
      "72.36138916015625\n",
      "125.54412078857422\n",
      "99.78163146972656\n",
      "48.69985580444336\n",
      "67.46781921386719\n",
      "68.74851989746094\n",
      "70.71520233154297\n",
      "96.75581359863281\n",
      "93.2435531616211\n",
      "85.21178436279297\n",
      "91.52471923828125\n",
      "76.58604431152344\n",
      "62.52436447143555\n",
      "91.66622161865234\n",
      "103.48535919189453\n",
      "64.65076446533203\n",
      "89.61459350585938\n",
      "67.64435577392578\n",
      "91.75218200683594\n",
      "98.89408874511719\n",
      "78.54025268554688\n",
      "86.14921569824219\n",
      "73.02606964111328\n",
      "81.2037353515625\n",
      "73.29808044433594\n",
      "74.99600982666016\n",
      "90.15302276611328\n",
      "94.71469116210938\n",
      "79.38048553466797\n",
      "53.184814453125\n",
      "89.74008178710938\n",
      "92.48657989501953\n",
      "86.58718872070312\n",
      "101.57404327392578\n",
      "142.33616638183594\n",
      "113.40190887451172\n",
      "97.8740234375\n",
      "104.8180160522461\n",
      "103.58460998535156\n",
      "99.89911651611328\n",
      "101.30461883544922\n",
      "119.65367889404297\n",
      "119.2183837890625\n",
      "115.96900939941406\n",
      "155.37767028808594\n",
      "101.03530883789062\n",
      "111.745849609375\n",
      "121.20248413085938\n",
      "114.4203872680664\n",
      "110.9426498413086\n",
      "104.71438598632812\n",
      "95.0526123046875\n",
      "124.86963653564453\n",
      "118.07823944091797\n",
      "81.43020629882812\n",
      "89.3655014038086\n",
      "93.03064727783203\n",
      "126.9797134399414\n",
      "147.95664978027344\n",
      "87.56143951416016\n",
      "51.534873962402344\n",
      "66.5158462524414\n",
      "89.94985961914062\n",
      "93.69261169433594\n",
      "75.34760284423828\n",
      "86.73556518554688\n",
      "96.68403625488281\n",
      "113.61064910888672\n",
      "79.25069427490234\n",
      "83.2549057006836\n",
      "79.26079559326172\n",
      "106.18970489501953\n",
      "101.48216247558594\n",
      "89.71456909179688\n",
      "73.27027893066406\n",
      "90.3226318359375\n",
      "73.0305404663086\n",
      "89.60813903808594\n",
      "73.5730972290039\n",
      "79.1492691040039\n",
      "127.30018615722656\n",
      "88.07129669189453\n",
      "70.32659912109375\n",
      "67.79647827148438\n",
      "93.38719177246094\n",
      "102.87965393066406\n",
      "158.9688720703125\n"
     ]
    },
    {
     "data": {
      "text/plain": [
       "158.9688720703125"
      ]
     },
     "execution_count": 307,
     "metadata": {},
     "output_type": "execute_result"
    }
   ],
   "source": [
    "train(x_all, y_all, lr=10, epochs=100)"
   ]
  },
  {
   "cell_type": "markdown",
   "id": "ea4e2555-aef4-4fba-bb3e-a3bbe7910849",
   "metadata": {},
   "source": [
    "Haha, no thanks. So, we know that a satisfactory learning rate lies between `0.001` and `1`. To find it, we can lay these numbers out, exponentially separated:"
   ]
  },
  {
   "cell_type": "code",
   "execution_count": 308,
   "id": "8e481cfc-0cdc-4709-aedf-c49139e51101",
   "metadata": {},
   "outputs": [
    {
     "data": {
      "text/plain": [
       "tensor([0.0010, 0.0010, 0.0010, 0.0010, 0.0010, 0.0010, 0.0010, 0.0010, 0.0011,\n",
       "        0.0011, 0.0011, 0.0011, 0.0011, 0.0011, 0.0011, 0.0011, 0.0011, 0.0011,\n",
       "        0.0011, 0.0011, 0.0011, 0.0012, 0.0012, 0.0012, 0.0012, 0.0012, 0.0012,\n",
       "        0.0012, 0.0012, 0.0012, 0.0012, 0.0012, 0.0012, 0.0013, 0.0013, 0.0013,\n",
       "        0.0013, 0.0013, 0.0013, 0.0013, 0.0013, 0.0013, 0.0013, 0.0013, 0.0014,\n",
       "        0.0014, 0.0014, 0.0014, 0.0014, 0.0014, 0.0014, 0.0014, 0.0014, 0.0014,\n",
       "        0.0015, 0.0015, 0.0015, 0.0015, 0.0015, 0.0015, 0.0015, 0.0015, 0.0015,\n",
       "        0.0015, 0.0016, 0.0016, 0.0016, 0.0016, 0.0016, 0.0016, 0.0016, 0.0016,\n",
       "        0.0016, 0.0017, 0.0017, 0.0017, 0.0017, 0.0017, 0.0017, 0.0017, 0.0017,\n",
       "        0.0018, 0.0018, 0.0018, 0.0018, 0.0018, 0.0018, 0.0018, 0.0018, 0.0019,\n",
       "        0.0019, 0.0019, 0.0019, 0.0019, 0.0019, 0.0019, 0.0019, 0.0020, 0.0020,\n",
       "        0.0020, 0.0020, 0.0020, 0.0020, 0.0020, 0.0021, 0.0021, 0.0021, 0.0021,\n",
       "        0.0021, 0.0021, 0.0021, 0.0022, 0.0022, 0.0022, 0.0022, 0.0022, 0.0022,\n",
       "        0.0022, 0.0023, 0.0023, 0.0023, 0.0023, 0.0023, 0.0023, 0.0024, 0.0024,\n",
       "        0.0024, 0.0024, 0.0024, 0.0024, 0.0025, 0.0025, 0.0025, 0.0025, 0.0025,\n",
       "        0.0025, 0.0026, 0.0026, 0.0026, 0.0026, 0.0026, 0.0027, 0.0027, 0.0027,\n",
       "        0.0027, 0.0027, 0.0027, 0.0028, 0.0028, 0.0028, 0.0028, 0.0028, 0.0029,\n",
       "        0.0029, 0.0029, 0.0029, 0.0029, 0.0030, 0.0030, 0.0030, 0.0030, 0.0030,\n",
       "        0.0031, 0.0031, 0.0031, 0.0031, 0.0032, 0.0032, 0.0032, 0.0032, 0.0032,\n",
       "        0.0033, 0.0033, 0.0033, 0.0033, 0.0034, 0.0034, 0.0034, 0.0034, 0.0034,\n",
       "        0.0035, 0.0035, 0.0035, 0.0035, 0.0036, 0.0036, 0.0036, 0.0036, 0.0037,\n",
       "        0.0037, 0.0037, 0.0037, 0.0038, 0.0038, 0.0038, 0.0039, 0.0039, 0.0039,\n",
       "        0.0039, 0.0040, 0.0040, 0.0040, 0.0040, 0.0041, 0.0041, 0.0041, 0.0042,\n",
       "        0.0042, 0.0042, 0.0042, 0.0043, 0.0043, 0.0043, 0.0044, 0.0044, 0.0044,\n",
       "        0.0045, 0.0045, 0.0045, 0.0045, 0.0046, 0.0046, 0.0046, 0.0047, 0.0047,\n",
       "        0.0047, 0.0048, 0.0048, 0.0048, 0.0049, 0.0049, 0.0049, 0.0050, 0.0050,\n",
       "        0.0050, 0.0051, 0.0051, 0.0051, 0.0052, 0.0052, 0.0053, 0.0053, 0.0053,\n",
       "        0.0054, 0.0054, 0.0054, 0.0055, 0.0055, 0.0056, 0.0056, 0.0056, 0.0057,\n",
       "        0.0057, 0.0058, 0.0058, 0.0058, 0.0059, 0.0059, 0.0060, 0.0060, 0.0060,\n",
       "        0.0061, 0.0061, 0.0062, 0.0062, 0.0062, 0.0063, 0.0063, 0.0064, 0.0064,\n",
       "        0.0065, 0.0065, 0.0066, 0.0066, 0.0067, 0.0067, 0.0067, 0.0068, 0.0068,\n",
       "        0.0069, 0.0069, 0.0070, 0.0070, 0.0071, 0.0071, 0.0072, 0.0072, 0.0073,\n",
       "        0.0073, 0.0074, 0.0074, 0.0075, 0.0075, 0.0076, 0.0076, 0.0077, 0.0077,\n",
       "        0.0078, 0.0079, 0.0079, 0.0080, 0.0080, 0.0081, 0.0081, 0.0082, 0.0082,\n",
       "        0.0083, 0.0084, 0.0084, 0.0085, 0.0085, 0.0086, 0.0086, 0.0087, 0.0088,\n",
       "        0.0088, 0.0089, 0.0090, 0.0090, 0.0091, 0.0091, 0.0092, 0.0093, 0.0093,\n",
       "        0.0094, 0.0095, 0.0095, 0.0096, 0.0097, 0.0097, 0.0098, 0.0099, 0.0099,\n",
       "        0.0100, 0.0101, 0.0101, 0.0102, 0.0103, 0.0104, 0.0104, 0.0105, 0.0106,\n",
       "        0.0106, 0.0107, 0.0108, 0.0109, 0.0109, 0.0110, 0.0111, 0.0112, 0.0112,\n",
       "        0.0113, 0.0114, 0.0115, 0.0116, 0.0116, 0.0117, 0.0118, 0.0119, 0.0120,\n",
       "        0.0121, 0.0121, 0.0122, 0.0123, 0.0124, 0.0125, 0.0126, 0.0127, 0.0127,\n",
       "        0.0128, 0.0129, 0.0130, 0.0131, 0.0132, 0.0133, 0.0134, 0.0135, 0.0136,\n",
       "        0.0137, 0.0137, 0.0138, 0.0139, 0.0140, 0.0141, 0.0142, 0.0143, 0.0144,\n",
       "        0.0145, 0.0146, 0.0147, 0.0148, 0.0149, 0.0150, 0.0151, 0.0152, 0.0154,\n",
       "        0.0155, 0.0156, 0.0157, 0.0158, 0.0159, 0.0160, 0.0161, 0.0162, 0.0163,\n",
       "        0.0165, 0.0166, 0.0167, 0.0168, 0.0169, 0.0170, 0.0171, 0.0173, 0.0174,\n",
       "        0.0175, 0.0176, 0.0178, 0.0179, 0.0180, 0.0181, 0.0182, 0.0184, 0.0185,\n",
       "        0.0186, 0.0188, 0.0189, 0.0190, 0.0192, 0.0193, 0.0194, 0.0196, 0.0197,\n",
       "        0.0198, 0.0200, 0.0201, 0.0202, 0.0204, 0.0205, 0.0207, 0.0208, 0.0210,\n",
       "        0.0211, 0.0212, 0.0214, 0.0215, 0.0217, 0.0218, 0.0220, 0.0221, 0.0223,\n",
       "        0.0225, 0.0226, 0.0228, 0.0229, 0.0231, 0.0232, 0.0234, 0.0236, 0.0237,\n",
       "        0.0239, 0.0241, 0.0242, 0.0244, 0.0246, 0.0247, 0.0249, 0.0251, 0.0253,\n",
       "        0.0254, 0.0256, 0.0258, 0.0260, 0.0261, 0.0263, 0.0265, 0.0267, 0.0269,\n",
       "        0.0271, 0.0273, 0.0274, 0.0276, 0.0278, 0.0280, 0.0282, 0.0284, 0.0286,\n",
       "        0.0288, 0.0290, 0.0292, 0.0294, 0.0296, 0.0298, 0.0300, 0.0302, 0.0304,\n",
       "        0.0307, 0.0309, 0.0311, 0.0313, 0.0315, 0.0317, 0.0320, 0.0322, 0.0324,\n",
       "        0.0326, 0.0328, 0.0331, 0.0333, 0.0335, 0.0338, 0.0340, 0.0342, 0.0345,\n",
       "        0.0347, 0.0350, 0.0352, 0.0354, 0.0357, 0.0359, 0.0362, 0.0364, 0.0367,\n",
       "        0.0369, 0.0372, 0.0375, 0.0377, 0.0380, 0.0382, 0.0385, 0.0388, 0.0390,\n",
       "        0.0393, 0.0396, 0.0399, 0.0401, 0.0404, 0.0407, 0.0410, 0.0413, 0.0416,\n",
       "        0.0418, 0.0421, 0.0424, 0.0427, 0.0430, 0.0433, 0.0436, 0.0439, 0.0442,\n",
       "        0.0445, 0.0448, 0.0451, 0.0455, 0.0458, 0.0461, 0.0464, 0.0467, 0.0471,\n",
       "        0.0474, 0.0477, 0.0480, 0.0484, 0.0487, 0.0491, 0.0494, 0.0497, 0.0501,\n",
       "        0.0504, 0.0508, 0.0511, 0.0515, 0.0518, 0.0522, 0.0526, 0.0529, 0.0533,\n",
       "        0.0537, 0.0540, 0.0544, 0.0548, 0.0552, 0.0556, 0.0559, 0.0563, 0.0567,\n",
       "        0.0571, 0.0575, 0.0579, 0.0583, 0.0587, 0.0591, 0.0595, 0.0599, 0.0604,\n",
       "        0.0608, 0.0612, 0.0616, 0.0621, 0.0625, 0.0629, 0.0634, 0.0638, 0.0642,\n",
       "        0.0647, 0.0651, 0.0656, 0.0660, 0.0665, 0.0670, 0.0674, 0.0679, 0.0684,\n",
       "        0.0688, 0.0693, 0.0698, 0.0703, 0.0708, 0.0713, 0.0718, 0.0723, 0.0728,\n",
       "        0.0733, 0.0738, 0.0743, 0.0748, 0.0753, 0.0758, 0.0764, 0.0769, 0.0774,\n",
       "        0.0780, 0.0785, 0.0790, 0.0796, 0.0802, 0.0807, 0.0813, 0.0818, 0.0824,\n",
       "        0.0830, 0.0835, 0.0841, 0.0847, 0.0853, 0.0859, 0.0865, 0.0871, 0.0877,\n",
       "        0.0883, 0.0889, 0.0895, 0.0901, 0.0908, 0.0914, 0.0920, 0.0927, 0.0933,\n",
       "        0.0940, 0.0946, 0.0953, 0.0959, 0.0966, 0.0973, 0.0979, 0.0986, 0.0993,\n",
       "        0.1000, 0.1007, 0.1014, 0.1021, 0.1028, 0.1035, 0.1042, 0.1050, 0.1057,\n",
       "        0.1064, 0.1072, 0.1079, 0.1087, 0.1094, 0.1102, 0.1109, 0.1117, 0.1125,\n",
       "        0.1133, 0.1140, 0.1148, 0.1156, 0.1164, 0.1172, 0.1181, 0.1189, 0.1197,\n",
       "        0.1205, 0.1214, 0.1222, 0.1231, 0.1239, 0.1248, 0.1256, 0.1265, 0.1274,\n",
       "        0.1283, 0.1292, 0.1301, 0.1310, 0.1319, 0.1328, 0.1337, 0.1346, 0.1356,\n",
       "        0.1365, 0.1374, 0.1384, 0.1394, 0.1403, 0.1413, 0.1423, 0.1433, 0.1443,\n",
       "        0.1453, 0.1463, 0.1473, 0.1483, 0.1493, 0.1504, 0.1514, 0.1525, 0.1535,\n",
       "        0.1546, 0.1557, 0.1567, 0.1578, 0.1589, 0.1600, 0.1611, 0.1623, 0.1634,\n",
       "        0.1645, 0.1657, 0.1668, 0.1680, 0.1691, 0.1703, 0.1715, 0.1727, 0.1739,\n",
       "        0.1751, 0.1763, 0.1775, 0.1788, 0.1800, 0.1812, 0.1825, 0.1838, 0.1850,\n",
       "        0.1863, 0.1876, 0.1889, 0.1902, 0.1916, 0.1929, 0.1942, 0.1956, 0.1969,\n",
       "        0.1983, 0.1997, 0.2010, 0.2024, 0.2038, 0.2053, 0.2067, 0.2081, 0.2096,\n",
       "        0.2110, 0.2125, 0.2140, 0.2154, 0.2169, 0.2184, 0.2200, 0.2215, 0.2230,\n",
       "        0.2246, 0.2261, 0.2277, 0.2293, 0.2309, 0.2325, 0.2341, 0.2357, 0.2373,\n",
       "        0.2390, 0.2406, 0.2423, 0.2440, 0.2457, 0.2474, 0.2491, 0.2508, 0.2526,\n",
       "        0.2543, 0.2561, 0.2579, 0.2597, 0.2615, 0.2633, 0.2651, 0.2669, 0.2688,\n",
       "        0.2707, 0.2725, 0.2744, 0.2763, 0.2783, 0.2802, 0.2821, 0.2841, 0.2861,\n",
       "        0.2880, 0.2900, 0.2921, 0.2941, 0.2961, 0.2982, 0.3002, 0.3023, 0.3044,\n",
       "        0.3065, 0.3087, 0.3108, 0.3130, 0.3151, 0.3173, 0.3195, 0.3217, 0.3240,\n",
       "        0.3262, 0.3285, 0.3308, 0.3331, 0.3354, 0.3377, 0.3400, 0.3424, 0.3448,\n",
       "        0.3472, 0.3496, 0.3520, 0.3544, 0.3569, 0.3594, 0.3619, 0.3644, 0.3669,\n",
       "        0.3695, 0.3720, 0.3746, 0.3772, 0.3798, 0.3825, 0.3851, 0.3878, 0.3905,\n",
       "        0.3932, 0.3959, 0.3987, 0.4014, 0.4042, 0.4070, 0.4098, 0.4127, 0.4155,\n",
       "        0.4184, 0.4213, 0.4243, 0.4272, 0.4302, 0.4331, 0.4362, 0.4392, 0.4422,\n",
       "        0.4453, 0.4484, 0.4515, 0.4546, 0.4578, 0.4610, 0.4642, 0.4674, 0.4706,\n",
       "        0.4739, 0.4772, 0.4805, 0.4838, 0.4872, 0.4906, 0.4940, 0.4974, 0.5008,\n",
       "        0.5043, 0.5078, 0.5113, 0.5149, 0.5185, 0.5221, 0.5257, 0.5293, 0.5330,\n",
       "        0.5367, 0.5404, 0.5442, 0.5479, 0.5517, 0.5556, 0.5594, 0.5633, 0.5672,\n",
       "        0.5712, 0.5751, 0.5791, 0.5831, 0.5872, 0.5913, 0.5954, 0.5995, 0.6036,\n",
       "        0.6078, 0.6120, 0.6163, 0.6206, 0.6249, 0.6292, 0.6336, 0.6380, 0.6424,\n",
       "        0.6469, 0.6513, 0.6559, 0.6604, 0.6650, 0.6696, 0.6743, 0.6789, 0.6837,\n",
       "        0.6884, 0.6932, 0.6980, 0.7028, 0.7077, 0.7126, 0.7176, 0.7225, 0.7275,\n",
       "        0.7326, 0.7377, 0.7428, 0.7480, 0.7531, 0.7584, 0.7636, 0.7689, 0.7743,\n",
       "        0.7796, 0.7850, 0.7905, 0.7960, 0.8015, 0.8071, 0.8127, 0.8183, 0.8240,\n",
       "        0.8297, 0.8355, 0.8412, 0.8471, 0.8530, 0.8589, 0.8648, 0.8708, 0.8769,\n",
       "        0.8830, 0.8891, 0.8953, 0.9015, 0.9077, 0.9140, 0.9204, 0.9268, 0.9332,\n",
       "        0.9397, 0.9462, 0.9528, 0.9594, 0.9660, 0.9727, 0.9795, 0.9863, 0.9931,\n",
       "        1.0000])"
      ]
     },
     "execution_count": 308,
     "metadata": {},
     "output_type": "execute_result"
    }
   ],
   "source": [
    "step = 1000\n",
    "lre = torch.linspace(-3, 0, step)\n",
    "lrs = 10**lre\n",
    "lrs"
   ]
  },
  {
   "cell_type": "markdown",
   "id": "4f63a38a-872c-413c-8e67-a8cb5cae9c99",
   "metadata": {},
   "source": [
    "then, we plot the loss for each learning rate:"
   ]
  },
  {
   "cell_type": "code",
   "execution_count": 309,
   "id": "d2d7f1ed-8b28-48dd-9a4b-116c9f6ed7ca",
   "metadata": {},
   "outputs": [
    {
     "data": {
      "text/plain": [
       "[<matplotlib.lines.Line2D at 0x7f296d339c90>]"
      ]
     },
     "execution_count": 309,
     "metadata": {},
     "output_type": "execute_result"
    },
    {
     "data": {
      "application/vnd.jupyter.widget-view+json": {
       "model_id": "d87c774979084e7db34d596ccd821ae3",
       "version_major": 2,
       "version_minor": 0
      },
      "image/png": "[encoded data removed]",
      "text/html": [
       "\n",
       "            <div style=\"display: inline-block;\">\n",
       "                <div class=\"jupyter-widgets widget-label\" style=\"text-align: center;\">\n",
       "                    Figure\n",
       "                </div>\n",
       "                <img src='data:image/png;base64,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' width=640.0/>\n",
       "            </div>\n",
       "        "
      ],
      "text/plain": [
       "Canvas(toolbar=Toolbar(toolitems=[('Home', 'Reset original view', 'home', 'home'), ('Back', 'Back to previous …"
      ]
     },
     "metadata": {},
     "output_type": "display_data"
    }
   ],
   "source": [
    "parameters = define_nn()\n",
    "lrei = []\n",
    "lossi = []\n",
    "for p in parameters:\n",
    "    p.requires_grad = True\n",
    "for i in range(1000):\n",
    "    batchix = torch.randint(0, x_all.shape[0], (batchsize,))\n",
    "    bx, by = x_all[batchix], y_all[batchix]\n",
    "    loss = forward_pass(bx, by)\n",
    "    # print(loss.item())\n",
    "    for p in parameters:\n",
    "        p.grad = None\n",
    "    loss.backward()\n",
    "    lr = lrs[i]\n",
    "    for p in parameters:\n",
    "        p.data += -lr * p.grad\n",
    "    lrei.append(lre[i])\n",
    "    lossi.append(loss.item())\n",
    "plt.figure()\n",
    "plt.plot(lrei, lossi)"
   ]
  },
  {
   "cell_type": "markdown",
   "id": "89e6312b-1c82-4c6c-a7a1-0a47bce351a4",
   "metadata": {},
   "source": [
    "Here, we see the **loss** dropping as the exponent of the learning rate starts to increase, then, after a learning rate of around `0.5`, the **loss** starts to increase. A good rule of thumb is to pick a learning rate whose at a point around which the **loss** is the lowest and most stable, before any increasing tendency. Let's pick the learning rate whose exponent corresponds to the lowest **loss**:"
   ]
  },
  {
   "cell_type": "code",
   "execution_count": 310,
   "id": "70da2ab6-fd7c-4569-931c-15e4b39fbd72",
   "metadata": {},
   "outputs": [
    {
     "data": {
      "text/plain": [
       "tensor(0.1000)"
      ]
     },
     "execution_count": 310,
     "metadata": {},
     "output_type": "execute_result"
    }
   ],
   "source": [
    "lr = 10**lrei[lossi.index(min(lossi))]\n",
    "lr"
   ]
  },
  {
   "cell_type": "markdown",
   "id": "5154ac9e-1649-42d1-8793-81e77b09ad56",
   "metadata": {},
   "source": [
    "Now we have some confidence that this is a fairly good learning rate. Now let's train for many epochs using this new learning rate!"
   ]
  },
  {
   "cell_type": "code",
   "execution_count": 311,
   "id": "a6c7b611-263c-46fc-9f5e-16aac8b6705a",
   "metadata": {},
   "outputs": [
    {
     "name": "stdout",
     "output_type": "stream",
     "text": [
      "2.3164093494415283\n"
     ]
    }
   ],
   "source": [
    "_ = train(x_all, y_all, lr=lr, epochs=10000, print_all_losses=False)"
   ]
  },
  {
   "cell_type": "markdown",
   "id": "bdc4ac35-6494-48ef-b755-feb8304cb6d3",
   "metadata": {},
   "source": [
    "Nice. We got a much smaller **loss** after training. We have dramatically improved on the bigram language model, using this simple **nn** of only $3481$ parameters. Now, there's something we have to be careful with. Although our **loss** is the lowest so far, it is not _exactly_ true to say that we now have a better model. The reason is that this is actually a very small model. Even though these kind of models can get much larger by adding more and more parameters, e.g. with $10000$, $100000$ or a million parameters, as the capacity of the **nn** grows, it becomes more and more capable of overfitting your training set. What that means is that the **loss** on the training set (the data that you are training on), will become very very low. As low as $0$. But in such a case, all that the model is doing is memorizing your training set exactly, **verbatim**. So, if you were to take this model and it's working very well, but you try to sample from it, you will only get examples, exactly as they are in the training set. You won't get any new data. In addition to that, if you try to evaluate the **loss** on some withheld names or other input data (e.g. words), you will actually see that the **loss** of those will be very high. And so it is in practice basically not a very good model, since it doesn't generalize. So, it is standard in the field to split up the dataset into $3$ splits, as we call them: the _training_ split (roughly $80\\%$ of data), the _dev_/_validation_ split ($10\\%$) and the _test_ split ($10\\%$)."
   ]
  },
  {
   "cell_type": "code",
   "execution_count": 312,
   "id": "d3a34558-6046-4b81-aa9c-334d288ee9ca",
   "metadata": {},
   "outputs": [],
   "source": [
    "# training split, dev/validation split, test split\n",
    "# 80%, 10%, 10%"
   ]
  },
  {
   "cell_type": "markdown",
   "id": "6e6142c0-ce4c-464a-9f40-23025a588429",
   "metadata": {},
   "source": [
    "Now, the training split is used to optimize the parameters of the model (for training). The validation split is typically used for development and tuning over all the hyperparameters of the model, such as the learning rate, layer width, embedding size, regularization parameters, and other settings, in order to choose a combination that works best on this split. The test split is used to evaluate the performance of the model at the end (after training). So, we are only evaluating the **loss** on the test split very very sparingly and very few times. Because, every single time you evaluate your test **loss** and you learn something from it, you are basically trying to also train on the test split. So, you are only allowed to evaluate the **loss** on the test dataset very few times, otherwise you risk overfitting to it as well, as you experiment on your model. Now, let's actually split our dataset into training, validation and test datasets. Then, we are going to train on the training dataset and only evaluate on the test dataset very very sparingly. Here we go:"
   ]
  },
  {
   "cell_type": "code",
   "execution_count": 313,
   "id": "883e5a68-edf8-4f71-a650-50338b4678d9",
   "metadata": {},
   "outputs": [
    {
     "name": "stdout",
     "output_type": "stream",
     "text": [
      "lenwords=32033\n",
      "25626 words in training set\n",
      "3203 words in validation set\n",
      "3204 words in test\n"
     ]
    }
   ],
   "source": [
    "import random\n",
    "\n",
    "random.seed(42)\n",
    "random.shuffle(words)\n",
    "lenwords = len(words)\n",
    "n1 = int(0.8 * lenwords)\n",
    "n2 = int(0.9 * lenwords)\n",
    "print(f\"{lenwords=}\")\n",
    "print(f\"{n1} words in training set\")\n",
    "print(f\"{n2 - n1} words in validation set\")\n",
    "print(f\"{lenwords - n2} words in test\")"
   ]
  },
  {
   "cell_type": "code",
   "execution_count": 314,
   "id": "a833ab95-93f0-487d-8afb-362e81de9aee",
   "metadata": {},
   "outputs": [
    {
     "name": "stdout",
     "output_type": "stream",
     "text": [
      "torch.Size([182580, 3]) torch.Size([182580])\n",
      "torch.Size([22767, 3]) torch.Size([22767])\n",
      "torch.Size([22799, 3]) torch.Size([22799])\n"
     ]
    }
   ],
   "source": [
    "xtrain, ytrain = build_dataset(words[:n1])\n",
    "xval, yval = build_dataset(words[n1:n2])\n",
    "xtest, ytest = build_dataset(words[n2:])"
   ]
  },
  {
   "cell_type": "markdown",
   "id": "2ca37eff-b76d-4de5-b693-b9a0c52a3d0f",
   "metadata": {},
   "source": [
    "We now have the $3$ split sets. Great! Let's now re-define our parameters train, anew, on the training dataset:"
   ]
  },
  {
   "cell_type": "code",
   "execution_count": 315,
   "id": "b5c755bc-c206-4ff4-adf1-aed344e85e28",
   "metadata": {},
   "outputs": [
    {
     "name": "stdout",
     "output_type": "stream",
     "text": [
      "2.246676445007324\n"
     ]
    }
   ],
   "source": [
    "loss_train = train(xtrain, ytrain, lr=lr, epochs=30000, print_all_losses=False)"
   ]
  },
  {
   "cell_type": "markdown",
   "id": "5beb3b52-f9cd-4bd8-8c34-b03cdb7e88f9",
   "metadata": {},
   "source": [
    "Awesome. Our **nn** has been trained and the final **loss** is actually surprisingly good. Let's now evaluate the **loss** of the validation set (remember, this data was not in the training set on which it was trained):"
   ]
  },
  {
   "cell_type": "code",
   "execution_count": 316,
   "id": "90ea9480-2e04-49fe-b78b-f4f243dc97c7",
   "metadata": {},
   "outputs": [
    {
     "data": {
      "text/plain": [
       "tensor(2.4236, grad_fn=<NllLossBackward0>)"
      ]
     },
     "execution_count": 316,
     "metadata": {},
     "output_type": "execute_result"
    }
   ],
   "source": [
    "loss_val = forward_pass(xval, yval)\n",
    "loss_val"
   ]
  },
  {
   "cell_type": "markdown",
   "id": "23578d78-84d2-4632-abc8-66fbf335aea6",
   "metadata": {},
   "source": [
    "Not too bad! Now, as you can see, our `loss_train` and `loss_val` are pretty close. In fact, they are roughly equal. This means that we are **not** overfitting, but underfitting. It seems that this model is not powerful enough so as not to be purely memorizing the data. Basically, our **nn** is very tiny. But, we can expect to make performance improvements by scaling up the size of this **nn**. The easiest way to do this is to redefine our **nn** with more neurons in the hidden layer:"
   ]
  },
  {
   "cell_type": "code",
   "execution_count": 317,
   "id": "0c1fbfab-74a2-4b32-b781-27e701bc8423",
   "metadata": {},
   "outputs": [],
   "source": [
    "parameters = define_nn(l1out=300)"
   ]
  },
  {
   "cell_type": "markdown",
   "id": "f8e3c70d-da7b-4c20-a646-dee5a9879c56",
   "metadata": {},
   "source": [
    "Then, let's re-train and visualize the loss curve:"
   ]
  },
  {
   "cell_type": "code",
   "execution_count": 318,
   "id": "9853f77d-4228-4643-87dc-681a44cda7ed",
   "metadata": {},
   "outputs": [
    {
     "data": {
      "text/plain": [
       "[<matplotlib.lines.Line2D at 0x7f296d4c0bd0>]"
      ]
     },
     "execution_count": 318,
     "metadata": {},
     "output_type": "execute_result"
    },
    {
     "data": {
      "application/vnd.jupyter.widget-view+json": {
       "model_id": "dc50e10ae736443390ce41a17e59c298",
       "version_major": 2,
       "version_minor": 0
      },
      "image/png": "[encoded data removed]",
      "text/html": [
       "\n",
       "            <div style=\"display: inline-block;\">\n",
       "                <div class=\"jupyter-widgets widget-label\" style=\"text-align: center;\">\n",
       "                    Figure\n",
       "                </div>\n",
       "                <img src='data:image/png;base64,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' width=640.0/>\n",
       "            </div>\n",
       "        "
      ],
      "text/plain": [
       "Canvas(toolbar=Toolbar(toolitems=[('Home', 'Reset original view', 'home', 'home'), ('Back', 'Back to previous …"
      ]
     },
     "metadata": {},
     "output_type": "display_data"
    }
   ],
   "source": [
    "lossi = []\n",
    "stepi = []\n",
    "for p in parameters:\n",
    "    p.requires_grad = True\n",
    "for i in range(30000):\n",
    "    batchix = torch.randint(0, xtrain.shape[0], (batchsize,))\n",
    "    bx, by = xtrain[batchix], ytrain[batchix]\n",
    "    loss = forward_pass(bx, by)\n",
    "    for p in parameters:\n",
    "        p.grad = None\n",
    "    loss.backward()\n",
    "    for p in parameters:\n",
    "        p.data += -lr * p.grad\n",
    "    stepi.append(i)\n",
    "    lossi.append(loss.log10().item())\n",
    "plt.figure()\n",
    "plt.plot(stepi, lossi)"
   ]
  },
  {
   "cell_type": "markdown",
   "id": "08d5eeec-abf7-4934-940a-f2609aba939a",
   "metadata": {},
   "source": [
    "As you can see, it is a bit noisy, but that is just because of the minibatches!"
   ]
  },
  {
   "cell_type": "code",
   "execution_count": 319,
   "id": "0c61e6c7-7363-4b9b-b46a-c4bffdc745ed",
   "metadata": {},
   "outputs": [
    {
     "name": "stdout",
     "output_type": "stream",
     "text": [
      "tensor(2.5797, grad_fn=<NllLossBackward0>)\n",
      "tensor(2.5862, grad_fn=<NllLossBackward0>)\n"
     ]
    }
   ],
   "source": [
    "loss_train = forward_pass(xtrain, ytrain)\n",
    "loss_val = forward_pass(xval, yval)\n",
    "print(loss_train)\n",
    "print(loss_val)"
   ]
  },
  {
   "cell_type": "markdown",
   "id": "6512f188-a1d4-4263-b0ec-3bb45a356958",
   "metadata": {},
   "source": [
    "Awesome, the training loss is actually lower than before, whereas the validation loss is pretty much the same. So, increasing the size of the hidden layer gave us some benefit. Let's experiment more to see if we can get even lower losses by increasing the embedding layer. First though, let's visualize the character embeddings:"
   ]
  },
  {
   "cell_type": "code",
   "execution_count": 320,
   "id": "7ba0f3c6-1fde-4132-931b-20506520c1df",
   "metadata": {},
   "outputs": [
    {
     "data": {
      "application/vnd.jupyter.widget-view+json": {
       "model_id": "aa3f8574a90d4cb490b41f2c775b6841",
       "version_major": 2,
       "version_minor": 0
      },
      "image/png": "[encoded data removed]",
      "text/html": [
       "\n",
       "            <div style=\"display: inline-block;\">\n",
       "                <div class=\"jupyter-widgets widget-label\" style=\"text-align: center;\">\n",
       "                    Figure\n",
       "                </div>\n",
       "                <img src='data:image/png;base64,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' width=800.0/>\n",
       "            </div>\n",
       "        "
      ],
      "text/plain": [
       "Canvas(toolbar=Toolbar(toolitems=[('Home', 'Reset original view', 'home', 'home'), ('Back', 'Back to previous …"
      ]
     },
     "metadata": {},
     "output_type": "display_data"
    }
   ],
   "source": [
    "# visualize dimensions 0 and 1 of the embedding matrix C for all characters\n",
    "plt.figure(figsize=(8, 8))\n",
    "plt.scatter(C[:, 0].data, C[:, 1].data, s=200)\n",
    "for i in range(C.shape[0]):\n",
    "    plt.text(\n",
    "        C[i, 0].item(),\n",
    "        C[i, 1].item(),\n",
    "        itoc[i],\n",
    "        ha=\"center\",\n",
    "        va=\"center\",\n",
    "        color=\"white\",\n",
    "    )\n",
    "plt.grid(\"minor\")"
   ]
  },
  {
   "cell_type": "markdown",
   "id": "6d03e14c-979c-4634-9ec8-ea4211cf4409",
   "metadata": {},
   "source": [
    "The network has basically learned to separate out the characters and cluster them a little bit. For example, it has learned some characters are usually found more closer together than others. Let's try to improve our model loss by choosing a greater embeddings layer size of $10$ and by increasing the number of epochs to $200000$, also we'll decay the learning rate after $100000$ epochs:"
   ]
  },
  {
   "cell_type": "code",
   "execution_count": 321,
   "id": "32827278-a7cd-4ac6-b9af-2d3fb7c0b8e5",
   "metadata": {},
   "outputs": [],
   "source": [
    "parameters = define_nn(l1out=200, embsize=10)"
   ]
  },
  {
   "cell_type": "code",
   "execution_count": 322,
   "id": "cb8110fe-b7b5-401b-946e-816c96666e3b",
   "metadata": {},
   "outputs": [
    {
     "data": {
      "application/vnd.jupyter.widget-view+json": {
       "model_id": "8c1a7fa80dc540e7b0ca390d59cb2f29",
       "version_major": 2,
       "version_minor": 0
      },
      "image/png": "[encoded data removed]",
      "text/html": [
       "\n",
       "            <div style=\"display: inline-block;\">\n",
       "                <div class=\"jupyter-widgets widget-label\" style=\"text-align: center;\">\n",
       "                    Figure\n",
       "                </div>\n",
       "                <img src='data:image/png;base64,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' width=640.0/>\n",
       "            </div>\n",
       "        "
      ],
      "text/plain": [
       "Canvas(toolbar=Toolbar(toolitems=[('Home', 'Reset original view', 'home', 'home'), ('Back', 'Back to previous …"
      ]
     },
     "metadata": {},
     "output_type": "display_data"
    }
   ],
   "source": [
    "lossi = []\n",
    "stepi = []\n",
    "for p in parameters:\n",
    "    p.requires_grad = True\n",
    "for i in range(200000):\n",
    "    batchix = torch.randint(0, xtrain.shape[0], (batchsize,))\n",
    "    bx, by = xtrain[batchix], ytrain[batchix]\n",
    "    loss = forward_pass(bx, by)\n",
    "    for p in parameters:\n",
    "        p.grad = None\n",
    "    loss.backward()\n",
    "    lr = 0.1 if i < 100000 else 0.01\n",
    "    for p in parameters:\n",
    "        p.data += -lr * p.grad\n",
    "    stepi.append(i)\n",
    "    lossi.append(loss.log10().item())\n",
    "plt.figure()\n",
    "plt.plot(stepi, lossi);"
   ]
  },
  {
   "cell_type": "code",
   "execution_count": 323,
   "id": "b2e44e4f-edd7-4ec8-ad6d-46b11d21be38",
   "metadata": {},
   "outputs": [
    {
     "name": "stdout",
     "output_type": "stream",
     "text": [
      "tensor(2.1212, grad_fn=<NllLossBackward0>)\n",
      "tensor(2.1633, grad_fn=<NllLossBackward0>)\n"
     ]
    }
   ],
   "source": [
    "loss_train = forward_pass(xtrain, ytrain)\n",
    "loss_val = forward_pass(xval, yval)\n",
    "print(loss_train)\n",
    "print(loss_val)"
   ]
  },
  {
   "cell_type": "markdown",
   "id": "692edbca-456a-42dd-955f-6dc212e2f098",
   "metadata": {},
   "source": [
    "Wow, we did it! Both train and validation losses are lower now. Can we go lower? Play around and find out! Now, before we end this lesson, let's sample from our model:"
   ]
  },
  {
   "cell_type": "code",
   "execution_count": 324,
   "id": "d0eb7ba3-1ebf-4ba1-9e8f-0e435e3ca55a",
   "metadata": {},
   "outputs": [
    {
     "name": "stdout",
     "output_type": "stream",
     "text": [
      "mona.\n",
      "mayah.\n",
      "keel.\n",
      "ndyn.\n",
      "alayenna.\n",
      "jengrace.\n",
      "azeer.\n",
      "melin.\n",
      "shy.\n",
      "jen.\n",
      "eden.\n",
      "van.\n",
      "nar.\n",
      "kayzion.\n",
      "kalin.\n",
      "shonnigavianne.\n",
      "kindreelynn.\n",
      "nophir.\n",
      "uze.\n",
      "ged.\n"
     ]
    }
   ],
   "source": [
    "# sample from the model\n",
    "g = torch.Generator().manual_seed(2147483647 + 10)\n",
    "for _ in range(20):    \n",
    "    out = []\n",
    "    context = [0] * block_size # initialize with all ...\n",
    "    while True:\n",
    "        emb = C[torch.tensor([context])] # (1,block_size,d)\n",
    "        h = torch.tanh(emb.view(1, -1) @ w1 + b1)\n",
    "        logits = h @ w2 + b2\n",
    "        probs = F.softmax(logits, dim=1)\n",
    "        ix = torch.multinomial(probs, num_samples=1, generator=g).item()\n",
    "        context = context[1:] + [ix]\n",
    "        out.append(ix)\n",
    "        if ix == 0:\n",
    "            break\n",
    "    print(''.join(itoc[i] for i in out))"
   ]
  },
  {
   "cell_type": "markdown",
   "id": "f1738f7f",
   "metadata": {},
   "source": [
    "## Outro"
   ]
  },
  {
   "cell_type": "markdown",
   "id": "4ef2c357-c347-4436-85c6-20eed1f71bdb",
   "metadata": {},
   "source": [
    "As you can see, our model now is pretty decent and able to produce suprisingly name-like text, which is what we wanted all along! Next up, we will explore **mlp** internals and other such magic."
   ]
  }
 ],
 "metadata": {
  "kernelspec": {
   "display_name": "micrograduate",
   "language": "python",
   "name": "python3"
  },
  "language_info": {
   "codemirror_mode": {
    "name": "ipython",
    "version": 3
   },
   "file_extension": ".py",
   "mimetype": "text/x-python",
   "name": "python",
   "nbconvert_exporter": "python",
   "pygments_lexer": "ipython3",
   "version": "3.11.3"
  }
 },
 "nbformat": 4,
 "nbformat_minor": 5
}
