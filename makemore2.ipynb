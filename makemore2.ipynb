{
 "cells": [
  {
   "cell_type": "markdown",
   "id": "5094a092-245c-4d20-9cc7-ead263ede1bd",
   "metadata": {
    "tags": []
   },
   "source": [
    "# 3. **makemore** (part 2): mlp"
   ]
  },
  {
   "cell_type": "code",
   "execution_count": 1,
   "id": "b24d73f7",
   "metadata": {},
   "outputs": [],
   "source": [
    "import sys\n",
    "\n",
    "IN_COLAB = \"google.colab\" in sys.modules\n",
    "if IN_COLAB:\n",
    "    print(\"Running in Google Colab.\")\n",
    "    print(\"Cloning repo...\")\n",
    "    !git clone https://github.com/ckarageorgkaneen/micrograduate.git\n",
    "    %cd micrograduate\n",
    "    print(\"Installing package...\")\n",
    "    !pip install -e ."
   ]
  },
  {
   "cell_type": "markdown",
   "id": "042c805e",
   "metadata": {},
   "source": [
    "## Intro"
   ]
  },
  {
   "cell_type": "markdown",
   "id": "1c3d337a-cc28-4db0-9cd7-9684437068a9",
   "metadata": {},
   "source": [
    "Time to make more out of **makemore**! In the last lesson, we implemented the bigram language model, both using counts and a super simple, 1-linear-layer **nn**. How we approach training is that we looked only at the single previous character and we predicted a distribution for the character coming next in the sequence. We did that by taking counts and normalizing them into probabilities so that each row in the count matrix sums to $1$. This method is great if you only have one character of previous context. The problem with that model though is that predictions are not very good. Another problem, if we are to take more context into account, is that the counts in the matrix grow exponentially as we increase the length of the context. For just $1$ character of context we have $27$ rows, each representing the next possible character. For $2$ characters, the number of rows would grow to $27 \\cdot 27 = 729$. Whereas for $3$ characters, it would explode to $27 \\cdot 27 \\cdot 27 = 19683$, and so on. This solution simply doesn't scale well and explodes. That is why we are going to move on and instead implement an **mlp** model to predict the next character in a sequence."
   ]
  },
  {
   "cell_type": "markdown",
   "id": "2aab4840",
   "metadata": {},
   "source": [
    "## Building a **mlp** language model"
   ]
  },
  {
   "cell_type": "markdown",
   "id": "f25c2bce",
   "metadata": {},
   "source": [
    "The modeling approach we are going to adopt follows [Bengio et al. 2003](https://dl.acm.org/doi/10.5555/944919.944966), an important paper that we are going to implement. Although they implement a word-level language model, we are going to stick to our character-level language model, but follow the same approach. The authors propose associating each and every word (out of e.g. $17000$) with a feature vector (e.g. of $30$ dimensions). In other words, every word is a point that is embedded into a $30$-dimensional space. You can think of it this way. We have $17000$ point-vectors in a $30$-dimensional space. As you can imagine, that is very crowded, that's lots of points for a very small space. Now, in the beginning, these words are initialized completely randomly: they are spread out at random. But, then we are going to tune these embeddings of these words using **backprop**. So during the course of training of this **nn**, these point-vectors are going to basically be moved around in this space. And you might imagine that, for example, words that have very similar meanings or that are indeed synonyms of each other might end up in a very similar part of the vector space, and, conversely, words with very different meanings will go somewhere else in that space. Now, their modeling approach otherwise is identical to what ours has been so far. They are using a **mlp** **nn** to predict the next word, given the previous words and to train the **nn** they are maximizing the log-likehood of the training data, just like we did. Here, is their example of this intuition: suppose the exact phrase *`a dog was running in a`* has never occured and at test time we want our model to complete the sentence by predicting the word that might follow it (e.g. *`room`*). Because the model has never encountered this exact phrase in the training set, it is out of distribution, as we say. Meaning, you don't have fundamentally any reason to suspect what might come next. However, the approach we are following allows you to get around such suspicion. Maybe we haven't seen the exact phrase, but maybe we have seen similar phrases like: *`the dog was running in a`* and maybe your **nn** has learned that *`a`* and *`the`* are frequently interchangeble with each other. So maybe our model took the embeddings for *`a`* and *`the`* and it actually put them nearby eachother in the vector space. Thus, you can transfer knowledge through such an embedding and generalize in that way. Similarly, it can do the same with other similar words such that a phrase such as *`The cat is walking in the bedroom`* can help us generalize to a diserable or at least valid sentence like *`a dog was running in a`* **`room`** by merit of the magic of feature vector similarity after training! To put it more simply, manipulating the embedding space allows us to transfer knowledge, predict and generalize to novel scenarios even when fed inputs like the sequence of words mentioned that we have not trained on. If you scroll down the paper, you will see the following diagram:"
   ]
  },
  {
   "cell_type": "code",
   "execution_count": 2,
   "id": "a2d9ef42-b167-4107-8e80-077009c46ffb",
   "metadata": {},
   "outputs": [
    {
     "data": {
      "image/jpeg": "[encoded data removed]",
      "text/plain": [
       "<IPython.core.display.Image object>"
      ]
     },
     "metadata": {},
     "output_type": "display_data"
    }
   ],
   "source": [
    "from IPython.display import Image, display\n",
    "display(Image(filename='bengio2003nn.jpeg'))"
   ]
  },
  {
   "cell_type": "markdown",
   "id": "2bc9423c-003c-4f83-948f-b81b216b3a80",
   "metadata": {},
   "source": [
    "This is the **nn** where we are taking e.g. three previous words and we are trying to predict the fourth word in a sequence, where $w_{t-3}$, $w_{t-2}$, $w_{t-1}$ are the indeces of each incoming word. Since there are $17000$ possible words, these indeces are integers between $0-16999$. There's also a lookup table $C$, a matrix that has $17000$ rows (one for each word embedding) and $30$ columns (one for each feature vector/embedding dimension). Every index basically plucks out a row of this embedding matrix so that each index is converted to the $30$-dimensional embedding vector corresponding to that word. Therefore, each word index corresponds to $30$ neuron activations exiting the first layer: $w_{t-3} \\rightarrow C(w_{t-3})$, $w_{t-2} \\rightarrow C(w_{t-2})$, $w_{t-1} \\rightarrow C(w_{t-1})$. Thus, the first layer contains $90$ neurons in total. Notice how the $C$ matrix is shared, which means that we are indexing the same matrix over and over. Next up is the hidden layer of this **nn** whose size is a hyperparameter, meaning that it is up to the choice of the designer how wide, aka how many neurons, it is going to have. For example it could have $100$ or any other number that endows the **nn** with the best performance, after evaluation. This hidden layer is fully connected to the input layer of $90$ neurons, meaning each neuron is connected to each one of this layer's neurons. Then there's a $\\tanh$ non-linearity, and then there's an output layer. And because of course we want the **nn** to give us the next word, the output layer has $17000$ neurons that are also fully connected to the previous (hidden) layer's neurons. So, there's a lot of parameters, as there are a lot of words, so most computation happens in the output layer. Each of this layer's $17000$ logits is passed through a $softmax$ function, meaning they are all exponentiated and then everything is normalized to sum to $1$, so that we have a nice probability distribution $P(w_{t}=i\\ |\\ context)$ for the next word $w_{t}$ in the sequence. During training of course, we have the label or target index: the index of the next word in the sequence which we use to pluck out the probability of that word from that distribution. The point of training is to maximize the probability of that word **w.r.t.** the **nn** parameters, meaning the weights and biases of the output layer, of the hidden layer and of the embedding lookup table $C$. All of these parameters are optimized using **backprop**. Ignore the green dashed arrows in the diagram, they represent a variation of the **nn** we are not going to explore in this lesson. So, what we  described is the setup. Now, let's implement it!"
   ]
  },
  {
   "cell_type": "code",
   "execution_count": 3,
   "id": "067645e9-e2f0-491f-bc34-ed9718838b39",
   "metadata": {},
   "outputs": [],
   "source": [
    "import torch\n",
    "import torch.nn.functional as F\n",
    "import matplotlib.pyplot as plt\n",
    "if IN_COLAB:\n",
    "    %matplotlib inline\n",
    "else:\n",
    "    %matplotlib ipympl"
   ]
  },
  {
   "cell_type": "code",
   "execution_count": 4,
   "id": "b14295ec-a1f0-4c96-8a86-274f4faf04a7",
   "metadata": {},
   "outputs": [
    {
     "data": {
      "text/plain": [
       "['emma', 'olivia', 'ava', 'isabella', 'sophia', 'charlotte', 'mia', 'amelia']"
      ]
     },
     "execution_count": 4,
     "metadata": {},
     "output_type": "execute_result"
    }
   ],
   "source": [
    "# read in all the words\n",
    "words = open(\"names.txt\", \"r\").read().splitlines()\n",
    "words[:8]"
   ]
  },
  {
   "cell_type": "code",
   "execution_count": 5,
   "id": "8f530570-023f-433e-bb18-248e519af93a",
   "metadata": {},
   "outputs": [
    {
     "data": {
      "text/plain": [
       "32033"
      ]
     },
     "execution_count": 5,
     "metadata": {},
     "output_type": "execute_result"
    }
   ],
   "source": [
    "len(words)"
   ]
  },
  {
   "cell_type": "code",
   "execution_count": 6,
   "id": "dc44b7ac-6abb-4a9c-ba4d-df36bf0ff1d8",
   "metadata": {},
   "outputs": [
    {
     "name": "stdout",
     "output_type": "stream",
     "text": [
      "{1: 'a', 2: 'b', 3: 'c', 4: 'd', 5: 'e', 6: 'f', 7: 'g', 8: 'h', 9: 'i', 10: 'j', 11: 'k', 12: 'l', 13: 'm', 14: 'n', 15: 'o', 16: 'p', 17: 'q', 18: 'r', 19: 's', 20: 't', 21: 'u', 22: 'v', 23: 'w', 24: 'x', 25: 'y', 26: 'z', 0: '.'}\n"
     ]
    }
   ],
   "source": [
    "# build the vocabulary of characters and mappings to/from integers\n",
    "chars = sorted(list(set(\"\".join(words))))\n",
    "ctoi = {c: i + 1 for i, c in enumerate(chars)}\n",
    "ctoi[\".\"] = 0\n",
    "itoc = {i: c for c, i in ctoi.items()}\n",
    "print(itoc)"
   ]
  },
  {
   "cell_type": "markdown",
   "id": "40a05667-9527-4f4e-b103-7fedeaae4119",
   "metadata": {},
   "source": [
    "As you can see, we are reading `32033` words into a list and we are creating character-to/from-index mappings. From here, the first thing we want to do is compile the dataset for the **nn**:"
   ]
  },
  {
   "cell_type": "code",
   "execution_count": 7,
   "id": "dc5360ee-d6ff-45c4-b5af-d5c4eee0367f",
   "metadata": {},
   "outputs": [
    {
     "name": "stdout",
     "output_type": "stream",
     "text": [
      "emma\n",
      "... ---> e\n",
      "..e ---> m\n",
      ".em ---> m\n",
      "emm ---> a\n",
      "mma ---> .\n",
      "olivia\n",
      "... ---> o\n",
      "..o ---> l\n",
      ".ol ---> i\n",
      "oli ---> v\n",
      "liv ---> i\n",
      "ivi ---> a\n",
      "via ---> .\n",
      "ava\n",
      "... ---> a\n",
      "..a ---> v\n",
      ".av ---> a\n",
      "ava ---> .\n",
      "isabella\n",
      "... ---> i\n",
      "..i ---> s\n",
      ".is ---> a\n",
      "isa ---> b\n",
      "sab ---> e\n",
      "abe ---> l\n",
      "bel ---> l\n",
      "ell ---> a\n",
      "lla ---> .\n",
      "sophia\n",
      "... ---> s\n",
      "..s ---> o\n",
      ".so ---> p\n",
      "sop ---> h\n",
      "oph ---> i\n",
      "phi ---> a\n",
      "hia ---> .\n",
      "x.shape=torch.Size([32, 3]), y.shape=torch.Size([32])\n",
      "x.dtype=torch.int64, y.dtype=torch.int64\n"
     ]
    }
   ],
   "source": [
    "# context length: how many characters do we take to predict the next one?\n",
    "block_size = 3\n",
    "\n",
    "\n",
    "def build_dataset(words, verbose=False):\n",
    "    x, y = [], []\n",
    "    for w in words:\n",
    "        if verbose:\n",
    "            print(w)\n",
    "        context = [0] * block_size\n",
    "        for ch in w + \".\":\n",
    "            ix = ctoi[ch]\n",
    "            if verbose:\n",
    "                print(\"\".join(itoc[i] for i in context), \"--->\", itoc[ix])\n",
    "            context = context[1:] + [ix]  # crop and append\n",
    "            x.append(context)\n",
    "            y.append(ix)\n",
    "    x = torch.tensor(x)\n",
    "    y = torch.tensor(y)\n",
    "    print(f\"{x.shape=}, {y.shape=}\")\n",
    "    print(f\"{x.dtype=}, {y.dtype=}\")\n",
    "    return x, y\n",
    "\n",
    "\n",
    "x, y = build_dataset(words[:5], verbose=True)"
   ]
  },
  {
   "cell_type": "markdown",
   "id": "671e3c48-36ee-4eb9-b4da-40bac1764a1b",
   "metadata": {},
   "source": [
    "We first define the `block_size` which is how many characters we need to predict the next one. In the example I just described, we used $3$ words to predict the next one. Here, we also use a block size of $3$ and do the same thing, but remember, instead of words we expect characters as inputs and predictions. After defining the block size, we construct `x`: a feature list of word index triplets (e.g. `[[ 0,  0,  5], [ 0,  5, 13], ...]`) that represent the context inputs, and `y`: a list of corresponding target word indeces (e.g. `[ 5, 13, ...]`). In the printout above, you can see for each word's context character triplet, the corresponding target character. E.g. for an input of  `...` the target character is `e`, for `..e` it's `m`, and so on! Change the `block_size` and see the print out for yourself. Notice how we are using dots as padding. After building the dataset, inputs and targets look like this:"
   ]
  },
  {
   "cell_type": "code",
   "execution_count": 8,
   "id": "223368af-1d90-4bd3-84cf-65083c425de3",
   "metadata": {},
   "outputs": [
    {
     "data": {
      "text/plain": [
       "(tensor([[ 0,  0,  5],\n",
       "         [ 0,  5, 13],\n",
       "         [ 5, 13, 13],\n",
       "         [13, 13,  1],\n",
       "         [13,  1,  0],\n",
       "         [ 0,  0, 15],\n",
       "         [ 0, 15, 12],\n",
       "         [15, 12,  9],\n",
       "         [12,  9, 22],\n",
       "         [ 9, 22,  9],\n",
       "         [22,  9,  1],\n",
       "         [ 9,  1,  0],\n",
       "         [ 0,  0,  1],\n",
       "         [ 0,  1, 22],\n",
       "         [ 1, 22,  1],\n",
       "         [22,  1,  0],\n",
       "         [ 0,  0,  9],\n",
       "         [ 0,  9, 19],\n",
       "         [ 9, 19,  1],\n",
       "         [19,  1,  2],\n",
       "         [ 1,  2,  5],\n",
       "         [ 2,  5, 12],\n",
       "         [ 5, 12, 12],\n",
       "         [12, 12,  1],\n",
       "         [12,  1,  0],\n",
       "         [ 0,  0, 19],\n",
       "         [ 0, 19, 15],\n",
       "         [19, 15, 16],\n",
       "         [15, 16,  8],\n",
       "         [16,  8,  9],\n",
       "         [ 8,  9,  1],\n",
       "         [ 9,  1,  0]]),\n",
       " tensor([ 5, 13, 13,  1,  0, 15, 12,  9, 22,  9,  1,  0,  1, 22,  1,  0,  9, 19,\n",
       "          1,  2,  5, 12, 12,  1,  0, 19, 15, 16,  8,  9,  1,  0]))"
      ]
     },
     "execution_count": 8,
     "metadata": {},
     "output_type": "execute_result"
    }
   ],
   "source": [
    "x, y"
   ]
  },
  {
   "cell_type": "markdown",
   "id": "7e1c4eed-b11a-4a10-b4bb-017f2e86cc00",
   "metadata": {},
   "source": [
    "Given these, let's write a **nn** that takes the `x` and predicts `y`. First, let's build the embedding lookup table `C`. In the paper, they have $17000$ words and embed them in spaces as low-dimensional as $30$, so they cram $17000$ into a $30$-dimensional space. In our case, we have only $27$ possible characters, so let's cram them into as small as -let's say- a $2$-dimensional space:"
   ]
  },
  {
   "cell_type": "code",
   "execution_count": 9,
   "id": "37e69cef-cec3-45b7-b74a-95dec1cb60c2",
   "metadata": {},
   "outputs": [
    {
     "data": {
      "text/plain": [
       "tensor([[ 1.5674, -0.2373],\n",
       "        [-0.0274, -1.1008],\n",
       "        [ 0.2859, -0.0296],\n",
       "        [-1.5471,  0.6049],\n",
       "        [ 0.0791,  0.9046],\n",
       "        [-0.4713,  0.7868],\n",
       "        [-0.3284, -0.4330],\n",
       "        [ 1.3729,  2.9334],\n",
       "        [ 1.5618, -1.6261],\n",
       "        [ 0.6772, -0.8404],\n",
       "        [ 0.9849, -0.1484],\n",
       "        [-1.4795,  0.4483],\n",
       "        [-0.0707,  2.4968],\n",
       "        [ 2.4448, -0.6701],\n",
       "        [-1.2199,  0.3031],\n",
       "        [-1.0725,  0.7276],\n",
       "        [ 0.0511,  1.3095],\n",
       "        [-0.8022, -0.8504],\n",
       "        [-1.8068,  1.2523],\n",
       "        [ 0.1476, -1.0006],\n",
       "        [-0.5030, -1.0660],\n",
       "        [ 0.8480,  2.0275],\n",
       "        [-0.1158, -1.2078],\n",
       "        [-1.0406, -1.5367],\n",
       "        [-0.5132,  0.2961],\n",
       "        [-1.4904, -0.2838],\n",
       "        [ 0.2569,  0.2130]])"
      ]
     },
     "execution_count": 9,
     "metadata": {},
     "output_type": "execute_result"
    }
   ],
   "source": [
    "SEED = 2147483647\n",
    "g = torch.Generator().manual_seed(SEED)\n",
    "C = torch.randn((27, 2), generator=g)\n",
    "C"
   ]
  },
  {
   "cell_type": "markdown",
   "id": "20a13cae-0732-4585-ab17-ecef29aaf140",
   "metadata": {},
   "source": [
    "Each of our $27$ characters will have a $2$-dimensional embedding. Therefore, our table `C` will have $27$ rows (one for each character) and $2$ columns (number of dimensions per character embedding). Before we embed all the integers inside input `x` using this lookup table `C`, let's first embed a single, individual character, let's say, $5$, so we get a sense of how this works. One way to do it is to simply index the table using the character index:"
   ]
  },
  {
   "cell_type": "code",
   "execution_count": 10,
   "id": "18c83b3c-5e70-4d9f-ae29-8aa58b2c64aa",
   "metadata": {},
   "outputs": [
    {
     "data": {
      "text/plain": [
       "tensor([-0.4713,  0.7868])"
      ]
     },
     "execution_count": 10,
     "metadata": {},
     "output_type": "execute_result"
    }
   ],
   "source": [
    "C[5]"
   ]
  },
  {
   "cell_type": "markdown",
   "id": "5cee5abb-5de0-4ba7-b17f-717c167d2541",
   "metadata": {},
   "source": [
    "Another way, as we saw in the previous lesson, is to one-hot encode the character:"
   ]
  },
  {
   "cell_type": "code",
   "execution_count": 11,
   "id": "cc1545fc-a10f-488f-a5dd-d50890633c77",
   "metadata": {},
   "outputs": [
    {
     "name": "stdout",
     "output_type": "stream",
     "text": [
      "tensor([0, 0, 0, 0, 0, 1, 0, 0, 0, 0, 0, 0, 0, 0, 0, 0, 0, 0, 0, 0, 0, 0, 0, 0,\n",
      "        0, 0, 0])\n",
      "torch.Size([27])\n"
     ]
    }
   ],
   "source": [
    "ohv = F.one_hot(torch.tensor(5), num_classes=27)\n",
    "print(ohv)\n",
    "print(ohv.shape)"
   ]
  },
  {
   "cell_type": "markdown",
   "id": "35c8d608-b1f9-4740-8023-c82f2cd0fb2c",
   "metadata": {},
   "source": [
    "With this way we get a one-hot encoded representation whose $5$-th element is $1$ and all the rest are $0$. Now, notice how, just as we previously alluded to in the previous lesson, if we take this one-hot vector and we multiply it by `C`:"
   ]
  },
  {
   "cell_type": "code",
   "execution_count": 12,
   "id": "5010822a-a2f6-4c10-80ae-7e77e1908dd2",
   "metadata": {},
   "outputs": [
    {
     "data": {
      "text/plain": [
       "tensor([-0.4713,  0.7868])"
      ]
     },
     "execution_count": 12,
     "metadata": {},
     "output_type": "execute_result"
    }
   ],
   "source": [
    "ohv_matmul_C = ohv.float() @ C\n",
    "ohv_matmul_C"
   ]
  },
  {
   "cell_type": "markdown",
   "id": "3c31221f-954c-488b-b236-6b90c3696d5a",
   "metadata": {},
   "source": [
    "as you can see, they are identical:"
   ]
  },
  {
   "cell_type": "code",
   "execution_count": 13,
   "id": "4d36a866-3b05-41b7-b0a9-e70190107ab3",
   "metadata": {},
   "outputs": [],
   "source": [
    "assert C[5].equal(ohv_matmul_C)"
   ]
  },
  {
   "cell_type": "markdown",
   "id": "60c3ea3a-9e02-49c9-aea2-77b49ca3e7ab",
   "metadata": {},
   "source": [
    "Multiplying a one-hot encoded vector and an appropriate matrix acts like indexing that matrix with the index of the vector that points to element $1$! And so, we actually arrive at the same result. This is interesting since it points out how the first layer of this **nn** (see diagram above) can be thought of as a set of neurons whose weight matrix is `C`, when the inputs (the integer character indeces) are one-hot encoded. Note aside, in order to embed a character, we are just going to simply index the table as it's much faster:"
   ]
  },
  {
   "cell_type": "code",
   "execution_count": 14,
   "id": "39c29e2a-f4ec-4190-9782-fd3fcfc129b7",
   "metadata": {},
   "outputs": [
    {
     "data": {
      "text/plain": [
       "tensor([-0.4713,  0.7868])"
      ]
     },
     "execution_count": 14,
     "metadata": {},
     "output_type": "execute_result"
    }
   ],
   "source": [
    "C[5]"
   ]
  },
  {
   "cell_type": "markdown",
   "id": "ed5cfbf8-259e-40c7-b5af-f55e96d080eb",
   "metadata": {},
   "source": [
    "which is easy for a single character. But what if we want to index more simultaneously? That's also easy:"
   ]
  },
  {
   "cell_type": "code",
   "execution_count": 15,
   "id": "30db9717-1e45-4117-80f6-a53f0166770e",
   "metadata": {},
   "outputs": [
    {
     "data": {
      "text/plain": [
       "tensor([[-0.4713,  0.7868],\n",
       "        [-0.3284, -0.4330],\n",
       "        [ 1.3729,  2.9334]])"
      ]
     },
     "execution_count": 15,
     "metadata": {},
     "output_type": "execute_result"
    }
   ],
   "source": [
    "C[[5, 6, 7]]"
   ]
  },
  {
   "cell_type": "markdown",
   "id": "d03aac0e-c56d-4b46-98b2-1624e697177a",
   "metadata": {},
   "source": [
    "Cool! You can actually index a PyTorch tensor with a list or another tensor. Therefore, to easily get all character embeddings, we can simply do:"
   ]
  },
  {
   "cell_type": "code",
   "execution_count": 16,
   "id": "ddc52cd7-9569-4ce0-9b21-8636211051d4",
   "metadata": {},
   "outputs": [
    {
     "name": "stdout",
     "output_type": "stream",
     "text": [
      "tensor([[[ 1.5674, -0.2373],\n",
      "         [ 1.5674, -0.2373],\n",
      "         [-0.4713,  0.7868]],\n",
      "\n",
      "        [[ 1.5674, -0.2373],\n",
      "         [-0.4713,  0.7868],\n",
      "         [ 2.4448, -0.6701]],\n",
      "\n",
      "        [[-0.4713,  0.7868],\n",
      "         [ 2.4448, -0.6701],\n",
      "         [ 2.4448, -0.6701]],\n",
      "\n",
      "        [[ 2.4448, -0.6701],\n",
      "         [ 2.4448, -0.6701],\n",
      "         [-0.0274, -1.1008]],\n",
      "\n",
      "        [[ 2.4448, -0.6701],\n",
      "         [-0.0274, -1.1008],\n",
      "         [ 1.5674, -0.2373]],\n",
      "\n",
      "        [[ 1.5674, -0.2373],\n",
      "         [ 1.5674, -0.2373],\n",
      "         [-1.0725,  0.7276]],\n",
      "\n",
      "        [[ 1.5674, -0.2373],\n",
      "         [-1.0725,  0.7276],\n",
      "         [-0.0707,  2.4968]],\n",
      "\n",
      "        [[-1.0725,  0.7276],\n",
      "         [-0.0707,  2.4968],\n",
      "         [ 0.6772, -0.8404]],\n",
      "\n",
      "        [[-0.0707,  2.4968],\n",
      "         [ 0.6772, -0.8404],\n",
      "         [-0.1158, -1.2078]],\n",
      "\n",
      "        [[ 0.6772, -0.8404],\n",
      "         [-0.1158, -1.2078],\n",
      "         [ 0.6772, -0.8404]],\n",
      "\n",
      "        [[-0.1158, -1.2078],\n",
      "         [ 0.6772, -0.8404],\n",
      "         [-0.0274, -1.1008]],\n",
      "\n",
      "        [[ 0.6772, -0.8404],\n",
      "         [-0.0274, -1.1008],\n",
      "         [ 1.5674, -0.2373]],\n",
      "\n",
      "        [[ 1.5674, -0.2373],\n",
      "         [ 1.5674, -0.2373],\n",
      "         [-0.0274, -1.1008]],\n",
      "\n",
      "        [[ 1.5674, -0.2373],\n",
      "         [-0.0274, -1.1008],\n",
      "         [-0.1158, -1.2078]],\n",
      "\n",
      "        [[-0.0274, -1.1008],\n",
      "         [-0.1158, -1.2078],\n",
      "         [-0.0274, -1.1008]],\n",
      "\n",
      "        [[-0.1158, -1.2078],\n",
      "         [-0.0274, -1.1008],\n",
      "         [ 1.5674, -0.2373]],\n",
      "\n",
      "        [[ 1.5674, -0.2373],\n",
      "         [ 1.5674, -0.2373],\n",
      "         [ 0.6772, -0.8404]],\n",
      "\n",
      "        [[ 1.5674, -0.2373],\n",
      "         [ 0.6772, -0.8404],\n",
      "         [ 0.1476, -1.0006]],\n",
      "\n",
      "        [[ 0.6772, -0.8404],\n",
      "         [ 0.1476, -1.0006],\n",
      "         [-0.0274, -1.1008]],\n",
      "\n",
      "        [[ 0.1476, -1.0006],\n",
      "         [-0.0274, -1.1008],\n",
      "         [ 0.2859, -0.0296]],\n",
      "\n",
      "        [[-0.0274, -1.1008],\n",
      "         [ 0.2859, -0.0296],\n",
      "         [-0.4713,  0.7868]],\n",
      "\n",
      "        [[ 0.2859, -0.0296],\n",
      "         [-0.4713,  0.7868],\n",
      "         [-0.0707,  2.4968]],\n",
      "\n",
      "        [[-0.4713,  0.7868],\n",
      "         [-0.0707,  2.4968],\n",
      "         [-0.0707,  2.4968]],\n",
      "\n",
      "        [[-0.0707,  2.4968],\n",
      "         [-0.0707,  2.4968],\n",
      "         [-0.0274, -1.1008]],\n",
      "\n",
      "        [[-0.0707,  2.4968],\n",
      "         [-0.0274, -1.1008],\n",
      "         [ 1.5674, -0.2373]],\n",
      "\n",
      "        [[ 1.5674, -0.2373],\n",
      "         [ 1.5674, -0.2373],\n",
      "         [ 0.1476, -1.0006]],\n",
      "\n",
      "        [[ 1.5674, -0.2373],\n",
      "         [ 0.1476, -1.0006],\n",
      "         [-1.0725,  0.7276]],\n",
      "\n",
      "        [[ 0.1476, -1.0006],\n",
      "         [-1.0725,  0.7276],\n",
      "         [ 0.0511,  1.3095]],\n",
      "\n",
      "        [[-1.0725,  0.7276],\n",
      "         [ 0.0511,  1.3095],\n",
      "         [ 1.5618, -1.6261]],\n",
      "\n",
      "        [[ 0.0511,  1.3095],\n",
      "         [ 1.5618, -1.6261],\n",
      "         [ 0.6772, -0.8404]],\n",
      "\n",
      "        [[ 1.5618, -1.6261],\n",
      "         [ 0.6772, -0.8404],\n",
      "         [-0.0274, -1.1008]],\n",
      "\n",
      "        [[ 0.6772, -0.8404],\n",
      "         [-0.0274, -1.1008],\n",
      "         [ 1.5674, -0.2373]]])\n",
      "torch.Size([32, 3, 2])\n"
     ]
    }
   ],
   "source": [
    "emb = C[x]\n",
    "print(emb)\n",
    "print(emb.shape)"
   ]
  },
  {
   "cell_type": "markdown",
   "id": "7a91c46d-4ff7-46e6-bf66-c06782fa1318",
   "metadata": {},
   "source": [
    "Notice the shape: `[<number of character input sets>, <input size>, <number of character embedding dimensions>]`. Indexing as following, we can assert that both ways of representation are valid:"
   ]
  },
  {
   "cell_type": "code",
   "execution_count": 17,
   "id": "72ce3d00-491f-4ae1-8793-cd3e4cdf64e0",
   "metadata": {},
   "outputs": [],
   "source": [
    "assert emb[13, 2].equal(C[x[13, 2]])"
   ]
  },
  {
   "cell_type": "markdown",
   "id": "752ae4f3-7327-4fc7-a721-9c2dfc0b529d",
   "metadata": {},
   "source": [
    "Long story short, PyTorch indexing is awesome and tensors such as embedding tables can be indexed by other tensors, e.g. inputs. One last thing, as far as the first layer is concerned. Since each embedding of our `3` inputs has `2` dimensions, the output dimension of our first layer is basically $3 \\cdot 2 = 6$. Usually, a **nn** layer is described by a pair of input and output dimensions. The input dimension of our first, embeddings layer is $32$ (`<number of character inputs>`). To get the output dimension we have to concatenate the following `<inputs size>` and `<number of character embedding dimensions>` tensor dimensions into one dimension:"
   ]
  },
  {
   "cell_type": "code",
   "execution_count": 18,
   "id": "b421b2c8-16cd-4941-b247-6f935e4ec645",
   "metadata": {},
   "outputs": [
    {
     "data": {
      "text/plain": [
       "torch.Size([32, 6])"
      ]
     },
     "execution_count": 18,
     "metadata": {},
     "output_type": "execute_result"
    }
   ],
   "source": [
    "last_dims = emb.shape[1:]  # get dimensions after the first one\n",
    "last_dims_product = torch.prod(torch.tensor(last_dims)).item()  # multiply them\n",
    "emb_proper = emb.view(-1, last_dims_product)\n",
    "emb_proper.shape  # tada!"
   ]
  },
  {
   "cell_type": "markdown",
   "id": "94535878-8d80-4851-a19c-d9d0254f577c",
   "metadata": {},
   "source": [
    "We have prepared the dimensionality of the first layer. Now, let's implement the hidden, second layer:"
   ]
  },
  {
   "cell_type": "code",
   "execution_count": 19,
   "id": "0546cf09-6973-4f21-bfa0-ed91743e24fd",
   "metadata": {},
   "outputs": [
    {
     "name": "stdout",
     "output_type": "stream",
     "text": [
      "torch.Size([6, 100])\n",
      "torch.Size([100])\n"
     ]
    }
   ],
   "source": [
    "l0out = emb_proper.shape[-1]\n",
    "l1in = l0out\n",
    "l1out = 100  # neurons of hidden layer\n",
    "w1 = torch.randn(l1in, l1out, generator=g)\n",
    "b1 = torch.randn(l1out, generator=g)\n",
    "print(w1.shape)\n",
    "print(b1.shape)"
   ]
  },
  {
   "cell_type": "code",
   "execution_count": 20,
   "id": "14151980-2b0a-496e-8a8b-f193f5a63385",
   "metadata": {},
   "outputs": [
    {
     "data": {
      "text/plain": [
       "tensor([[ 0.2797,  0.9997,  0.7675,  ...,  0.9929,  0.9992,  0.9981],\n",
       "        [-0.9960,  1.0000, -0.8694,  ..., -0.5159, -1.0000, -0.0069],\n",
       "        [-0.9968,  1.0000,  0.9878,  ...,  0.4976, -0.9297, -0.8616],\n",
       "        ...,\n",
       "        [-0.9043,  1.0000,  0.9868,  ..., -0.7859, -0.4819,  0.9981],\n",
       "        [-0.9048,  1.0000,  0.9553,  ...,  0.9866,  1.0000,  0.9907],\n",
       "        [-0.9868,  1.0000,  0.5264,  ...,  0.9843,  0.0223, -0.1655]])"
      ]
     },
     "execution_count": 20,
     "metadata": {},
     "output_type": "execute_result"
    }
   ],
   "source": [
    "h = torch.tanh(emb_proper @ w1 + b1)\n",
    "h"
   ]
  },
  {
   "cell_type": "code",
   "execution_count": 21,
   "id": "83cb44db-df95-49cf-9373-8ed90debff0e",
   "metadata": {},
   "outputs": [
    {
     "data": {
      "text/plain": [
       "torch.Size([32, 100])"
      ]
     },
     "execution_count": 21,
     "metadata": {},
     "output_type": "execute_result"
    }
   ],
   "source": [
    "h.shape"
   ]
  },
  {
   "cell_type": "markdown",
   "id": "51297169-cacc-4115-ac84-2047170bc8e6",
   "metadata": {},
   "source": [
    "Done! And now, to create the output layer:"
   ]
  },
  {
   "cell_type": "code",
   "execution_count": 22,
   "id": "dbebc43b-4e1d-45e4-8027-15e6b3c091b9",
   "metadata": {},
   "outputs": [
    {
     "name": "stdout",
     "output_type": "stream",
     "text": [
      "torch.Size([100, 27])\n",
      "torch.Size([27])\n"
     ]
    }
   ],
   "source": [
    "l2in = l1out\n",
    "l2out = 27  # number of characters\n",
    "w2 = torch.randn(l2in, l2out, generator=g)\n",
    "b2 = torch.randn(l2out, generator=g)\n",
    "print(w2.shape)\n",
    "print(b2.shape)"
   ]
  },
  {
   "cell_type": "code",
   "execution_count": 23,
   "id": "6a3876b0-d2b9-4dc9-aa3f-7868a6f52e02",
   "metadata": {},
   "outputs": [
    {
     "data": {
      "text/plain": [
       "torch.Size([32, 27])"
      ]
     },
     "execution_count": 23,
     "metadata": {},
     "output_type": "execute_result"
    }
   ],
   "source": [
    "logits = h @ w2 + b2\n",
    "logits.shape"
   ]
  },
  {
   "cell_type": "markdown",
   "id": "6a92aabb-1863-4211-bca4-db19f931bd26",
   "metadata": {},
   "source": [
    "Exactly as we saw in the previous lesson, we want to take these logits and we want to first exponentiate them to get our fake counts. Then, we want to normalize them to get the probabilities of how likely it is for each character to come next:"
   ]
  },
  {
   "cell_type": "code",
   "execution_count": 24,
   "id": "c8c092bf-a37f-45ed-a55e-8a2b31521215",
   "metadata": {},
   "outputs": [
    {
     "data": {
      "text/plain": [
       "torch.Size([32, 27])"
      ]
     },
     "execution_count": 24,
     "metadata": {},
     "output_type": "execute_result"
    }
   ],
   "source": [
    "counts = logits.exp()\n",
    "prob = counts / counts.sum(1, keepdims=True)\n",
    "prob.shape"
   ]
  },
  {
   "cell_type": "markdown",
   "id": "530e76b1-4239-43f7-8813-a8d4499162a9",
   "metadata": {},
   "source": [
    "Remember, we also have the the target values `y`, the actual characters that come next that we would like our **nn** to be able to predict:"
   ]
  },
  {
   "cell_type": "code",
   "execution_count": 25,
   "id": "3cae6932-4d7e-4610-9afe-1da9c454ec06",
   "metadata": {},
   "outputs": [
    {
     "data": {
      "text/plain": [
       "tensor([ 5, 13, 13,  1,  0, 15, 12,  9, 22,  9,  1,  0,  1, 22,  1,  0,  9, 19,\n",
       "         1,  2,  5, 12, 12,  1,  0, 19, 15, 16,  8,  9,  1,  0])"
      ]
     },
     "execution_count": 25,
     "metadata": {},
     "output_type": "execute_result"
    }
   ],
   "source": [
    "y"
   ]
  },
  {
   "cell_type": "markdown",
   "id": "f98ec84e-f6eb-4a8a-a165-1a2b3efb2c74",
   "metadata": {},
   "source": [
    "So, what we would like to do now is index into the rows of `prob` and for each row to pluck out the probability given to the correct character:"
   ]
  },
  {
   "cell_type": "code",
   "execution_count": 26,
   "id": "e5c84e96-b259-4e07-8f4e-6ba6ac2d7a64",
   "metadata": {},
   "outputs": [
    {
     "data": {
      "text/plain": [
       "tensor([9.9994e-12, 1.9647e-08, 4.0322e-07, 3.0845e-09, 4.6517e-11, 7.4238e-12,\n",
       "        2.0297e-09, 9.9179e-01, 1.7138e-02, 3.2410e-03, 2.8552e-06, 1.0565e-06,\n",
       "        2.6391e-09, 4.1804e-06, 3.5843e-08, 7.7737e-07, 3.5022e-02, 2.7425e-10,\n",
       "        1.7086e-08, 6.3572e-02, 1.1315e-08, 1.6961e-09, 2.1885e-11, 1.5201e-10,\n",
       "        1.0528e-03, 3.6704e-08, 9.5847e-02, 3.1954e-12, 8.5695e-17, 2.5576e-03,\n",
       "        9.1782e-12, 1.0565e-06])"
      ]
     },
     "execution_count": 26,
     "metadata": {},
     "output_type": "execute_result"
    }
   ],
   "source": [
    "prob[range(len(y)), y]"
   ]
  },
  {
   "cell_type": "markdown",
   "id": "41504c68-e49f-4e8d-909d-6969b999558b",
   "metadata": {},
   "source": [
    "This gives the current probabilities for these specific correct, target characters that come next after each character sequence, given the current **nn** configuration (weights and biases). Currently these probabilities are pretty bad and most characters are pretty unlikely to occur next. Of course, we haven't trained the **nn** yet. So, we want to train it so that each probability approximates `1`. As we saw previously, to do so, we have to define the **loss** and then minimize it:"
   ]
  },
  {
   "cell_type": "code",
   "execution_count": 27,
   "id": "aa8e1daf-6e94-4267-ba68-37edc26ec1c6",
   "metadata": {},
   "outputs": [
    {
     "data": {
      "text/plain": [
       "tensor(16.0342)"
      ]
     },
     "execution_count": 27,
     "metadata": {},
     "output_type": "execute_result"
    }
   ],
   "source": [
    "loss = -prob[range(len(y)), y].log().mean()\n",
    "loss"
   ]
  },
  {
   "cell_type": "markdown",
   "id": "b1ce15c3-0f68-4441-85fc-81f3649ce1cd",
   "metadata": {},
   "source": [
    "Pretty big loss! Haha. Now we will minimize it so our **nn** able to predict the next character in each sequence correctly. To do so, we have to optimize the parameters. Let's define a function that defines them and collects them all into a list just so we have easy access:"
   ]
  },
  {
   "cell_type": "code",
   "execution_count": 28,
   "id": "83d11060-e871-43c5-aabf-d13d3eaba420",
   "metadata": {},
   "outputs": [
    {
     "name": "stdout",
     "output_type": "stream",
     "text": [
      "torch.Size([182625, 3]) torch.Size([182625])\n",
      "torch.Size([22655, 3]) torch.Size([22655])\n",
      "torch.Size([22866, 3]) torch.Size([22866])\n"
     ]
    },
    {
     "data": {
      "text/plain": [
       "3481"
      ]
     },
     "execution_count": 28,
     "metadata": {},
     "output_type": "execute_result"
    }
   ],
   "source": [
    "import random\n",
    "\n",
    "# context length: how many characters do we take to predict the next one?\n",
    "block_size = 3\n",
    "\n",
    "\n",
    "# build the dataset\n",
    "def build_dataset(words):\n",
    "    X, Y = [], []\n",
    "    for w in words:\n",
    "        # print(w)\n",
    "        context = [0] * block_size\n",
    "        for ch in w + \".\":\n",
    "            ix = ctoi[ch]\n",
    "            X.append(context)\n",
    "            Y.append(ix)\n",
    "            # print(''.join(itos[i] for i in context), '--->', itos[ix])\n",
    "            context = context[1:] + [ix]  # crop and append\n",
    "\n",
    "    X = torch.tensor(X)\n",
    "    Y = torch.tensor(Y)\n",
    "    print(X.shape, Y.shape)\n",
    "    return X, Y\n",
    "\n",
    "\n",
    "random.seed(42)\n",
    "random.shuffle(words)\n",
    "n1 = int(0.8 * len(words))\n",
    "n2 = int(0.9 * len(words))\n",
    "\n",
    "Xtr, Ytr = build_dataset(words[:n1])\n",
    "Xdev, Ydev = build_dataset(words[n1:n2])\n",
    "Xte, Yte = build_dataset(words[n2:])\n",
    "\n",
    "\n",
    "def define_nn(l1out=100, embsize=2):\n",
    "    global C, w1, b1, w2, b2\n",
    "    g = torch.Generator().manual_seed(SEED)\n",
    "    C = torch.randn((27, embsize), generator=g)\n",
    "    l1in = embsize * block_size\n",
    "    # l1out: neurons of hidden layer\n",
    "    w1 = torch.randn(l1in, l1out, generator=g)\n",
    "    b1 = torch.randn(l1out, generator=g)\n",
    "    l2in = l1out\n",
    "    l2out = 27  # neurons of output layer, number of characters\n",
    "    w2 = torch.randn(l2in, l2out, generator=g)\n",
    "    b2 = torch.randn(l2out, generator=g)\n",
    "    parameters = [C, w1, b1, w2, b2]\n",
    "    return parameters\n",
    "\n",
    "\n",
    "parameters = define_nn()\n",
    "sum(p.nelement() for p in parameters)"
   ]
  },
  {
   "cell_type": "markdown",
   "id": "1bf2fe85-547f-40b3-b0d6-12202f5450fc",
   "metadata": {},
   "source": [
    "To recap the forward pass:"
   ]
  },
  {
   "cell_type": "code",
   "execution_count": 29,
   "id": "e4b6f850-489f-452f-84a1-e13f60b9cc85",
   "metadata": {},
   "outputs": [
    {
     "data": {
      "text/plain": [
       "tensor(16.0342)"
      ]
     },
     "execution_count": 29,
     "metadata": {},
     "output_type": "execute_result"
    }
   ],
   "source": [
    "emb = C[x]  # [32, 3, 2]\n",
    "last_dims = emb.shape[1:]  # get dimensions after the first one\n",
    "last_dims_product = torch.prod(torch.tensor(last_dims)).item()  # multiply them\n",
    "emb_proper = emb.view(-1, last_dims_product)  # [32, 6]\n",
    "h = torch.tanh(emb_proper @ w1 + b1)  # [32, 100]\n",
    "logits = h @ w2 + b2  # [32, 27]\n",
    "counts = logits.exp()\n",
    "prob = counts / counts.sum(1, keepdims=True)\n",
    "loss = -prob[range(len(y)), y].log().mean()\n",
    "loss"
   ]
  },
  {
   "cell_type": "markdown",
   "id": "6339f2b3-9cfa-4f0b-81cc-06e67d64d111",
   "metadata": {},
   "source": [
    "A better and more efficient way to calculate the **loss** from logits and targets is through the [cross entropy loss function](https://pytorch.org/docs/stable/generated/torch.nn.functional.cross_entropy.html):"
   ]
  },
  {
   "cell_type": "code",
   "execution_count": 30,
   "id": "34a4f3e0-f273-4144-8935-5c181e620641",
   "metadata": {},
   "outputs": [
    {
     "data": {
      "text/plain": [
       "tensor(16.0342)"
      ]
     },
     "execution_count": 30,
     "metadata": {},
     "output_type": "execute_result"
    }
   ],
   "source": [
    "F.cross_entropy(logits, y)"
   ]
  },
  {
   "cell_type": "markdown",
   "id": "91ee465a-df2f-4f26-bf54-e641867e2eb3",
   "metadata": {},
   "source": [
    "Let's tidy up the forward pass:"
   ]
  },
  {
   "cell_type": "code",
   "execution_count": 31,
   "id": "b00a2709-9119-4df1-b64f-cd39acd0058e",
   "metadata": {},
   "outputs": [],
   "source": [
    "def forward_pass(x, y):\n",
    "    emb = C[x]  # [32, 3, 2]\n",
    "    last_dims = emb.shape[1:]  # get dimensions after the first one\n",
    "    last_dims_product = torch.prod(torch.tensor(last_dims)).item()  # multiply them\n",
    "    emb_proper = emb.view(-1, last_dims_product)  # [32, 6]\n",
    "    h = torch.tanh(emb_proper @ w1 + b1)  # [32, 100]\n",
    "    logits = h @ w2 + b2  # [32, 27]\n",
    "    loss = F.cross_entropy(logits, y)\n",
    "    return loss"
   ]
  },
  {
   "cell_type": "markdown",
   "id": "dfde0ad6",
   "metadata": {},
   "source": [
    "## Training the model"
   ]
  },
  {
   "cell_type": "markdown",
   "id": "34d2e7dc-ad53-43ce-8d76-7f20c0fdd12b",
   "metadata": {},
   "source": [
    "And now, let's train our **nn**:"
   ]
  },
  {
   "cell_type": "code",
   "execution_count": 32,
   "id": "3aeeb3d9-3299-46f7-a00a-77c173687b8b",
   "metadata": {
    "tags": []
   },
   "outputs": [],
   "source": [
    "def train(x, y, epochs=10):\n",
    "    parameters = define_nn()\n",
    "    for p in parameters:\n",
    "        p.requires_grad = True\n",
    "    for _ in range(epochs):\n",
    "        loss = forward_pass(x, y)\n",
    "        print(loss.item())\n",
    "        for p in parameters:\n",
    "            p.grad = None\n",
    "        loss.backward()\n",
    "        for p in parameters:\n",
    "            p.data += -0.1 * p.grad"
   ]
  },
  {
   "cell_type": "code",
   "execution_count": 33,
   "id": "91ec7cd3-a888-4a8a-b29d-6f049e2025f7",
   "metadata": {},
   "outputs": [
    {
     "name": "stdout",
     "output_type": "stream",
     "text": [
      "16.034189224243164\n",
      "11.740133285522461\n",
      "9.195296287536621\n",
      "7.302927017211914\n",
      "5.805147647857666\n",
      "4.850736618041992\n",
      "4.184849739074707\n",
      "3.644319534301758\n",
      "3.207334518432617\n",
      "2.843700885772705\n"
     ]
    }
   ],
   "source": [
    "train(x, y)"
   ]
  },
  {
   "cell_type": "markdown",
   "id": "e2d94bc3-295f-460f-87bd-70740f946bba",
   "metadata": {},
   "source": [
    "The **loss** keeps decreasing, which means that the training process is working! Now, since we are only training using a dataset of $5$ words, and since our parameters are many more than the samples we are training on, our **nn** is probably overfitting. What we have to do now, is train on the whole dataset."
   ]
  },
  {
   "cell_type": "code",
   "execution_count": 34,
   "id": "1270714d-2216-4d92-80e4-c11acfe6c9fe",
   "metadata": {},
   "outputs": [
    {
     "name": "stdout",
     "output_type": "stream",
     "text": [
      "torch.Size([228146, 3]) torch.Size([228146])\n"
     ]
    }
   ],
   "source": [
    "x_all, y_all = build_dataset(words)"
   ]
  },
  {
   "cell_type": "code",
   "execution_count": 35,
   "id": "482b2243-ff34-4e58-8276-f3aa703a543f",
   "metadata": {},
   "outputs": [
    {
     "name": "stdout",
     "output_type": "stream",
     "text": [
      "19.505229949951172\n"
     ]
    },
    {
     "name": "stdout",
     "output_type": "stream",
     "text": [
      "17.084489822387695\n",
      "15.776533126831055\n",
      "14.83334732055664\n",
      "14.00261116027832\n",
      "13.253267288208008\n",
      "12.579922676086426\n",
      "11.983108520507812\n",
      "11.470502853393555\n",
      "11.05186653137207\n"
     ]
    }
   ],
   "source": [
    "train(x_all, y_all)"
   ]
  },
  {
   "cell_type": "markdown",
   "id": "374585d9-83c3-4b9d-9ae3-e0649def8fd6",
   "metadata": {},
   "source": [
    "Same, the loss for all input samples also keeps decreasing. But, you'll notice that training takes longer now. This is happening because we are doing a lot of work, forward and backward passing on $228146$ examples. That's way too much work! In practice, what people usually do in such cases is they train on minibatches of the whole dataset. So, what we want to do, is we want to randomly select some portion of the dataset, and that's a minibatch! And then, only forward, backward and update on that minibatch, likewise iterate and train on those minibatches. A simple way to implement minibatching is to set a batch size, e.g.:"
   ]
  },
  {
   "cell_type": "code",
   "execution_count": 36,
   "id": "e2fd3752-df7e-4410-9021-e330ac9b1d4b",
   "metadata": {},
   "outputs": [],
   "source": [
    "batchsize = 32"
   ]
  },
  {
   "cell_type": "markdown",
   "id": "eda99949-e6b6-45a5-a727-96b10b6e3818",
   "metadata": {},
   "source": [
    "and then to randomly select `batchsize` number of indeces referencing the subset of input data to be used for minibatch training. To get the indeces you can do something like this:"
   ]
  },
  {
   "cell_type": "code",
   "execution_count": 37,
   "id": "032b2988-2332-49d3-85d2-8a80d465a655",
   "metadata": {},
   "outputs": [
    {
     "name": "stdout",
     "output_type": "stream",
     "text": [
      "tensor([ 11221, 196144, 163113, 211933, 215582,  95698,  59919, 186327,  71692,\n",
      "        138245,  13543, 217908, 192712,  26720, 174386,   1110, 191715, 218591,\n",
      "         91310, 221423, 132156, 209598,    726,  25669,  60157,  45739, 203728,\n",
      "         31657, 156393, 135278, 101277,  40492])\n"
     ]
    }
   ],
   "source": [
    "batchix = torch.randint(0, x_all.shape[0], (batchsize,))\n",
    "print(batchix)"
   ]
  },
  {
   "cell_type": "markdown",
   "id": "f0e3a51f-221a-4350-8c6b-0c908764bcc7",
   "metadata": {},
   "source": [
    "Then, to actually get a minibatch per epoch, just create a new, random set of indeces and index the samples and targets from the dataset before each forward pass. Like this:"
   ]
  },
  {
   "cell_type": "code",
   "execution_count": 38,
   "id": "56bde375-4042-4e5a-90a8-44e4086f4b3a",
   "metadata": {},
   "outputs": [],
   "source": [
    "def train(x, y, lr=0.1, epochs=10, print_all_losses=True):\n",
    "    parameters = define_nn()\n",
    "    for p in parameters:\n",
    "        p.requires_grad = True\n",
    "    for _ in range(epochs):\n",
    "        batchix = torch.randint(0, x.shape[0], (batchsize,))\n",
    "        bx, by = x[batchix], y[batchix]\n",
    "        loss = forward_pass(bx, by)\n",
    "        if print_all_losses:\n",
    "            print(loss.item())\n",
    "        for p in parameters:\n",
    "            p.grad = None\n",
    "        loss.backward()\n",
    "        for p in parameters:\n",
    "            p.data += -lr * p.grad\n",
    "    if not print_all_losses:\n",
    "        print(loss.item())\n",
    "    return loss.item()"
   ]
  },
  {
   "cell_type": "markdown",
   "id": "9658a162-9fa0-4d7f-8e9c-a8e9e63fe4c0",
   "metadata": {},
   "source": [
    "Now, if we train using minibatches..."
   ]
  },
  {
   "cell_type": "code",
   "execution_count": 39,
   "id": "6993d1fc-0924-4ee3-b902-021374dfc377",
   "metadata": {},
   "outputs": [
    {
     "name": "stdout",
     "output_type": "stream",
     "text": [
      "19.981565475463867\n",
      "19.776283264160156\n",
      "15.121458053588867\n",
      "11.65108585357666\n",
      "16.66534423828125\n",
      "15.097221374511719\n",
      "12.886860847473145\n",
      "13.000885963439941\n",
      "12.040105819702148\n",
      "11.06347370147705\n"
     ]
    },
    {
     "data": {
      "text/plain": [
       "11.06347370147705"
      ]
     },
     "execution_count": 39,
     "metadata": {},
     "output_type": "execute_result"
    }
   ],
   "source": [
    "train(x_all, y_all)"
   ]
  },
  {
   "cell_type": "markdown",
   "id": "566f6c3a-13e7-44db-afa3-ed3dc13405ec",
   "metadata": {},
   "source": [
    "training is much much faster, almost instant! However, since we are dealing with minibatches, the quality of our gradient is lower, so the direction is not as reliable. It's not the actual exact gradient direction, but the gradient direction is good enough even though it's being estimated for only `batchsize` (e.g. `32`) examples. In general, it is better to have an approximate gradient and just make more steps than it is to compute the exact gradient and take fewer steps. And that is why in practice, minibatching works quite well."
   ]
  },
  {
   "cell_type": "markdown",
   "id": "c5b1b1c1",
   "metadata": {},
   "source": [
    "## Finding a good learning rate"
   ]
  },
  {
   "cell_type": "markdown",
   "id": "ff7966a3",
   "metadata": {},
   "source": [
    "Now, one issue that has popped up as you may have noticed, is that during minibatch training the **loss** seems to fluctuate. For some epochs it decreases, but then it increases again, and vice versa. That question that arises from this observation is this: are we stepping too slow or too fast? Meaning, are we updating the parameters by a fraction of their gradients that is too small or too large? Such magnitude is determined by the step size, aka the learning rate. Therefore, the overarching question is: how do you determine this learning rate? How do we gain confidence that we are stepping with the right speed? Let's see one way to determine the learning rate. We basically want to find a reasonable search range, if you will. What people usually do is they pick different learning rate values until they find a satisfactory one. Let's try to find one that is better. We see for example if it is very small:"
   ]
  },
  {
   "cell_type": "code",
   "execution_count": 40,
   "id": "9fe09a23-35a6-48ac-8bd9-0de889ab6bdb",
   "metadata": {},
   "outputs": [
    {
     "name": "stdout",
     "output_type": "stream",
     "text": [
      "18.588977813720703\n",
      "18.85947036743164\n",
      "19.128128051757812\n",
      "19.444608688354492\n",
      "15.187027931213379\n",
      "18.746347427368164\n",
      "20.287425994873047\n",
      "17.88999366760254\n",
      "19.84868621826172\n",
      "19.843172073364258\n",
      "18.403459548950195\n",
      "18.630434036254883\n",
      "20.185653686523438\n",
      "17.078495025634766\n",
      "18.97669219970703\n",
      "18.84585952758789\n",
      "20.933265686035156\n",
      "18.693925857543945\n",
      "18.547260284423828\n",
      "18.072559356689453\n",
      "20.361583709716797\n",
      "20.404449462890625\n",
      "20.476476669311523\n",
      "20.00735092163086\n",
      "19.466793060302734\n",
      "19.29986572265625\n",
      "22.559438705444336\n",
      "17.47389030456543\n",
      "18.472532272338867\n",
      "17.289838790893555\n",
      "23.418947219848633\n",
      "22.513608932495117\n",
      "21.372800827026367\n",
      "21.39266586303711\n",
      "17.509706497192383\n",
      "21.108383178710938\n",
      "17.238758087158203\n",
      "19.571308135986328\n",
      "18.59117889404297\n",
      "17.688087463378906\n",
      "21.633514404296875\n",
      "18.90360450744629\n",
      "22.035274505615234\n",
      "19.26131248474121\n",
      "18.90771484375\n",
      "18.586332321166992\n",
      "19.166976928710938\n",
      "16.2783203125\n",
      "20.851715087890625\n",
      "19.385671615600586\n",
      "16.82337760925293\n",
      "19.73069953918457\n",
      "21.874723434448242\n",
      "22.12108612060547\n",
      "18.72345542907715\n",
      "20.048452377319336\n",
      "18.098812103271484\n",
      "20.541921615600586\n",
      "16.99492645263672\n",
      "17.585641860961914\n",
      "19.290132522583008\n",
      "21.54007339477539\n",
      "17.614471435546875\n",
      "18.123401641845703\n",
      "18.681251525878906\n",
      "17.903770446777344\n",
      "18.451740264892578\n",
      "23.222810745239258\n",
      "19.013689041137695\n",
      "16.667470932006836\n",
      "17.39775848388672\n",
      "19.289306640625\n",
      "17.597814559936523\n",
      "19.006080627441406\n",
      "18.35820198059082\n",
      "21.011919021606445\n",
      "22.349285125732422\n",
      "20.064197540283203\n",
      "19.956541061401367\n",
      "19.706892013549805\n",
      "21.874910354614258\n",
      "22.057533264160156\n",
      "20.074745178222656\n",
      "18.12858772277832\n",
      "18.761335372924805\n",
      "22.608835220336914\n",
      "19.432294845581055\n",
      "18.262182235717773\n",
      "16.848934173583984\n",
      "18.159502029418945\n",
      "19.374303817749023\n",
      "20.720016479492188\n",
      "21.096694946289062\n",
      "18.97740364074707\n",
      "18.558319091796875\n",
      "18.993907928466797\n",
      "17.571331024169922\n",
      "19.330425262451172\n",
      "18.397754669189453\n",
      "21.423521041870117\n"
     ]
    },
    {
     "data": {
      "text/plain": [
       "21.423521041870117"
      ]
     },
     "execution_count": 40,
     "metadata": {},
     "output_type": "execute_result"
    }
   ],
   "source": [
    "train(x_all, y_all, lr=0.0001, epochs=100)"
   ]
  },
  {
   "cell_type": "markdown",
   "id": "bf4398e5-bb18-4d4d-a3dc-3a8a4948ce80",
   "metadata": {},
   "source": [
    "The loss barely decreases. So this value is too low. Let's try something bigger, e.g."
   ]
  },
  {
   "cell_type": "code",
   "execution_count": 41,
   "id": "7f3f8604-8f8b-4b95-9961-74fa873d7456",
   "metadata": {},
   "outputs": [
    {
     "name": "stdout",
     "output_type": "stream",
     "text": [
      "22.023475646972656\n",
      "20.717498779296875\n"
     ]
    },
    {
     "name": "stdout",
     "output_type": "stream",
     "text": [
      "20.913543701171875\n",
      "20.782373428344727\n",
      "15.35708999633789\n",
      "18.080284118652344\n",
      "21.20790672302246\n",
      "17.558935165405273\n",
      "18.820314407348633\n",
      "19.418724060058594\n",
      "19.878982543945312\n",
      "21.282428741455078\n",
      "20.366483688354492\n",
      "17.013086318969727\n",
      "16.128761291503906\n",
      "17.365331649780273\n",
      "15.652082443237305\n",
      "18.500505447387695\n",
      "17.691129684448242\n",
      "20.868892669677734\n",
      "16.39375877380371\n",
      "19.02947235107422\n",
      "17.715044021606445\n",
      "17.255586624145508\n",
      "17.08469581604004\n",
      "19.743953704833984\n",
      "17.95975685119629\n",
      "21.296918869018555\n",
      "18.66169548034668\n",
      "19.279037475585938\n",
      "21.10531997680664\n",
      "18.479516983032227\n",
      "19.644508361816406\n",
      "18.085800170898438\n",
      "16.752059936523438\n",
      "17.1224308013916\n",
      "21.479642868041992\n",
      "20.29147720336914\n",
      "16.77004051208496\n",
      "21.56743049621582\n",
      "19.55942153930664\n",
      "18.551393508911133\n",
      "16.86878776550293\n",
      "17.036048889160156\n",
      "20.440858840942383\n",
      "18.216175079345703\n",
      "18.03724479675293\n",
      "19.708120346069336\n",
      "19.81517791748047\n",
      "19.814151763916016\n",
      "18.87203598022461\n",
      "17.701353073120117\n",
      "17.397111892700195\n",
      "16.516033172607422\n",
      "17.5235595703125\n",
      "19.193260192871094\n",
      "19.703584671020508\n",
      "17.098236083984375\n",
      "18.202486038208008\n",
      "18.10477066040039\n",
      "18.472089767456055\n",
      "20.282609939575195\n",
      "17.674571990966797\n",
      "18.42032814025879\n",
      "19.261077880859375\n",
      "16.515771865844727\n",
      "18.326269149780273\n",
      "15.812180519104004\n",
      "18.955759048461914\n",
      "16.823278427124023\n",
      "18.307361602783203\n",
      "18.276512145996094\n",
      "17.942790985107422\n",
      "20.107912063598633\n",
      "16.481355667114258\n",
      "16.72773551940918\n",
      "18.617368698120117\n",
      "18.73316764831543\n",
      "15.793615341186523\n",
      "20.10835838317871\n",
      "18.695695877075195\n",
      "19.88662338256836\n",
      "18.54754638671875\n",
      "17.854290008544922\n",
      "15.86477279663086\n",
      "16.56222915649414\n",
      "16.07817268371582\n",
      "15.392221450805664\n",
      "17.920246124267578\n",
      "15.773080825805664\n",
      "17.633468627929688\n",
      "20.992177963256836\n",
      "15.667058944702148\n",
      "15.894668579101562\n",
      "17.1066837310791\n",
      "19.00779914855957\n",
      "17.156164169311523\n",
      "16.373693466186523\n",
      "18.102270126342773\n",
      "17.574262619018555\n"
     ]
    },
    {
     "data": {
      "text/plain": [
       "17.574262619018555"
      ]
     },
     "execution_count": 41,
     "metadata": {},
     "output_type": "execute_result"
    }
   ],
   "source": [
    "train(x_all, y_all, lr=0.001, epochs=100)"
   ]
  },
  {
   "cell_type": "markdown",
   "id": "35fd55b8-b02f-4ca4-b85d-79f1595396d5",
   "metadata": {},
   "source": [
    "This is ok, but still not good enough. The **loss** value decreases but not steadily and fluctuates a lot. For an even bigger value:"
   ]
  },
  {
   "cell_type": "code",
   "execution_count": 42,
   "id": "d0755e3e-2c10-49e1-bd75-acfa0f1c4cec",
   "metadata": {},
   "outputs": [
    {
     "name": "stdout",
     "output_type": "stream",
     "text": [
      "18.67951011657715\n",
      "12.319478988647461\n",
      "14.743844032287598\n",
      "11.691780090332031\n",
      "11.924601554870605\n",
      "9.313401222229004\n",
      "14.811928749084473\n",
      "10.921090126037598\n",
      "19.189809799194336\n",
      "12.671161651611328\n",
      "13.320192337036133\n",
      "15.325149536132812\n",
      "12.426419258117676\n",
      "12.742146492004395\n",
      "11.045636177062988\n",
      "10.888516426086426\n",
      "9.479939460754395\n",
      "10.95716667175293\n",
      "9.538654327392578\n",
      "9.103792190551758\n",
      "9.883779525756836\n",
      "12.059715270996094\n",
      "11.605939865112305\n",
      "8.885757446289062\n",
      "7.64937686920166\n",
      "9.101205825805664\n",
      "9.60849666595459\n",
      "9.956705093383789\n",
      "9.19546127319336\n",
      "10.5777006149292\n",
      "9.276217460632324\n",
      "7.102797508239746\n",
      "12.251958847045898\n",
      "9.120552062988281\n",
      "11.92465877532959\n",
      "7.622471809387207\n",
      "7.881705284118652\n",
      "7.292427062988281\n",
      "9.524847984313965\n",
      "7.59429931640625\n",
      "8.797324180603027\n",
      "9.215614318847656\n",
      "7.158139228820801\n",
      "9.249042510986328\n",
      "7.5874409675598145\n",
      "7.1982526779174805\n",
      "7.734524726867676\n",
      "7.837094306945801\n",
      "10.221752166748047\n",
      "7.658510208129883\n",
      "9.208227157592773\n",
      "11.838830947875977\n",
      "7.409258842468262\n",
      "7.226895332336426\n",
      "7.374504566192627\n",
      "7.552479267120361\n",
      "8.705976486206055\n",
      "8.168435096740723\n",
      "7.7262701988220215\n",
      "10.703021049499512\n",
      "6.585789680480957\n",
      "8.60473346710205\n",
      "10.032248497009277\n",
      "8.324590682983398\n",
      "8.214836120605469\n",
      "8.5826997756958\n",
      "8.78459358215332\n",
      "9.084774017333984\n",
      "7.375341892242432\n",
      "7.219888687133789\n",
      "6.300835609436035\n",
      "7.366886138916016\n",
      "7.046210765838623\n",
      "8.386292457580566\n",
      "6.130767345428467\n",
      "7.160824298858643\n",
      "6.164580821990967\n",
      "5.164074420928955\n",
      "5.325189590454102\n",
      "6.595604419708252\n",
      "9.3620023727417\n",
      "6.575165748596191\n",
      "7.909793376922607\n",
      "8.779293060302734\n",
      "7.0613508224487305\n",
      "6.332818984985352\n",
      "6.550354480743408\n",
      "5.012597560882568\n",
      "6.340659141540527\n",
      "9.389947891235352\n",
      "7.236937046051025\n",
      "7.793536186218262\n",
      "7.040827751159668\n",
      "8.442069053649902\n",
      "7.124346733093262\n",
      "5.33214807510376\n",
      "6.02147102355957\n",
      "6.559204578399658\n",
      "7.020427227020264\n",
      "7.772188663482666\n"
     ]
    },
    {
     "data": {
      "text/plain": [
       "7.772188663482666"
      ]
     },
     "execution_count": 42,
     "metadata": {},
     "output_type": "execute_result"
    }
   ],
   "source": [
    "train(x_all, y_all, lr=1, epochs=100)"
   ]
  },
  {
   "cell_type": "markdown",
   "id": "010cfca5-310c-439e-97a5-0fc21ae9166b",
   "metadata": {},
   "source": [
    "Better! How about:"
   ]
  },
  {
   "cell_type": "code",
   "execution_count": 43,
   "id": "6a28c73d-398a-4203-94f7-57f035064ade",
   "metadata": {},
   "outputs": [
    {
     "name": "stdout",
     "output_type": "stream",
     "text": [
      "18.77458381652832\n",
      "41.086944580078125\n",
      "32.03881072998047\n",
      "78.99888610839844\n",
      "96.40230560302734\n",
      "76.93853759765625\n",
      "115.27998352050781\n",
      "85.75901794433594\n",
      "92.72990417480469\n",
      "76.42001342773438\n",
      "66.20268249511719\n",
      "75.03043365478516\n",
      "72.4473648071289\n",
      "61.477294921875\n",
      "45.567134857177734\n",
      "65.7624740600586\n",
      "50.73615646362305\n",
      "49.854679107666016\n",
      "64.26234436035156\n",
      "81.04900360107422\n",
      "54.8422966003418\n",
      "53.601409912109375\n",
      "46.84724044799805\n",
      "89.66068267822266\n",
      "94.38125610351562\n",
      "93.13201141357422\n",
      "94.54680633544922\n",
      "115.57329559326172\n",
      "71.6618423461914\n",
      "49.93949508666992\n",
      "64.19585418701172\n",
      "49.588661193847656\n",
      "66.40619659423828\n",
      "90.53938293457031\n",
      "71.70225524902344\n",
      "68.78829193115234\n",
      "91.832275390625\n",
      "112.01548767089844\n",
      "78.32630920410156\n",
      "65.25273132324219\n",
      "67.65499114990234\n",
      "67.36087799072266\n",
      "68.29581451416016\n",
      "84.48717498779297\n",
      "61.08698654174805\n",
      "81.82013702392578\n",
      "63.261600494384766\n",
      "96.59410858154297\n",
      "96.08956909179688\n",
      "61.30553436279297\n",
      "78.24839782714844\n",
      "84.5940170288086\n",
      "72.60079956054688\n",
      "76.762451171875\n",
      "84.46514129638672\n",
      "112.61431884765625\n",
      "94.84597778320312\n",
      "76.57975006103516\n",
      "64.1321792602539\n",
      "59.449195861816406\n",
      "67.615966796875\n",
      "66.05792236328125\n",
      "71.67806243896484\n",
      "62.03684616088867\n",
      "65.6007308959961\n",
      "89.4959945678711\n",
      "77.34337615966797\n",
      "87.38933563232422\n",
      "119.37969970703125\n",
      "77.12010192871094\n",
      "99.19197082519531\n",
      "94.28479766845703\n",
      "89.62749481201172\n",
      "77.35655975341797\n",
      "81.3012466430664\n",
      "85.94560241699219\n",
      "84.99349975585938\n",
      "89.31104278564453\n",
      "102.9444808959961\n",
      "71.79301452636719\n",
      "72.4470443725586\n",
      "51.94877243041992\n",
      "84.37893676757812\n",
      "66.16736602783203\n",
      "71.09993743896484\n",
      "60.25654983520508\n",
      "64.36740112304688\n",
      "47.411102294921875\n",
      "83.21575927734375\n",
      "71.2474136352539\n",
      "88.10478973388672\n",
      "68.08258819580078\n",
      "91.74793243408203\n",
      "74.1685791015625\n",
      "68.54914855957031\n",
      "53.64791488647461\n",
      "63.27782440185547\n",
      "68.03656768798828\n",
      "74.18968963623047\n",
      "74.70614624023438\n"
     ]
    },
    {
     "data": {
      "text/plain": [
       "74.70614624023438"
      ]
     },
     "execution_count": 43,
     "metadata": {},
     "output_type": "execute_result"
    }
   ],
   "source": [
    "train(x_all, y_all, lr=10, epochs=100)"
   ]
  },
  {
   "cell_type": "markdown",
   "id": "ea4e2555-aef4-4fba-bb3e-a3bbe7910849",
   "metadata": {},
   "source": [
    "Haha, no thanks. So, we know that a satisfactory learning rate lies between `0.001` and `1`. To find it, we can lay these numbers out, exponentially separated:"
   ]
  },
  {
   "cell_type": "code",
   "execution_count": 44,
   "id": "8e481cfc-0cdc-4709-aedf-c49139e51101",
   "metadata": {},
   "outputs": [
    {
     "data": {
      "text/plain": [
       "tensor([0.0010, 0.0010, 0.0010, 0.0010, 0.0010, 0.0010, 0.0010, 0.0010, 0.0011,\n",
       "        0.0011, 0.0011, 0.0011, 0.0011, 0.0011, 0.0011, 0.0011, 0.0011, 0.0011,\n",
       "        0.0011, 0.0011, 0.0011, 0.0012, 0.0012, 0.0012, 0.0012, 0.0012, 0.0012,\n",
       "        0.0012, 0.0012, 0.0012, 0.0012, 0.0012, 0.0012, 0.0013, 0.0013, 0.0013,\n",
       "        0.0013, 0.0013, 0.0013, 0.0013, 0.0013, 0.0013, 0.0013, 0.0013, 0.0014,\n",
       "        0.0014, 0.0014, 0.0014, 0.0014, 0.0014, 0.0014, 0.0014, 0.0014, 0.0014,\n",
       "        0.0015, 0.0015, 0.0015, 0.0015, 0.0015, 0.0015, 0.0015, 0.0015, 0.0015,\n",
       "        0.0015, 0.0016, 0.0016, 0.0016, 0.0016, 0.0016, 0.0016, 0.0016, 0.0016,\n",
       "        0.0016, 0.0017, 0.0017, 0.0017, 0.0017, 0.0017, 0.0017, 0.0017, 0.0017,\n",
       "        0.0018, 0.0018, 0.0018, 0.0018, 0.0018, 0.0018, 0.0018, 0.0018, 0.0019,\n",
       "        0.0019, 0.0019, 0.0019, 0.0019, 0.0019, 0.0019, 0.0019, 0.0020, 0.0020,\n",
       "        0.0020, 0.0020, 0.0020, 0.0020, 0.0020, 0.0021, 0.0021, 0.0021, 0.0021,\n",
       "        0.0021, 0.0021, 0.0021, 0.0022, 0.0022, 0.0022, 0.0022, 0.0022, 0.0022,\n",
       "        0.0022, 0.0023, 0.0023, 0.0023, 0.0023, 0.0023, 0.0023, 0.0024, 0.0024,\n",
       "        0.0024, 0.0024, 0.0024, 0.0024, 0.0025, 0.0025, 0.0025, 0.0025, 0.0025,\n",
       "        0.0025, 0.0026, 0.0026, 0.0026, 0.0026, 0.0026, 0.0027, 0.0027, 0.0027,\n",
       "        0.0027, 0.0027, 0.0027, 0.0028, 0.0028, 0.0028, 0.0028, 0.0028, 0.0029,\n",
       "        0.0029, 0.0029, 0.0029, 0.0029, 0.0030, 0.0030, 0.0030, 0.0030, 0.0030,\n",
       "        0.0031, 0.0031, 0.0031, 0.0031, 0.0032, 0.0032, 0.0032, 0.0032, 0.0032,\n",
       "        0.0033, 0.0033, 0.0033, 0.0033, 0.0034, 0.0034, 0.0034, 0.0034, 0.0034,\n",
       "        0.0035, 0.0035, 0.0035, 0.0035, 0.0036, 0.0036, 0.0036, 0.0036, 0.0037,\n",
       "        0.0037, 0.0037, 0.0037, 0.0038, 0.0038, 0.0038, 0.0039, 0.0039, 0.0039,\n",
       "        0.0039, 0.0040, 0.0040, 0.0040, 0.0040, 0.0041, 0.0041, 0.0041, 0.0042,\n",
       "        0.0042, 0.0042, 0.0042, 0.0043, 0.0043, 0.0043, 0.0044, 0.0044, 0.0044,\n",
       "        0.0045, 0.0045, 0.0045, 0.0045, 0.0046, 0.0046, 0.0046, 0.0047, 0.0047,\n",
       "        0.0047, 0.0048, 0.0048, 0.0048, 0.0049, 0.0049, 0.0049, 0.0050, 0.0050,\n",
       "        0.0050, 0.0051, 0.0051, 0.0051, 0.0052, 0.0052, 0.0053, 0.0053, 0.0053,\n",
       "        0.0054, 0.0054, 0.0054, 0.0055, 0.0055, 0.0056, 0.0056, 0.0056, 0.0057,\n",
       "        0.0057, 0.0058, 0.0058, 0.0058, 0.0059, 0.0059, 0.0060, 0.0060, 0.0060,\n",
       "        0.0061, 0.0061, 0.0062, 0.0062, 0.0062, 0.0063, 0.0063, 0.0064, 0.0064,\n",
       "        0.0065, 0.0065, 0.0066, 0.0066, 0.0067, 0.0067, 0.0067, 0.0068, 0.0068,\n",
       "        0.0069, 0.0069, 0.0070, 0.0070, 0.0071, 0.0071, 0.0072, 0.0072, 0.0073,\n",
       "        0.0073, 0.0074, 0.0074, 0.0075, 0.0075, 0.0076, 0.0076, 0.0077, 0.0077,\n",
       "        0.0078, 0.0079, 0.0079, 0.0080, 0.0080, 0.0081, 0.0081, 0.0082, 0.0082,\n",
       "        0.0083, 0.0084, 0.0084, 0.0085, 0.0085, 0.0086, 0.0086, 0.0087, 0.0088,\n",
       "        0.0088, 0.0089, 0.0090, 0.0090, 0.0091, 0.0091, 0.0092, 0.0093, 0.0093,\n",
       "        0.0094, 0.0095, 0.0095, 0.0096, 0.0097, 0.0097, 0.0098, 0.0099, 0.0099,\n",
       "        0.0100, 0.0101, 0.0101, 0.0102, 0.0103, 0.0104, 0.0104, 0.0105, 0.0106,\n",
       "        0.0106, 0.0107, 0.0108, 0.0109, 0.0109, 0.0110, 0.0111, 0.0112, 0.0112,\n",
       "        0.0113, 0.0114, 0.0115, 0.0116, 0.0116, 0.0117, 0.0118, 0.0119, 0.0120,\n",
       "        0.0121, 0.0121, 0.0122, 0.0123, 0.0124, 0.0125, 0.0126, 0.0127, 0.0127,\n",
       "        0.0128, 0.0129, 0.0130, 0.0131, 0.0132, 0.0133, 0.0134, 0.0135, 0.0136,\n",
       "        0.0137, 0.0137, 0.0138, 0.0139, 0.0140, 0.0141, 0.0142, 0.0143, 0.0144,\n",
       "        0.0145, 0.0146, 0.0147, 0.0148, 0.0149, 0.0150, 0.0151, 0.0152, 0.0154,\n",
       "        0.0155, 0.0156, 0.0157, 0.0158, 0.0159, 0.0160, 0.0161, 0.0162, 0.0163,\n",
       "        0.0165, 0.0166, 0.0167, 0.0168, 0.0169, 0.0170, 0.0171, 0.0173, 0.0174,\n",
       "        0.0175, 0.0176, 0.0178, 0.0179, 0.0180, 0.0181, 0.0182, 0.0184, 0.0185,\n",
       "        0.0186, 0.0188, 0.0189, 0.0190, 0.0192, 0.0193, 0.0194, 0.0196, 0.0197,\n",
       "        0.0198, 0.0200, 0.0201, 0.0202, 0.0204, 0.0205, 0.0207, 0.0208, 0.0210,\n",
       "        0.0211, 0.0212, 0.0214, 0.0215, 0.0217, 0.0218, 0.0220, 0.0221, 0.0223,\n",
       "        0.0225, 0.0226, 0.0228, 0.0229, 0.0231, 0.0232, 0.0234, 0.0236, 0.0237,\n",
       "        0.0239, 0.0241, 0.0242, 0.0244, 0.0246, 0.0247, 0.0249, 0.0251, 0.0253,\n",
       "        0.0254, 0.0256, 0.0258, 0.0260, 0.0261, 0.0263, 0.0265, 0.0267, 0.0269,\n",
       "        0.0271, 0.0273, 0.0274, 0.0276, 0.0278, 0.0280, 0.0282, 0.0284, 0.0286,\n",
       "        0.0288, 0.0290, 0.0292, 0.0294, 0.0296, 0.0298, 0.0300, 0.0302, 0.0304,\n",
       "        0.0307, 0.0309, 0.0311, 0.0313, 0.0315, 0.0317, 0.0320, 0.0322, 0.0324,\n",
       "        0.0326, 0.0328, 0.0331, 0.0333, 0.0335, 0.0338, 0.0340, 0.0342, 0.0345,\n",
       "        0.0347, 0.0350, 0.0352, 0.0354, 0.0357, 0.0359, 0.0362, 0.0364, 0.0367,\n",
       "        0.0369, 0.0372, 0.0375, 0.0377, 0.0380, 0.0382, 0.0385, 0.0388, 0.0390,\n",
       "        0.0393, 0.0396, 0.0399, 0.0401, 0.0404, 0.0407, 0.0410, 0.0413, 0.0416,\n",
       "        0.0418, 0.0421, 0.0424, 0.0427, 0.0430, 0.0433, 0.0436, 0.0439, 0.0442,\n",
       "        0.0445, 0.0448, 0.0451, 0.0455, 0.0458, 0.0461, 0.0464, 0.0467, 0.0471,\n",
       "        0.0474, 0.0477, 0.0480, 0.0484, 0.0487, 0.0491, 0.0494, 0.0497, 0.0501,\n",
       "        0.0504, 0.0508, 0.0511, 0.0515, 0.0518, 0.0522, 0.0526, 0.0529, 0.0533,\n",
       "        0.0537, 0.0540, 0.0544, 0.0548, 0.0552, 0.0556, 0.0559, 0.0563, 0.0567,\n",
       "        0.0571, 0.0575, 0.0579, 0.0583, 0.0587, 0.0591, 0.0595, 0.0599, 0.0604,\n",
       "        0.0608, 0.0612, 0.0616, 0.0621, 0.0625, 0.0629, 0.0634, 0.0638, 0.0642,\n",
       "        0.0647, 0.0651, 0.0656, 0.0660, 0.0665, 0.0670, 0.0674, 0.0679, 0.0684,\n",
       "        0.0688, 0.0693, 0.0698, 0.0703, 0.0708, 0.0713, 0.0718, 0.0723, 0.0728,\n",
       "        0.0733, 0.0738, 0.0743, 0.0748, 0.0753, 0.0758, 0.0764, 0.0769, 0.0774,\n",
       "        0.0780, 0.0785, 0.0790, 0.0796, 0.0802, 0.0807, 0.0813, 0.0818, 0.0824,\n",
       "        0.0830, 0.0835, 0.0841, 0.0847, 0.0853, 0.0859, 0.0865, 0.0871, 0.0877,\n",
       "        0.0883, 0.0889, 0.0895, 0.0901, 0.0908, 0.0914, 0.0920, 0.0927, 0.0933,\n",
       "        0.0940, 0.0946, 0.0953, 0.0959, 0.0966, 0.0973, 0.0979, 0.0986, 0.0993,\n",
       "        0.1000, 0.1007, 0.1014, 0.1021, 0.1028, 0.1035, 0.1042, 0.1050, 0.1057,\n",
       "        0.1064, 0.1072, 0.1079, 0.1087, 0.1094, 0.1102, 0.1109, 0.1117, 0.1125,\n",
       "        0.1133, 0.1140, 0.1148, 0.1156, 0.1164, 0.1172, 0.1181, 0.1189, 0.1197,\n",
       "        0.1205, 0.1214, 0.1222, 0.1231, 0.1239, 0.1248, 0.1256, 0.1265, 0.1274,\n",
       "        0.1283, 0.1292, 0.1301, 0.1310, 0.1319, 0.1328, 0.1337, 0.1346, 0.1356,\n",
       "        0.1365, 0.1374, 0.1384, 0.1394, 0.1403, 0.1413, 0.1423, 0.1433, 0.1443,\n",
       "        0.1453, 0.1463, 0.1473, 0.1483, 0.1493, 0.1504, 0.1514, 0.1525, 0.1535,\n",
       "        0.1546, 0.1557, 0.1567, 0.1578, 0.1589, 0.1600, 0.1611, 0.1623, 0.1634,\n",
       "        0.1645, 0.1657, 0.1668, 0.1680, 0.1691, 0.1703, 0.1715, 0.1727, 0.1739,\n",
       "        0.1751, 0.1763, 0.1775, 0.1788, 0.1800, 0.1812, 0.1825, 0.1838, 0.1850,\n",
       "        0.1863, 0.1876, 0.1889, 0.1902, 0.1916, 0.1929, 0.1942, 0.1956, 0.1969,\n",
       "        0.1983, 0.1997, 0.2010, 0.2024, 0.2038, 0.2053, 0.2067, 0.2081, 0.2096,\n",
       "        0.2110, 0.2125, 0.2140, 0.2154, 0.2169, 0.2184, 0.2200, 0.2215, 0.2230,\n",
       "        0.2246, 0.2261, 0.2277, 0.2293, 0.2309, 0.2325, 0.2341, 0.2357, 0.2373,\n",
       "        0.2390, 0.2406, 0.2423, 0.2440, 0.2457, 0.2474, 0.2491, 0.2508, 0.2526,\n",
       "        0.2543, 0.2561, 0.2579, 0.2597, 0.2615, 0.2633, 0.2651, 0.2669, 0.2688,\n",
       "        0.2707, 0.2725, 0.2744, 0.2763, 0.2783, 0.2802, 0.2821, 0.2841, 0.2861,\n",
       "        0.2880, 0.2900, 0.2921, 0.2941, 0.2961, 0.2982, 0.3002, 0.3023, 0.3044,\n",
       "        0.3065, 0.3087, 0.3108, 0.3130, 0.3151, 0.3173, 0.3195, 0.3217, 0.3240,\n",
       "        0.3262, 0.3285, 0.3308, 0.3331, 0.3354, 0.3377, 0.3400, 0.3424, 0.3448,\n",
       "        0.3472, 0.3496, 0.3520, 0.3544, 0.3569, 0.3594, 0.3619, 0.3644, 0.3669,\n",
       "        0.3695, 0.3720, 0.3746, 0.3772, 0.3798, 0.3825, 0.3851, 0.3878, 0.3905,\n",
       "        0.3932, 0.3959, 0.3987, 0.4014, 0.4042, 0.4070, 0.4098, 0.4127, 0.4155,\n",
       "        0.4184, 0.4213, 0.4243, 0.4272, 0.4302, 0.4331, 0.4362, 0.4392, 0.4422,\n",
       "        0.4453, 0.4484, 0.4515, 0.4546, 0.4578, 0.4610, 0.4642, 0.4674, 0.4706,\n",
       "        0.4739, 0.4772, 0.4805, 0.4838, 0.4872, 0.4906, 0.4940, 0.4974, 0.5008,\n",
       "        0.5043, 0.5078, 0.5113, 0.5149, 0.5185, 0.5221, 0.5257, 0.5293, 0.5330,\n",
       "        0.5367, 0.5404, 0.5442, 0.5479, 0.5517, 0.5556, 0.5594, 0.5633, 0.5672,\n",
       "        0.5712, 0.5751, 0.5791, 0.5831, 0.5872, 0.5913, 0.5954, 0.5995, 0.6036,\n",
       "        0.6078, 0.6120, 0.6163, 0.6206, 0.6249, 0.6292, 0.6336, 0.6380, 0.6424,\n",
       "        0.6469, 0.6513, 0.6559, 0.6604, 0.6650, 0.6696, 0.6743, 0.6789, 0.6837,\n",
       "        0.6884, 0.6932, 0.6980, 0.7028, 0.7077, 0.7126, 0.7176, 0.7225, 0.7275,\n",
       "        0.7326, 0.7377, 0.7428, 0.7480, 0.7531, 0.7584, 0.7636, 0.7689, 0.7743,\n",
       "        0.7796, 0.7850, 0.7905, 0.7960, 0.8015, 0.8071, 0.8127, 0.8183, 0.8240,\n",
       "        0.8297, 0.8355, 0.8412, 0.8471, 0.8530, 0.8589, 0.8648, 0.8708, 0.8769,\n",
       "        0.8830, 0.8891, 0.8953, 0.9015, 0.9077, 0.9140, 0.9204, 0.9268, 0.9332,\n",
       "        0.9397, 0.9462, 0.9528, 0.9594, 0.9660, 0.9727, 0.9795, 0.9863, 0.9931,\n",
       "        1.0000])"
      ]
     },
     "execution_count": 44,
     "metadata": {},
     "output_type": "execute_result"
    }
   ],
   "source": [
    "step = 1000\n",
    "lre = torch.linspace(-3, 0, step)\n",
    "lrs = 10**lre\n",
    "lrs"
   ]
  },
  {
   "cell_type": "markdown",
   "id": "4f63a38a-872c-413c-8e67-a8cb5cae9c99",
   "metadata": {},
   "source": [
    "then, we plot the loss for each learning rate:"
   ]
  },
  {
   "cell_type": "code",
   "execution_count": 45,
   "id": "d2d7f1ed-8b28-48dd-9a4b-116c9f6ed7ca",
   "metadata": {},
   "outputs": [
    {
     "data": {
      "text/plain": [
       "[<matplotlib.lines.Line2D at 0x7f9509d05ad0>]"
      ]
     },
     "execution_count": 45,
     "metadata": {},
     "output_type": "execute_result"
    },
    {
     "data": {
      "application/vnd.jupyter.widget-view+json": {
       "model_id": "9723e8a069df4db88c943dc574dff98b",
       "version_major": 2,
       "version_minor": 0
      },
      "image/png": "[encoded data removed]",
      "text/html": [
       "\n",
       "            <div style=\"display: inline-block;\">\n",
       "                <div class=\"jupyter-widgets widget-label\" style=\"text-align: center;\">\n",
       "                    Figure\n",
       "                </div>\n",
       "                <img src='data:image/png;base64,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' width=640.0/>\n",
       "            </div>\n",
       "        "
      ],
      "text/plain": [
       "Canvas(toolbar=Toolbar(toolitems=[('Home', 'Reset original view', 'home', 'home'), ('Back', 'Back to previous …"
      ]
     },
     "metadata": {},
     "output_type": "display_data"
    }
   ],
   "source": [
    "parameters = define_nn()\n",
    "lrei = []\n",
    "lossi = []\n",
    "for p in parameters:\n",
    "    p.requires_grad = True\n",
    "for i in range(1000):\n",
    "    batchix = torch.randint(0, x_all.shape[0], (batchsize,))\n",
    "    bx, by = x_all[batchix], y_all[batchix]\n",
    "    loss = forward_pass(bx, by)\n",
    "    # print(loss.item())\n",
    "    for p in parameters:\n",
    "        p.grad = None\n",
    "    loss.backward()\n",
    "    lr = lrs[i]\n",
    "    for p in parameters:\n",
    "        p.data += -lr * p.grad\n",
    "    lrei.append(lre[i])\n",
    "    lossi.append(loss.item())\n",
    "plt.figure()\n",
    "plt.plot(lrei, lossi)"
   ]
  },
  {
   "cell_type": "markdown",
   "id": "89e6312b-1c82-4c6c-a7a1-0a47bce351a4",
   "metadata": {},
   "source": [
    "Here, we see the **loss** dropping as the exponent of the learning rate starts to increase, then, after a learning rate of around `0.5`, the **loss** starts to increase. A good rule of thumb is to pick a learning rate whose at a point around which the **loss** is the lowest and most stable, before any increasing tendency. Let's pick the learning rate whose exponent corresponds to the lowest **loss**:"
   ]
  },
  {
   "cell_type": "code",
   "execution_count": 46,
   "id": "70da2ab6-fd7c-4569-931c-15e4b39fbd72",
   "metadata": {},
   "outputs": [
    {
     "data": {
      "text/plain": [
       "tensor(0.3644)"
      ]
     },
     "execution_count": 46,
     "metadata": {},
     "output_type": "execute_result"
    }
   ],
   "source": [
    "lr = 10**lrei[lossi.index(min(lossi))]\n",
    "lr"
   ]
  },
  {
   "cell_type": "markdown",
   "id": "5154ac9e-1649-42d1-8793-81e77b09ad56",
   "metadata": {},
   "source": [
    "Now we have some confidence that this is a fairly good learning rate. Now let's train for many epochs using this new learning rate!"
   ]
  },
  {
   "cell_type": "code",
   "execution_count": 47,
   "id": "a6c7b611-263c-46fc-9f5e-16aac8b6705a",
   "metadata": {},
   "outputs": [
    {
     "name": "stdout",
     "output_type": "stream",
     "text": [
      "2.075505495071411\n"
     ]
    }
   ],
   "source": [
    "_ = train(x_all, y_all, lr=lr, epochs=10000, print_all_losses=False)"
   ]
  },
  {
   "cell_type": "markdown",
   "id": "bdc4ac35-6494-48ef-b755-feb8304cb6d3",
   "metadata": {},
   "source": [
    "Nice. We got a much smaller **loss** after training. We have dramatically improved on the bigram language model, using this simple **nn** of only $3481$ parameters. Now, there's something we have to be careful with. Although our **loss** is the lowest so far, it is not _exactly_ true to say that we now have a better model. The reason is that this is actually a very small model. Even though these kind of models can get much larger by adding more and more parameters, e.g. with $10000$, $100000$ or a million parameters, as the capacity of the **nn** grows, it becomes more and more capable of overfitting your training set. What that means is that the **loss** on the training set (the data that you are training on), will become very very low. As low as $0$. But in such a case, all that the model is doing is memorizing your training set exactly, **verbatim**. So, if you were to take this model and it's working very well, but you try to sample from it, you will only get examples, exactly as they are in the training set. You won't get any new data. In addition to that, if you try to evaluate the **loss** on some withheld names or other input data (e.g. words), you will actually see that the **loss** of those will be very high. And so it is in practice basically not a very good model, since it doesn't generalize. So, it is standard in the field to split up the dataset into $3$ splits, as we call them: the _training_ split (roughly $80\\%$ of data), the _dev_/_validation_ split ($10\\%$) and the _test_ split ($10\\%$)."
   ]
  },
  {
   "cell_type": "code",
   "execution_count": 48,
   "id": "d3a34558-6046-4b81-aa9c-334d288ee9ca",
   "metadata": {},
   "outputs": [],
   "source": [
    "# training split, dev/validation split, test split\n",
    "# 80%, 10%, 10%"
   ]
  },
  {
   "cell_type": "markdown",
   "id": "6e6142c0-ce4c-464a-9f40-23025a588429",
   "metadata": {},
   "source": [
    "Now, the training split is used to optimize the parameters of the model (for training). The validation split is typically used for development and tuning over all the hyperparameters of the model, such as the learning rate, layer width, embedding size, regularization parameters, and other settings, in order to choose a combination that works best on this split. The test split is used to evaluate the performance of the model at the end (after training). So, we are only evaluating the **loss** on the test split very very sparingly and very few times. Because, every single time you evaluate your test **loss** and you learn something from it, you are basically trying to also train on the test split. So, you are only allowed to evaluate the **loss** on the test dataset very few times, otherwise you risk overfitting to it as well, as you experiment on your model. Now, let's actually split our dataset into training, validation and test datasets. Then, we are going to train on the training dataset and only evaluate on the test dataset very very sparingly. Here we go:"
   ]
  },
  {
   "cell_type": "code",
   "execution_count": 49,
   "id": "883e5a68-edf8-4f71-a650-50338b4678d9",
   "metadata": {},
   "outputs": [
    {
     "name": "stdout",
     "output_type": "stream",
     "text": [
      "lenwords=32033\n",
      "25626 words in training set\n",
      "3203 words in validation set\n",
      "3204 words in test\n"
     ]
    }
   ],
   "source": [
    "import random\n",
    "\n",
    "random.seed(42)\n",
    "random.shuffle(words)\n",
    "lenwords = len(words)\n",
    "n1 = int(0.8 * lenwords)\n",
    "n2 = int(0.9 * lenwords)\n",
    "print(f\"{lenwords=}\")\n",
    "print(f\"{n1} words in training set\")\n",
    "print(f\"{n2 - n1} words in validation set\")\n",
    "print(f\"{lenwords - n2} words in test\")"
   ]
  },
  {
   "cell_type": "code",
   "execution_count": 50,
   "id": "a833ab95-93f0-487d-8afb-362e81de9aee",
   "metadata": {},
   "outputs": [
    {
     "name": "stdout",
     "output_type": "stream",
     "text": [
      "torch.Size([182580, 3]) torch.Size([182580])\n",
      "torch.Size([22767, 3]) torch.Size([22767])\n",
      "torch.Size([22799, 3]) torch.Size([22799])\n"
     ]
    }
   ],
   "source": [
    "xtrain, ytrain = build_dataset(words[:n1])\n",
    "xval, yval = build_dataset(words[n1:n2])\n",
    "xtest, ytest = build_dataset(words[n2:])"
   ]
  },
  {
   "cell_type": "markdown",
   "id": "2ca37eff-b76d-4de5-b693-b9a0c52a3d0f",
   "metadata": {},
   "source": [
    "We now have the $3$ split sets. Great! Let's now re-define our parameters train, anew, on the training dataset:"
   ]
  },
  {
   "cell_type": "code",
   "execution_count": 51,
   "id": "b5c755bc-c206-4ff4-adf1-aed344e85e28",
   "metadata": {},
   "outputs": [
    {
     "name": "stdout",
     "output_type": "stream",
     "text": [
      "2.2565770149230957\n"
     ]
    }
   ],
   "source": [
    "loss_train = train(xtrain, ytrain, lr=lr, epochs=30000, print_all_losses=False)"
   ]
  },
  {
   "cell_type": "markdown",
   "id": "5beb3b52-f9cd-4bd8-8c34-b03cdb7e88f9",
   "metadata": {},
   "source": [
    "Awesome. Our **nn** has been trained and the final **loss** is actually surprisingly good. Let's now evaluate the **loss** of the validation set (remember, this data was not in the training set on which it was trained):"
   ]
  },
  {
   "cell_type": "code",
   "execution_count": 52,
   "id": "90ea9480-2e04-49fe-b78b-f4f243dc97c7",
   "metadata": {},
   "outputs": [
    {
     "data": {
      "text/plain": [
       "tensor(2.4286, grad_fn=<NllLossBackward0>)"
      ]
     },
     "execution_count": 52,
     "metadata": {},
     "output_type": "execute_result"
    }
   ],
   "source": [
    "loss_val = forward_pass(xval, yval)\n",
    "loss_val"
   ]
  },
  {
   "cell_type": "markdown",
   "id": "23578d78-84d2-4632-abc8-66fbf335aea6",
   "metadata": {},
   "source": [
    "Not too bad! Now, as you can see, our `loss_train` and `loss_val` are pretty close. In fact, they are roughly equal. This means that we are **not** overfitting, but underfitting. It seems that this model is not powerful enough so as not to be purely memorizing the data. Basically, our **nn** is very tiny. But, we can expect to make performance improvements by scaling up the size of this **nn**. The easiest way to do this is to redefine our **nn** with more neurons in the hidden layer:"
   ]
  },
  {
   "cell_type": "code",
   "execution_count": 53,
   "id": "0c1fbfab-74a2-4b32-b781-27e701bc8423",
   "metadata": {},
   "outputs": [],
   "source": [
    "parameters = define_nn(l1out=300)"
   ]
  },
  {
   "cell_type": "markdown",
   "id": "f8e3c70d-da7b-4c20-a646-dee5a9879c56",
   "metadata": {},
   "source": [
    "Then, let's re-train and visualize the loss curve:"
   ]
  },
  {
   "cell_type": "code",
   "execution_count": 54,
   "id": "9853f77d-4228-4643-87dc-681a44cda7ed",
   "metadata": {},
   "outputs": [
    {
     "data": {
      "text/plain": [
       "[<matplotlib.lines.Line2D at 0x7f9506c6da50>]"
      ]
     },
     "execution_count": 54,
     "metadata": {},
     "output_type": "execute_result"
    },
    {
     "data": {
      "application/vnd.jupyter.widget-view+json": {
       "model_id": "7e161d07ee7d4211aa8abda1df02755f",
       "version_major": 2,
       "version_minor": 0
      },
      "image/png": "[encoded data removed]",
      "text/html": [
       "\n",
       "            <div style=\"display: inline-block;\">\n",
       "                <div class=\"jupyter-widgets widget-label\" style=\"text-align: center;\">\n",
       "                    Figure\n",
       "                </div>\n",
       "                <img src='data:image/png;base64,iVBORw0KGgoAAAANSUhEUgAAAoAAAAHgCAYAAAA10dzkAAAAOXRFWHRTb2Z0d2FyZQBNYXRwbG90bGliIHZlcnNpb24zLjcuMSwgaHR0cHM6Ly9tYXRwbG90bGliLm9yZy/bCgiHAAAACXBIWXMAAA9hAAAPYQGoP6dpAABWR0lEQVR4nO3dd3hUZcLG4WfSQUgAIQkl9N5Ch4ggSBSQxbLuLp8NxK6wsrI2LKC4iuuubVfsIroW7FhAFENHivTeS2gJPQ1ISHK+P2KGmWRqkslM5vzu68pFcuaUdw6TzDNvtRiGYQgAAACmEeLvAgAAAKByEQABAABMhgAIAABgMgRAAAAAkyEAAgAAmAwBEAAAwGQIgAAAACZDAAQAADAZAiAAAIDJEAABAABMhgAIAABgMgRAAAAAkyEAAgAAmAwBEAAAwGQIgAAAACZDAAQAADAZAiAAAIDJEAABAABMhgAIAABgMgRAAAAAkyEAAgAAmAwBEAAAwGQIgAAAACZDAAQAADAZAiAAAIDJEAABAABMhgAIAABgMgRAAAAAkyEAAgAAmAwBEAAAwGQIgAAAACZDAAQAADAZAiAAAIDJEAABAABMhgAIAABgMgRAAAAAkyEAAgAAmAwBEAAAwGQIgAAAACZDAAQAADAZAiAAAIDJEAABAABMhgAIAABgMgRAAAAAkyEAAgAAmAwBEAAAwGQIgAAAACZDAAQAADAZAiAAAIDJEAABAABMhgAIAABgMgRAAAAAkyEAAgAAmAwBEAAAwGQIgAAAACZDAAQAADCZMH8XoCorLCzU4cOHVbNmTVksFn8XBwAAeMAwDGVlZalBgwYKCTFnXRgBsBwOHz6shIQEfxcDAACUwYEDB9SoUSN/F8MvCIDlULNmTUlFL6Do6Gg/lwYAAHgiMzNTCQkJ1vdxMyIAlkNxs290dDQBEACAKsbM3bfM2fANAABgYgRAAAAAkyEAAgAAmAwBEAAAwGQIgAAAACZDAAQAADAZAiAAAIDJEAABAABMhgAIAABgMgRAAAAAkyEAAgAAmAwBEAAAwGQIgAHoWFaupszeqr3Hc/xdFAAAEIQIgAFo3Iy1emvRHl07dam/iwIAAIIQATAArd5/SpKUcfa8n0sCAACCUdAEwEWLFmn48OFq0KCBLBaLZs6c6fGxS5cuVVhYmLp06eKz8gEAAASKoAmAOTk5SkxM1NSpU7067vTp0xo5cqQGDRrko5IBAAAEljB/F6CiDB06VEOHDvX6uHvuuUc33nijQkNDvao1BAAAqKqCpgawLN5//33t2bNHkyZN8ndRAAAAKk3Q1AB6a+fOnXr00Ue1ePFihYV5dhtyc3OVm5tr/TkzM9MnZTN8clYAAIAipqwBLCgo0I033qinn35arVu39vi4KVOmKCYmxvqVkJDgw1ICAAD4hikDYFZWllatWqWxY8cqLCxMYWFhmjx5stavX6+wsDDNmzfP4XETJkxQRkaG9evAgQM+KZ/FJ2cFAAAoYsom4OjoaG3cuNFu2+uvv6558+bpyy+/VLNmzRweFxkZqcjISJ+XjyZgAADgS0ETALOzs7Vr1y7rz3v37tW6detUp04dNW7cWBMmTNChQ4f04YcfKiQkRB07drQ7PjY2VlFRUaW2AwAABJugCYCrVq3SwIEDrT+PHz9ekjRq1ChNnz5dR44cUWpqqr+KBwAAEDAshmHQ4lhGmZmZiomJUUZGhqKjoyvsvH//fL2+WnNQHRtG64e/9quw8wIAAN+9f1clphwEEuhaxF4kSWoXb84XJQAA8C0CIAAAgMkQAAOQhYlgAACADxEAAxidMwEAgC8QAAEAAEyGAAgAAGAyBMAAZPm9CyAT9AAAAF8gAAIAAJgMARAAAMBkCIABiElgAACALxEAA5jBRDAAAMAHCIAAAAAmQwAEAAAwGQJgACqeBoYWYAAA4AsEQAAAAJMhAAIAAJgMATAAWX6fCIYWYAAA4AsEQAAAAJMhAAIAAJgMARAAAMBkCIABqHgaGMOgFyAAAKh4BEAAAACTIQACAACYDAEwgM1cd1i7jmb7uxgAACDIEAAD3LVTl/q7CAAAIMgQAANcdm6+v4sAAACCDAEQAADAZAiAAchSPA8MAACADxAAAxDxDwAA+BIBMABRAQgAAHyJAAgAAGAyBMAARAUgAADwJQJgAGIQCAAA8CUCYAAi/wEAAF8iAAagkvlv2H8W69z5Ar+UBQAABB8CYBWw+XCmftx0xN/FAAAAQYIAGIgctAEXFPqhHAAAICgRAAMQXQABAIAvEQADEINAAACALxEAA5CFOkAAAOBDBMAARA0gAADwJQIgAACAyRAAAxAVgAAAwJcIgAGIJmAAAOBLQRMAFy1apOHDh6tBgwayWCyaOXOmy/2//vprXXHFFapXr56io6OVlJSkn376qXIK60bm2Xx/FwEAAASxoAmAOTk5SkxM1NSpUz3af9GiRbriiis0e/ZsrV69WgMHDtTw4cO1du1aH5fUvTxmfQYAAD4U5u8CVJShQ4dq6NChHu//yiuv2P383HPP6dtvv9X333+vrl27VnDpvJObTwAEAAC+EzQ1gOVVWFiorKws1alTx99F0UfL9/u7CAAAIIgFTQ1gef373/9Wdna2/vKXvzjdJzc3V7m5udafMzMzfVKWkzl5PjkvAACARA2gJOmTTz7R008/rc8//1yxsbFO95syZYpiYmKsXwkJCZVYSgAAgIph+gA4Y8YM3XHHHfr888+VnJzsct8JEyYoIyPD+nXgwAGflCk0pPQ8MPkMDAEAABXE1AHw008/1ejRo/Xpp59q2LBhbvePjIxUdHS03ZcvOJoG8MW5O3xyLQAAYD5B0wcwOztbu3btsv68d+9erVu3TnXq1FHjxo01YcIEHTp0SB9++KGkombfUaNG6dVXX1Xv3r2VlpYmSapWrZpiYmL88hyKhVgskgy7bceych3vDAAA4KWgqQFctWqVunbtap3CZfz48eratasmTpwoSTpy5IhSU1Ot+7/99tvKz8/XmDFjVL9+fevXuHHj/FJ+W6wEAgAAfCloagAHDBggwzCcPj59+nS7nxcsWODbApUDARAAAPhS0NQABpNQEiAAAPAhAmAACnEwCthWQaGhE9n0CQQAAGVDAAxAIU5qACd9u0kZZ8/r5ndXqPs/ftHGgxmVXDIAABAMgqYPYDBxVgH4wbL9ys0v1LI9JyRJn/6Wqk6NOlViyQAAQDCgBjAAOasBlKTdx7IrsSQAACAYEQAD0AnWAgYAAD5EAKzCXMx6AwAA4BQBsIoh9AEAgPIiAFZppEEAAOA9AmAVVlwb+P36w3rgs3U6d77AvwUCAABVAgEwADW9uLpX+//107X6Zu0hfbR8v49KBAAAggkBMIgwehgAAHiCABiALC7mAaTXHwAAKC8CYBXGiGAAAFAWBMAA5Lz+z55BfSAAACgDAmAg8jQBAgAAlAEBMACR/wAAgC8RAAOQy0EgNh3/SvYBpE8gAADwBAEwAFEDCAAAfIkAWMWcO1/o7yIAAIAqjgBYxWw5kmn9nhZfAABQFgTAKow+fwAAoCwIgAHI01y3NvWUT8sBAACCEwEwAHk6CGTP8RyflgMAAAQnAmAQcTF7DAAAgBUBsIrbdCjD+j19AgEAgCcIgAHIm5q8P/x3ie8KAgAAghIBEAAAwGQIgAAAACZDAAxAFhaDAwAAPkQABAAAMBkCYAAyWOQNAAD4EAEwiBAcAQCAJwiAAAAAJkMADEBM6AwAAHyJABiAyH8AAMCXCIAByKAKEAAA+BABMAAR/wAAgC8RAIMIE0gDAABPEAADEVWAAADAhwiAAais+Y95AAEAgCcIgAHIQksuAADwIQJgAKoZFe7vIgAAgCBGAAQAADCZoAmAixYt0vDhw9WgQQNZLBbNnDnT7TELFixQt27dFBkZqZYtW2r69Ok+LycAAIC/BU0AzMnJUWJioqZOnerR/nv37tWwYcM0cOBArVu3Tn/72990xx136KeffvJxSX3rw2X7NH/7UX8XAwAABLAwfxegogwdOlRDhw71eP8333xTzZo104svvihJateunZYsWaKXX35ZgwcP9lUxfeqthXus3+97fpgfSwIAAAJZ0NQAemvZsmVKTk622zZ48GAtW7bM6TG5ubnKzMy0+wIAAKhqTBsA09LSFBcXZ7ctLi5OmZmZOnv2rMNjpkyZopiYGOtXQkKCT8rGLDAAAMCXTBsAy2LChAnKyMiwfh04cMAn12E6ZwAA4EtB0wfQW/Hx8UpPT7fblp6erujoaFWrVs3hMZGRkYqMjPR52Qa0rqf1B077/DoAAMCcTFsDmJSUpJSUFLttc+fOVVJSkp9KdEHnRjH+LgIAAAhiQRMAs7OztW7dOq1bt05S0TQv69atU2pqqqSi5tuRI0da97/nnnu0Z88ePfzww9q2bZtef/11ff7553rggQf8UfwKV1ho6KWftytla7r7nQEAgKkETRPwqlWrNHDgQOvP48ePlySNGjVK06dP15EjR6xhUJKaNWumWbNm6YEHHtCrr76qRo0a6d13362yU8CU9POWdP1n3i5JTAkDAADsBU0AHDBggAzD+fAJR6t8DBgwQGvXrvVhqcrGxdPw2Dr6EAIAACeCpgkY9j5evt/fRQAAAAGKABisPJhM0DAMbT6cobz8Qt+XBwAABAwCYACqiHkAs87lu91n+q/7NOw/S3TvR6sr4IoAAKCqIACa2LuL90qSUrYd9XNJAABAZSIABiBXg1kAAADKiwAIAABgMgTAANQitoa/iwAAAIIYATAAtahHAAQAAL5DAAQAADAZAqCJMdgEAABzIgCaGPEPAABzIgACAACYDAEwQCU2iqmwc721cHeFnQsAAFR9BMAAFRkWWmHnmvLjNofb6QIIAIA5EQADlEEPPQAA4CMEwABF7RwAAPAVAqBJbDyYoQe/WK/0zHPWbdQyAgBgTmH+LgAcq+hoNvy1JZKkIxln9fEdfYquQf4DAMCUqAEMUL6apHn30RyfnBcAAFQdBMAAReUcAADwFQJggPJV86zFcuH7o1m5vrkIAAAIaATAAEUNIAAA8BUCYICKrRnpk/Na3O8CAACCHAEwQIWFENUAAIBvEABNxmIhWAIAYHYEQAAAAJMhAAYoX40CPnT6rKbO36XCQoaZAABgVqwEEqB8uUzbv37arppR/NcDAGBW1ACa1MRvN/u7CAAAwE8IgAGqWd0a/i4CAAAIUgTAADW0Y7y/iwAAAIIUATBAMVsLAADwFQIgrHLzC3Tzuyv0wpxt/i4KAADwIQIgrD5Zkaolu47r9QW7te94jr+LAwAAfIQACKsT2XnW79cfPO2/ggAAAJ8iAAYoiyq/E6Av5x4EAACBgwAIAABgMgRAWPlq+TkAABBYCICwIv8BAGAOBMAA1SL2okq9Xn5BYaVeDwAA+A8BMEBVjwhTSCWOA8nNL6QJGAAAkyAABrCLIsP8XQQAABCECICQJN383grl5dMMDACAGRAAIUlam3pa3284XGr77I1H9PCX65WbX+CHUgEAAF8IqgA4depUNW3aVFFRUerdu7dWrlzpcv9XXnlFbdq0UbVq1ZSQkKAHHnhA586dq6TSuvfMNR0r9Xq550uHvPs+XqPPVx3UJytSK7UsAADAd4ImAH722WcaP368Jk2apDVr1igxMVGDBw/W0aNHHe7/ySef6NFHH9WkSZO0detWvffee/rss8/02GOPVXLJnevepHalXs92DMirv+y0e+x4dm6llgUAAPhO0ATAl156SXfeeadGjx6t9u3b680331T16tU1bdo0h/v/+uuv6tu3r2688UY1bdpUV155pW644Qa3tYZmsed4jt3PjBAGACB4BEUAzMvL0+rVq5WcnGzdFhISouTkZC1btszhMZdccolWr15tDXx79uzR7NmzddVVVzm9Tm5urjIzM+2+ggohDwAAUwiKeUaOHz+ugoICxcXF2W2Pi4vTtm3bHB5z44036vjx47r00ktlGIby8/N1zz33uGwCnjJlip5++ukKLbsr4aGVm89d5T+yIQAAwSMoagDLYsGCBXruuef0+uuva82aNfr66681a9YsPfPMM06PmTBhgjIyMqxfBw4c8GkZ42OidOslTX16DVvZufmVdi0AAOA/QVEDWLduXYWGhio9Pd1ue3p6uuLj4x0e8+STT+qWW27RHXfcIUnq1KmTcnJydNddd+nxxx9XSEjpbBwZGanIyMiKfwIuPHV1B32x6oBy8vw7DQt9AAEACB5BUQMYERGh7t27KyUlxbqtsLBQKSkpSkpKcnjMmTNnSoW80NBQSZIRYGmnbs3KDZ0AACC4BUUNoCSNHz9eo0aNUo8ePdSrVy+98sorysnJ0ejRoyVJI0eOVMOGDTVlyhRJ0vDhw/XSSy+pa9eu6t27t3bt2qUnn3xSw4cPtwZBXGDQCxAAgKARNAFwxIgROnbsmCZOnKi0tDR16dJFc+bMsQ4MSU1Ntavxe+KJJ2SxWPTEE0/o0KFDqlevnoYPH65nn33WX08BAACgUliMQGvvrEIyMzMVExOjjIwMRUdH++w69328WrM3pvns/M7se36Ymj46S5J092XNNWFou0ovAwAAFa2y3r8DWVD0AQx2r/5fV38XAQAABBECYBVQ2fMBupJfUKiDp874uxgAAKAcgqYPIHzs944CN727Qiv2ntT7o3sq48x55Rca+lP3Rv4tGwAA8AoBEB57/sdtWrH3pCTpvcV7tWTXcUlScrtY1aoe4c+iAQAALwRO2yICmiHpzYW7rT/nFRRavz/j50mqAQCAdwiAKBOLvwsAAADKjAAIjzBbEAAAwYMACKe+X3/Y6WMWqgABAKiyCIBw6q+frrV+X7IC0EIjMAAAVRYBEGVis6oeqwQDAFDFEAABAABMhgCIcqMxGACAqoUACI+UbOZduuuEX8oBAADKjwAIAABgMgTAKmLswJZ+vb6raQAZBAIAQNVCAKwiLmtTz99FAAAAQYIAWEX0bFrH30VwauvhTH8XAQAAeIEACI8YLhp6j2Seq8SSAACA8iIAwiPvL93n/EE36wQXFBqaufaQDpw8U7GFAgAAZRLm7wIg+M34LVWPf7NJkrTv+WF+Lg0AAKAGEOXmbhTw8j0nK6UcAADAMwRAlJubFmAAABBgCIAAAAAmQwAEAAAwGQIgfM5w0kack5uvhTuO6XxBYSWXCAAAc2MUMMrNWcDLOHNe10xdon0nHE//ctf/VmnprhO6u39zTbiqnS+LCAAAbFADiHJzNgZk+q/7nIY/SVq664Qk6a1Fe3xQKgAA4AwBsAr57K4+/i6CVwq8GB6ck5vvw5IAAABbBMAqpHfzi/1dBIcqYhqYb9YeKv9JAACARwiAKLeCQkN3fPCbXvx5u/0DXiRDphIEAKDyEACrmBBL6W2z7r+08gti45et6fpl61H9d94uZZ0779eyAAAA9wiAVUy9mpGltnVoEOOHklywYu+Fpd4W7jh24QGLg7TqhOd7AgCA8iIAVjHTR/fSRRGh/i6GU9+tO6yNBzM0c+0hZZ9jYAcAAIGIeQCrmHb1o7XgoYHq+ewv/i6KQz9vSdfPW9KdPn4iO1cX1yhdi+lFZSEAACgnagCrIEfNwFXFS3N3+LsIAACYHgGwimpfP9rfRSiTM3kFDrdb6AUIAEClIQCi0hUUGk6Xj3PEMLzbHwAAuEYfQFSqVftPqsVjs1Uz0rOXXkGhoatfW6L46Ci9d2vPMl0zv6BQJ3LyFBcdVabjAQAINtQAVlF/6dFIkpSYUMu/BfHSgZNnJUlZHi79tuVwpjYfzlTKtqNlvuaIt5er93MpWr3/pPudAQAwAWoAq6iRSU3VoWFMle0LWJKzUcBGBawRsnr/KUnSZ78dUPcmdVzuW1hoKPPcedWqHlHu6wIAEKioAayiQkIs6tm0ji7ysCk10M0vRw1fRbr5vRXqMnmutqVl+rsoAAD4DAEQAcHZ3IGVPfbj190nJEmf/3awci8MAEAlIgAiYJw773iKGAAAULGCKgBOnTpVTZs2VVRUlHr37q2VK1e63P/06dMaM2aM6tevr8jISLVu3VqzZ8+upNKipOPZuR7vm3HmvK55bYmmLdnr8TGBOpPModNnVVgYoIUDAASloAmAn332mcaPH69JkyZpzZo1SkxM1ODBg3X0qOO+ZXl5ebriiiu0b98+ffnll9q+fbveeecdNWzYsJJLjmKGIR3Lsg+BGw5llNrvXz9tU+Lkn7X+YIYm/7DF4/N/sfqgx7WMFTH4xBNfrj6ovs/P0yNfbaiU6wEAIAVRAHzppZd05513avTo0Wrfvr3efPNNVa9eXdOmTXO4/7Rp03Ty5EnNnDlTffv2VdOmTXXZZZcpMTGxkkuOYje9u0I9n/1Fq/ef0ukzeSooNPTkzE12+8zdkq6p83eX+Rr/mHUhMBpG0Yhff3r596XxvlgdvH0OmcQbAAJPUATAvLw8rV69WsnJydZtISEhSk5O1rJlyxwe89133ykpKUljxoxRXFycOnbsqOeee04FBVWzH1rb+Jr+LkK5pZ48I0ma/MMWdZk8V39+89dS+9z54apyXeOj5aka8/EaSdL9M9ap81M/a23qqXKdszwyz/o3gPra/hM56vlsit5aWPbQDgCoeEERAI8fP66CggLFxcXZbY+Li1NaWprDY/bs2aMvv/xSBQUFmj17tp588km9+OKL+sc//uH0Orm5ucrMzLT7QsVbf+C0JGlN6mmfnH/WxiOSpO/XH5YkvbN4T6l9KqvSytMJsauqZ2dt1fHsXE35cZu/iwIAsBEUAbAsCgsLFRsbq7ffflvdu3fXiBEj9Pjjj+vNN990esyUKVMUExNj/UpISKjEErt226XN/F0EoBTGtgBAYAqKAFi3bl2FhoYqPd1+Lrn09HTFx8c7PKZ+/fpq3bq1QkNDrdvatWuntLQ05eXlOTxmwoQJysjIsH4dOHCg4p5EOf25eyNFRwXHpND+8vmqC/+fZ/LytWLPCb+Ozv1o+X6NmrZSZ/KCu5YQAFD5giIARkREqHv37kpJSbFuKywsVEpKipKSkhwe07dvX+3atUuFhYXWbTt27FD9+vUVEeF4GbDIyEhFR0fbfQUKi8WiVnFVvx+gv5w+k6eHv7wwEvfzVQc14u3lmrbU82lmHDl3vkAZZ8rWz++JmZu0cMcxfbhsf7nK4E+nzzj+MAUA8K+gCICSNH78eL3zzjv64IMPtHXrVt17773KycnR6NGjJUkjR47UhAkTrPvfe++9OnnypMaNG6cdO3Zo1qxZeu655zRmzBh/PQW4UeDD2rgtRxz35/xiVflG53adPFeJk38u12jjnCrcT3DVfv8NsAEAOBc0bYYjRozQsWPHNHHiRKWlpalLly6aM2eOdWBIamqqQkIu5N2EhAT99NNPeuCBB9S5c2c1bNhQ48aN0yOPPOKvpwA3nv5+c4Wdy3a+wdzzhbLIUmHntnX293kHtx3JUq9mdXxyDQAAvBU0AVCSxo4dq7Fjxzp8bMGCBaW2JSUlafny5T4uFSqKs6bQjLPnFVMt3Ktz9Xz2F+v3KduO6o5+zctVNgAAqpKgaQKGef1txlrl5ReWa8CGxTcVgAAABCQCIKq8+duPKfHpn3Xd60slSecLCt0cUVpZ85/tKhcZZ8/r2qlL9Z4X6xN7do0KPZ1XjmaeU3YV7oMIAHCMAIigcPZ8gdYfzNDuY9lq9fiPmvjtJvcH2bB4WAU4a8MRvb2oaFWL/y3fr2YTZmvKj1slSe8u3qN1B07rGQfrE1fFGsZjWbnq9VyKOk76yd9FAQBUMAIggsrUebskFfUX9GYKkrlbHK8YU9KYT9boudnbtOlQhnWd4rcWFq0kcjbvwjKCy/ec8Pjagap4RRYAQPAhAAaRDg0CZ15Cf1mx96T1+3/O2e7xce8s9q7Z9kRO6XBp21L71HcVN2LZlYJCQ099t1mzNhyplOt5YsvhTGUE+RrHAFDVBdUoYLN7eEhb1YwK07GsXH1ezvnrqqpDp89av/90ZarWBMg8dL5qAf5+/WFN/3Wfpv+6T8M6D/PRVTx314er9POWdFks0t4p/i+Pr3y5+qC2HcnU48Paedx9AAACCTWAQaRGZJgeGtxW7epTE1hse3qWT87ryYjjHzc6rpVL2Zqunzd71uQsSYacX8t2PsPyyMnN19Pfb9aqfRdqUN3lms2HMzToxQX6yea5/LylaDlGfw5cqQwPfrFe7y7ZqyW7jvu7KABQJgTAIER9RMXJ+X0dXsMwtMMmTI6e/pvbY+/9eI31+8MZ5yQVLQ13+werdNf/ViurxOogby7c7fA8v+3zXS3m6TN52pmepVdTdur9pfv0pzeXuT3mpZ+366Pl+3XvR2u0+1iO7v7fap+VL9CdLuMyfwDgbzQBByGapCrOwVNFTcofr0jVEzO9G1ls6/5P16pejUi1t6mdvfV9+xD5/I/bdM9lLUodu9KmX+OBk2eUdS5f7X/v71ne/+ouk+dKkhLqVCv1mKNzb0/L0n9+H2hTt4bjNbODkWEYXv1e/bIlXceyc3VDr8Y+LBUAlB01gEHI9n3qlRFd/FaOYPLKLztdPu5JU+zHK+xXMlldhv6J/V6Yr6v+s1hpv9coVpQDJ8+630myq7U8nu35KOuq7JVfdujSf873qrn9jg9XacLXG7XrqG+6IABAeREAg9y1XRv6uwhV3nWvL9XxbNdv/p6Egx82HFFhBXWOu+/jsje7Goahw6fdBz5H6yMHete+nelZevCL9dp/IqfCzvnKLzt16PRZTZ2/y+tjAy0kP/PDFl3x0kLl5OZre1qW3liwW+fOF7g/EEDQoQkYcGNt6mm3+zw3e6tST56x/rwtzXHNzyNfbXB5niMZZ3Uq57yWuZlHcE3qaZ07X6BdR7NLPWYYht5bslft6kerb8u6Dsv6zuK9emp4e5fXqIquf+NXZZ7L15r9pzTvwQHW7Sdz8vTx8v26vnsjNahVurnbE47Cu21t+6mcPJ06k6fm9WpYtwXaYJjiVWq+WnNQE78tmqro7PkCjb+itT+LVakMw9CrKTvVKramhnWu7+/iAH5DAAxC9ACsfJ6OBi0eJetM0pR5Hl+z7ZNzHG5fvPO4/jGraHWSfc8P09m8AlWLCLU+Xjzn4XOzt3l8rWLeBBpXS/LlFxTqhneWK6ZauN4Z2aPC+q1mnisatLPnuH0N4LgZa7V453F9sfqgFj08sEzndvfcuz5T1J9y0UMXzu9qBLc/2Y5i33jwtP8KUgEMw9Dmw5lqUa+G3evcmWW7T1i7dATC1EmAv9AEHIQGtImVJNWrGWm3vU/zOv4oDipJwe9v6mtSL/Qt3HgwQ+0mzlHTR2eVahZ1F05StrkOq7ZyHKwX3OvZX+yvZxgqKDQ06dtNuvGdFfpt3yn9svWolu66UNtZUGjoi1UHtO94+Ztw16SeUp/nUjRrwxEt3lkU0G1rab3laZizvf/wDcMwtPVIps4XFOrrNYf0h/8u0f+9s9yjY4+56c4BmAUBMAgl1KmulY8N0uISNR2O+nQhePR+7hedycu3G7DyasqF74f9Z4lH58k4e16/7jqudTZLwZ0vKLQGTEc6TPrJbhJuSTpVYoqUkdNWavbGI/pg2X6ttJlv8JTNkn2frkzVQ19u0IB/L/CorLZK9tO8bfpvSss8pzGfrHFyRGmHTp/VFS8tLDVgR/K89rNkUMw4c15TZm/V1iOZHpejMlW1WQPyCwrVbMJsDX11scZ+skafrTogiaULA0F+QaEW7jhWaoorBCYCYJCKjY5SVLh9c8jNfZr4qTQoL0d9/Uo6np2n9hN/KrH1QhjJzs3X7mPuz5P49M+68d0V2nToQmDpOnmuOkyaI8NFCpq59pDL8y7eeVwnHSyhZ5s/frMJht7aUWLS7+xzpWslpaLayimzt2qtg5q652Zt1c6j2Xr8G8+m/PHkQ9XTP2zWW4v2aOiriz06ZyA4kZ2r/6TsLBXqK8MHv+7TY99sdPpam7ftqPX7nzZ7XksN33t9wW6NmrZSN7+30t9FgQcIgCZw+6XNdFnrehraMd7fRUEZ3f6B+4mnHfll61G7nwe9uND6vTf9+bJz83XufKF2Hytf06w3lU2GYehIhuMA8vLcHaVH5ZZ4PvlOaiz/k7JTby3ao+te/1WSNG9buvo8l6Jfdx93OSLW09tV8r5utgnSzmpGZm04osEvL9K2tEzlu+g7Wex8QaHLPpbuPPX9Fuv387Yd1eTvt+iETQ3q/TPW6qW5O3TD20XNqoZh6OZ3V9jVps5Ymaqmj87SnE2er2rjiGEYOnDyjE79/uFg0neb9cmKVC3b7XggVG6+/fMOpPrLIxlntelQhr+LUeFcffCz9cVqamOrEgKgCTz5h/b64LZeCgkJpD+V8Mb+E2d0xwerKvSczgKSKwu2H3W/k5eKa9HeX7pX3647bN3+4s87lDRlnh79aoNe/WWnsn/vZ3gsK1evpuzUv37abhfYPH02tjWFZ/Lyddv0VUrLPKcb31lRal/b6X0+WZGqM3mOaxU9deeHjv8Px3yyRtvTszTklcVq+fiP+vy3A+rzXIpem1d6/snCQkOXPD9PvZ79xS4sGoahnzan2fX1zM7N9yhQTlu6V/fPWGv9ubhfZurJMzpfUKjL/rVAS3Yd16wNR6wDSB79eqMk6Z6PiqYkWr3/lFbvP6kNXg4qefmXner3wnx1fWauluy8MJgq20G/Uqn0/7O3Ldjejsz+ZEWqFu045tG+SVPm6Q//XaK9FdCHNVAYhqEb31mhkdNWug2CgTbqHa4RAIEq4pet/m/ucjeK2Z3iqUdsFRiGhryySE/b1EpJ0mu/1/DN+O2AXv5lh56dVfT4aZs+g4WGob3Hc3TXh6u03sPgsfXIhQB4lYtm2S9XH1TPEgNZuj0z1+0gjxV7LjRjv71oj9161MttHssvKNS0JXu1La1038CHv9qgtMxz+vfPO0o9lpOXr2NZuTp15rzdgIb524/q7v+t1mX/WiCpaNWYjpN+UsvHf3RZ3mK2g3Fszd54xG7wjMUi5ZWohduelqXr3/hV17+xTFe/tlQ7vViD+z82/VRvfu9CCHeWJabM3ur0XBkVvDTfpkMZeuybjRo5zbsmTXe1gL/uOq7Nh+33WbrruAa9uMDu9R0I0jLPadmeE1q045hGvL3c4wnsy1NDjcpBAARQITxtJirpt70nnc6baOvTlQfU/Zm5uuLlRdZtBYWG7vpwlX7ekq4X5mz36HppmRdWUdl3wn5UsG1t0uTvS4fVc+cL9cffm46dKR6UIEkLtjuuOTqZk6ePlu/X5B+2aMgrrvsGZp47r/eX7tXq/Sd1w9vLS4XoXUez9c8520o19//f256NinXHUbN4yZrMkuF7/UHfNYMeKbEKjm0/zMTJP9s9NnvjES31cIomRzyZMN1bB0+d0Y3vrig1KOumd1do97EcdZk8V9m5+WX+fSpp4Y5juvSf85w2qXtj5d6Tuv4N569/2yK/VWJt85d+3q7+L8x32A8Y/sE8gNDYgS2ttS1AWf1axjcYb+bKO1HizeOp77ZopwcDZDy13YuaK0laufeE15MJ/7bvpP785jKP95/w1UbN2njE4WOPf7PJblCELdugm7I1XZe1rufR9UpO6VMyWH+/4YgWlmwSdfNfeL6gUOGh3tU3eLpCibMm4AMnz+i+j4v6LO573vF8f96s8Xw065xia0aV2p5x9rxGvrdCf+jcwLrN1Yh5T6Yi6jjpJw3pEK83b+lud87taVmqGRWmejUjSw3yc2bU77WXN7yz3Ol9cMXRQKcfNx7R0E6uX/ezN6Zp7OWtrD8XryH+zuI9emRIW6fH7TqarXo1IhVTPdzrssI71ABCDw5u4+8iIAiUNQB+/tvBMl/zqzVlP9YR2zWRM52MIrb1wbLS08W4897vE3F7ylXTv7Pwd9/Hq+1CyO0frNL0X/e5vdaiHcfU95/2k5GXDN33f7pW3li9/6RaPf6j3liw2/3ONsbNWKcfNhx2v6MTRz1YnrF4wnSpqFa2ZK2bbTjs9WxKqaZvSXpv8R6tP5ihZ22apv/22Tp9vuqARk1b6bQvoztzNqdp1oYjuvzFBdp1NFuTvtukq/6zWP1emK/+L8zXt+sOWQfOrN5/0jrN0HtL9uqXcnbVsOUoH9/7sedTK5VU6CIc70zPUvJLC9X1mZ+d7oOKQwAE4Fd5JusrlFPOgSSemL2x9Mhc27DjzMhpK3W6DP3oXNXiPvZ10ZQ6/5xTtPJMbn6BRk1bqXcW7XF73rGfuA+bXg8CsSlr8dJ4v+4+rm7PzHU6SKfYzqOla4jPOQiFkvTwlxu0cMcxvV3ieXozH+uYT9Zoz7EcJb+0UB8tT7VuP5qVq3Ez1umGd5braOY5Xf/GMg19dbHWpp7SMz9s0R1unsepnDz95a1l+tymu4Iz7u5vdm6+w7W3j2bl6g//XawnZ9pPqeSqsri4ub4M49NQBgRAACiHzYczNGeT4yZaRxbv9K5PWlV+LywsNEo1q3+z5pAW7jhmV2PmynM2+znqF1cRE9zf9WHRSOZfth5V00dn6fFvNjrcb9h/lqjtkz/q/95eZh3o4i4gZZ07r193H9dyN+t7l8W2tCwdtOmnaFvrufd4jga9uMBu/wMnz2jRjmN6NWWnVu49qYe/dL02+YLtR92uhX7JlBRd9q8F2p6WZff/czw7V5sOZep/y+1ryXemZykvv1B7jmVr5d6TTgeLVPSAHpRGH0AAKAdPV1gpK0fNjoHuwS/W66KIUOXk2ffje/7Hbfp5y4XaSU/mEHx70R4NbBOrmlFhWrTT/XQsO9Kz1DquZqntR7PO6YU521Uj0v5tLy+/sFQz7ccrUtWtcW2FOKgiOXe+UMv3nNTw15Zo9RNXuA2gP2w4oveX7pMkbXtmiN1j93+6VgPb1rPrP+it26c7niP0sa83lpq3s98L8yVJCXWqldp/e1qWalUPV1x0lLLOndfsjUf0yFeOg7Ct4q4Snk4RNX/7MbV+4sLI9Nv6NtO9A1rowCn7vpGPzdyovw1qpYQ61T3u7wjvEAABAOXyyYrUUtvu/XiN+rWqa7ftzRIjQ4vnEHTnBhfr/Jasgbvy5UUOBztM+GqjUhz0mbQNI7b+/sV6l2U6d75QHSb9pD92a+hyP9u5JHPPF2q+TVD6bv1hfbf+sBbtKPtI5ZJLLhY762IQjW1fV6loCcTBrxSNrp99fz9d9R/3q9YUFBoqObVsWWqrpy3dq2lLi5rir068EIRnbTiiWRuOKDGhlr4d07cMZ4Y7BEAAQLk4m/bF2+busvD0Gp4sg1gWX69xvQSirdyCglJ9AiXpGzfLKHrKNo95M+//Zpt5C4v7RbrT4rHZGtQ21vOLeGCZg2ZyVhXxHfoAAgCCyg8bDis3/0INWMrW9FJzPvpDr2dTfHp+2wE8WR6MYpeK1l625c20TLY1qpsOZzpdCcTRZOeOsJJI5aIGEAAQVEqOHr69gpdRDFQPf3VhUIftKjGuTPpus67tcqHp1ZsaTVvfrz+s+OjS8yRKcjvZ+QUkwMpEDSAAAEHGm+l8Zq4r+3yLtmwnHy+L49mOVwlxNXcgyo4AaFIt6l0kSapbI8LPJQEAwLm1BzxbfxjeoQnYpCYO76A9x7I1uEO8JGlIh3jN2ex+SgYAACqTyeaKrzTUAJrURRGhGt23mRrUKpoP6uURXfTYVc7XZwQAwB+8Xe0FniEAQpJULSJU13Vt5O9iAACASkAAhJU3w/8BAKgMVAD6BgHQpGpEOej+Sf4DAAQYmoB9g0EgJvOPazsqPfOc2sZH+7soAAC45Wx6GJQPAdBkbu7TxN9FAADAY8//uM06YwUqDk3AsKIFGAAQaE6foQbQFwiAAAAgYFnoBOgTBEAAABCwQsh/PkEAhJVh0wa85skrtO/5Yf4rDAAAYhCIrxAAYWU7D2BYKB+5AAAIVgRAOFQy/t3Zr5lfygEAACpeUAXAqVOnqmnTpoqKilLv3r21cuVKj46bMWOGLBaLrr32Wt8WMMAZLoYB14+ppr4tL668wgAAAJ8JmgD42Wefafz48Zo0aZLWrFmjxMREDR48WEePHnV53L59+/Tggw+qX79+lVTSqoFRVwAABK+gCYAvvfSS7rzzTo0ePVrt27fXm2++qerVq2vatGlOjykoKNBNN92kp59+Ws2bN6/E0gYmV/MAtoitUWnlAAAAvhUUATAvL0+rV69WcnKydVtISIiSk5O1bNkyp8dNnjxZsbGxuv322yujmFVKcf3fN/ddoil/7KT+rer6tTwAAKDiBMVScMePH1dBQYHi4uLstsfFxWnbtm0Oj1myZInee+89rVu3zuPr5ObmKjc31/pzZmZmmcpblXRtXFtdG9f2dzEAAEAFCooaQG9lZWXplltu0TvvvKO6dT2v2ZoyZYpiYmKsXwkJCT4sZeULt5ltM4Q+gAAABK2gqAGsW7euQkNDlZ6ebrc9PT1d8fGlF5DevXu39u3bp+HDh1u3FRYWSpLCwsK0fft2tWjRotRxEyZM0Pjx460/Z2ZmBlUIjI2O0h2XNlNEWIiqRYSW+3wPD2mjF+Zsr4CSAQCAihQUATAiIkLdu3dXSkqKdSqXwsJCpaSkaOzYsaX2b9u2rTZu3Gi37YknnlBWVpZeffVVp6EuMjJSkZGRFV7+QPLEH9pX2Ll6N2PaGAAAAlFQBEBJGj9+vEaNGqUePXqoV69eeuWVV5STk6PRo0dLkkaOHKmGDRtqypQpioqKUseOHe2Or1WrliSV2o4LLKWmh5aio8KUeS7fyRGuxhUDAAB/CZoAOGLECB07dkwTJ05UWlqaunTpojlz5lgHhqSmpiokxJRdHn2qU6MYTb6mowa9uLDUY64mlgYAAP4TNAFQksaOHeuwyVeSFixY4PLY6dOnV3yBgsxDg9toya7jpba3qHdhjsC28TW1LS1LklToYQD89M4+uuGd5RVSRgAA4B5VYvBYYkItbXtmiO641Pm6wI8Maev1eS+uEVGeYgEAAC8RAOGVqPBQ3dX/wqopxc28X917iZ69rqP6t67n0Xma17vI+n1oCFPOAABQmQiA8FpsdFSpbd2b1NZNvZvYDRMxXHQCvNsmRIYy5yAAAJUqqPoAovKVzHgWi9QqtoZOnz2vZnUvcnyQimoSi9WuThMwAACViQCICmWxWDTnb/1VaBjKspkeplPDGG08lGH9OaZauJ4Y1k4hFotiqof7o6gAAJgWTcAoF8PBXH+hIRaFh4bYNQHfP6iVHh1qP0Dkjn7NdZuLASW2Hh7SpnwFBQAAVgRAVAqLpHsuu7C8nqVEv78W9Zw3F0tSg5hq1u8HtY316to9m9b2an8AAIIdARCVouQ4j5LDPn4c118rHxvk9PjL210IfeGh3r1sh3Wq79X+AAAEOwIgysXVah8la/nsH7P/OSIsxOHoYkmqERmm6Kiy9xO8qU+TUts8bVJ+arh3ayM3rFXN/U4AAPgZARA+U9tmcMfFNSLLfJ6WsTXc72SjeYnm5PDQEA3rbF8L2LvZxR6d69a+zdQmrqbH1559fz+P9+3UMEaN61R3+NjGp670+DwAAHiLAIhycbXam20NYI1I+wHnllKNwM51b2Lfh8/RwBNb747soT91b+Ryn9iangfSO/p5NlDlnstaKKZ6uBY9NNDlfl/dm6SbejfWR7f31oIHBzjcp6aHNZ51WUUFAFAGBED41LPXddQDya2ttXjFmbBDg2iPjr93QAv9/crWpba7a2p98g/tdXf/5hdq5EpkxoQ61fXajV1dnqPe7yHxT90b6ecH+jvcp37MhWbr4lHOjS92XKsnFa173L1JHT17XSfFVA9XiItVUN4f3dNl+SRp8cOXu93HlVo+moKHub0BILARAOFTN/VuonHJraw/b3pqsFY9kazaF3lWc/XIkLaqHlF6uspvx/aVqxXkYqqFa8JV7dTeRdD8Q+cG2vz0YH1wWy+77f+5oav+ltxKX997iaSimszWJZqBa0aF6dnrOuq+AS3kiKOA+49rOyqphWdNz5I0sI370c7VIkK1ZfJgbX56sMfntfXP6zuX2rbwoQFlOtf13S7UuoaQAAFUENsP2qg4BECUSdfGtSRJI3okeHXcRZFhqluO/oDF6taI1HVdHTfzOhx8YrNpks3Ajosiw3SZzfrFrWJr6OrEBvpbcmsllOifFxl24ddl3cQrdVPvJooIc/wr9PV9l5Ta5rrhuuyqR4TposiyzenuKKY1udj1lDzOdPn9NSFJdTwM+BWhbbznfTQBVD18nPQNAiDK5NM7++iHv16qP3Zr6LNruBup++Dg1mpcp7oeu6qtbnc3obRN+hrd17M+fa6Euqp+lBQZFurycVcm/sG7kce+0K9VXbufb/PgnlkkvTwiUX/oXF8jHYy8tjW0Y3x5imenWkTZ73VVdYkXNckA4AgBEGUSFR6qjg1jXE71Uh7t6kfrvgEtXe5TP6aaFj08UHf1b6GHBvtnpZAhHeurZmSYrmgfV+qxauH2wcTTO3Vlh9Lnqmyv3djN+v2bN3fXw0PauO23aUi6rmsjvXZjt1Kjrkv6958T9WebgTp1a0RqkxfN2LYB9dz5Qo+PCxY39XYdsAHAHQIgAkpx0/KNvZw3LTuae9C2z5mjoOVu5PAfuxbVZP51UCvn+/zex62HzajkmGrhWjPxCr19S3eX5w9E13drpEta1nXYjB1TLVzXd2uktvE1dXnbWEWFh+rjO3p7fO7m9Wpo+QTnE3tfFBmmf9mEwDdu7lZqpLgrMdUuDF7ZeiTT4+OCwXdj++qqThVXgxrI2sbX1DgXv5MwB19VNJhd2ToOAT7yyR19tDUtU10a1XK6T42oin/Z/vvPiXpoSBvVj3E+unjS8Pa6tGVdXVqiedTblUnccTa59oNXttYbC3YrJ6/A43P949qOiggN0bSle7UtLcvuXKMuaaoakWHa+NSVCgsJ0UfL91sDuCS9+JdEGYZh/ePrzdQ9khTvpOP2HTbN9f/6c6Keva6T076Uix8eqF93H9cjX2202+6uCd5WWIhF+YXe9cAc1DZWA9rGql6NCB04eVbPzt7q1fG+1NnF70ZZfXFPkuJqRin55YXKyw+cGtUfx/XT+QJD6w6c1sIdx8p8nsSEWlp/4HTFFayCzRzTV9dOXervYnjt8avaVcrvRqSTvw8oH+4qAkq1iFB1a1zb4fQoL49IVI8mta3TrdhyV8PnTkiIxWX4k4qavYd1rm9X++RKWT609mhSW41qOy7H2MtbacNTgz2a++/mPo319i3ddXOfJvpLzwS1r2/ffDv28lbWuQYjw0IVGmLRqEualgoX7j55xztZvcWVkiOqbcPfi39OtHssoU51jejZuNQ5vLm1oy5p6k3xJEnv3dpTt/RpoiEd6ysqPPj/TNatEanGF1fX9meGlOs8tut9VwSLxaKIsBBd06VBuc7z7Zi+FVQi36jI+TyfGNauws7lTseGMU4fc/ahrkyoAPSJ4P/LhqBxXddG+vLeSxRb03XocJRZOjRw/ofKVy5v634aF1uThrfXF/ckuQxdntZ8tYqtqSs7XGgmnDS8g1dl8cTQjvGaO97x/IjFmtd1MKLYxVO4vnsjt03BzepeZHeP4qJdjyp39IHBG+398NqpCHf1b24Nr/+7vZfmOpnL0lZ5m9oeuKKV7r/cdd/dsrjKR+t5d7Op8S6vO/s1K9MHIunCnKPlZbFItyQFRv/Q/5WYXqs8yH++QQCEKdzRr5keHtJGs+6/tNKu+dwfO9lNOePuvdUi52/Ag20GhngyxYpRoh05xgcTPnduVMtuxZLq4aVH4356V58KHdU8rFN9fXZ3H7tt7qbAcddEv+/5YS4f796ktuMg6wfPXtfR430tKpquaMvkwerXqp5auVjSsHoFjaSODAvV+CsdD8hy9NL2dJnFKAevLU8N6eC8v+TbI3uU2rbz2aFaP9H7pRgfH9Zebet7PyVRg5iocs0aYGvPc1dV2Lk8YdvyUrLGr24FhVr4DgEQphAZFqr7BrSs1JrA6KhwuylnnPXt80Q7mybc12/qpm6Na5WawNrXSk63UvyG/sSwdkpuF6vhiaWb6eKio3RbiSl6yvNp/qbejUvVABd62b+vLAaWqM290sGo75LeG2UfLu7u39ztMZ0axtitAHN9t0Z2tb5ejf61FAUnRxOp23piWDvFlbHmqry6NamtxIRaPr3G89d3kiR9eFsv9WpWx24AjaM5ScNDQxRTPVxPDGundvWj1bGh+1WLBrsZuT9uUCv1aV7H4WMtfl8lyZtawKTmjqcBcvQB8lYPu0D873bv/p48NLiNLnLx2mpRr4buvsz9ax7+QwBEUIgIDVHNyDCFWOS2L19VFGYTAlrG1tTX9/W1m8C6JF+MmosIC9G8v19Wavsd/Zrr3VE9Pe7zU66yWez+kSQVuEjWxW/279/aU3HRkfrodvuRzM5WcnFyWau3R/bQyyMS9d6oHvpxXL9S8yZKRc3wtkr2fSzp5RGJ+v6vl9qtABMa4v0qCLde0lS1qofrdg/nu/RkjseSHD1fd5yN5i1P/7wX/tRZiY0cf6irWyNSKx8fpFrVi2rM+7eup8/vTlKzErW5zppt7+jXXD+O66da1dzXuL9xU9EsAM5ein9LbuXwA5ItZ8d+emefUttCbH7V4qIjdVWneKe1w7atAbde0lS7n7tKfVuWDpB9W9S1G6DlytNXd9Cd/Zqrc6MY3dKniR67qq3DD3ZlbRIviVHAvkEARFCwWCxa9WSytkweUrGdjyuRoya6cYNaqU1cTY0sw0CGkm75fXLmG1xMseNO83o1yl0Od8vhlWy+dsjm/aB44Iqr94iBbWO14rHkUiO4Hx5S1D/QXTOwI9d1baRB7eLUrn50qbDniLsA4GxlmweSi9bC/lN3x4+X9NTVHbT6iSsU68NaveoRodr3/DDte35YqQFGzowd2FLv39pT6yddaF4t7/v6gDb1nJ4kulqYw/7CJV9eC9wsfehogNnka+z71Lpa07tLQq0yB5hP7ujt8PfF9jmEh4bo9Zu6O60dti39U1d3UGiIRR/f4ShUWjz+/xh1SVNFhIXIYrHomWs76q7+jj9I3di79AAuV27o1VjdbabZKkb8842q+U4JOBAZFlquvkK+5uyP6/djL9VLf0lU35ala1UeuKK1fnqgv6Kjyt+Hb9Lw9vrq3ks0+RrP+5G54s0f5X9e30m3X9pMKx8bpIa1yl9DazslzT+u6ah7B7TwaJCDrcYllvpz1VRW3qDSvUntUh9MXhnRxfrYNw6WDpSK3uiv795ISx+9XC84WLdZkt5x0I/Nm2lySsab6aN76t4BLexGu39z3yV2ocf2/nt6b8JCQzSwbazdeYsPLdlcLrkfRfrZXX0UWzPKaQD19A64+5tR6GBWHNtrFgd0Sbru9/lEY22ac4vvz9WJDVwug+lo3fJ2HoTri930CS5P15OyKh545ag/YicXI4efvbajwz6bVAD6BvMAAn7WqVGMOjlpxiorR7VoYaEhDj9dVwZHU7mUiYM3s9oXReiRId6P9PXmTcWbUcfFwkIvHFOyf9WopCa6tmtDDekY79GHFkeh+anh7bXhYIbXo83dGdAmVgPaxGrGylTrtq6Na6tr49qa+O3mUvtXxJvzoHZxWvTQQPX/13xJ0s8P9C8V0EsqHoA04aq2iq4WprcW7il/QRxwNsXUzDF9lbI13a6f2zVdGqjJxdXVKq6mOk76qVR5Vzw2SO8v3at/zLowd17xayu0xH389dHLVdtJuLO95+5q2VrFeV5rXxEfziT76YBKzsPZNr6mvrgnSVPn79J/5+0qdeyoS5pq/8kcfbQ8tdRjqFjUAAIoE199KvekwqJFbPlH5ZYsvquaFNt9f/5b6X6QjkJCg1rV9KfujXRLnyalBmIUhxd34c/V6Nxb+zbTSyO6eFXbV1JCnWrlOl7yfoJwZy62mQuveoT72vzi0fDRUeGaMLT03HcVVfF1/+99F/9cogm+S0It/f3KNnbltFgs6tq4ttOpjEJDLB6N4peKXj/O2H6+a1zH9e9ClBejgm9ys4Z3WXw7tq/d2t91LopQVHioCkt8SK0ZFSaLpajm9/7L7fuLVtRrDPaoAQRQdfz+PnBb32bKPJtfptqvkUlN9OGy/db+f8Vu79dMW45kakhH18usuZtS54PbelmbOf9dYmLrYo6a+2w9d10nfbn6gMbZNC+6MqJHgj5bdcCjfYuVpd9jaIhFBYWGw0EEttrG17RbecbZKFlvPkRMvbGbXpy7XTf0bKyGtas5XWmmol3Soq7WT7xS0dXC9MXqg+U+39WJDbR01wl9taboXMW34Mk/tNeqfUuVlZuvP5RYSzvl75dp0IsL7bZ9cFsv7UzPcjq6uJg3k+SHh4aoed2LtOd4jsfHuNOhQYzeuLm7Zm88om/XHdKY3+eJtM1/WycPUUjIhdrQqAqalgiuEQCBShIeQoV7eRX3oYoKD/VogueSIz6lohGM4wa10sUl+mNVjwjTGzc7WdPZi6DianT27Pv7acPB03Y1Io7c2LuxVx3oS9amVARHZ1z88ECt3n/KbmJmRyFu7OUtNfaTtZKk3x5PdttPzRPDOtfXsM6+mRD6zn7N9M7ivfqrk0msK3IezbDQEL34l0RrACzWvF4NrZ90pSyW0qNeWzgYfHVZ63ouX2vFvJ0l6fWbu+mvn6zV369srXs+WlPq8QFt3F/Tkas61bd73dgWq+QUU9FR4Xr1/7po3Ix1kugD6CsEQMDHxgxsoaW7Tujqci5nFWh81SzjKMu8M7KH0jLPuZ1KpdhtfZspxCKNGVj6Dd1isZQKf5WlfYNot7V/ZVHLy4BSlmlcpKJmSVdNk8WubB+vnk1rq1uT2i7nt6vI19DNfRrb9RtzdmZHeeixq9ppRM/GalHPvxN+uxpNXFbefjZoGx+tueOLujmMSmqiD5btt3v8TWcfkrx0edtYvbFgt9NuDtd0aWgNgPANAiDgYw8NbquHBvu7FBXv4gpcv9SdKzyYeFmSpvyxk9bsP6XHh7Urd982W4HeB2ns5a2082i2ru3S0N9FkVTUj+uLexyPbLZVkTU73vR1K10Oi1rGej5YwptJm3s1dd1E6+k9eOuW7rr7f6s9vq433r+1p8Ptjw9rrx82HNGJnDzrNmd9M6OrhetYVq7H1+zZtI5++OulTtc+h+/RJgXAK/+9oatu6dNE1wRI2LB1Q6/G+tefEys0/HmieI6+Lj5e1cKZmGrhmj66l67tWnH/J55O4utNcPKlkkHKWcVXeV4Z/7u9l179vy5qcrH7msIFDw7QE8Pa6YErPOvH6c7gDvF6ZEhb1YgMc7u29x9/fx30bXmxruoUr8iwEA100nR7TZcGpVa6KRYRFmLXzHy7i4mi37+1p9rVj/ZqhaKODWOsE3W7wkTQvkENIACvDE9s4HZS4/J4fFg7PTFzk8s3m8p2+6XN9NlvqU5Db4cGMfrt8WTV9sGay/7y+k3dNPHbzQ6b0W1FuFlruSwC9Q2/XyvP+781rXuR7ujnfCm0xIRaWn/gtEb08Hxi9nsHtNDd/Zu7bSp+9rpOurxdrPq3rqfoqHBtfGqwwkvOM+Mpm8OedLGud8eGMfpxXL+yXcONiLKWHS4RAAEElJv7NFFyuziP59urDPVqRmr1E1e4fOP1plnQ37o1dj8fZPN6NfTRHb3d7lcW9w1ooc9XHXQaLj1aDaaEkqEx0CPDZ3f1UerJMx73ay3mST/BahGh+kPnCx/SXE2q7e5Wt68fra91yOPyVaQX/tRZr/6yU/9yMpoe5UMABILEmievULdn5kqS6lfQhK7+UllTfHjDFx30K1vK3y/Tgu3HdJOXS3RVtIeHtNVDg9vYhbbyjmO+OrGB3l7kfjJoPyyM4VBUeKjX4c8fRl3SVLn5hervRe1nRflLjwT9xYsaUniHAAgEiToXRej90T21/sBpXenhoAmYS4t6NRxOKeIPrpp5y9IE3LFhjH599HJd8vy88hQLJYSHhrjtBoCqiQAIBJGBbWI1sE3FLg0GuFJRA24q4iwNalVTrerhOn3mvFf99QAzIgACAMps3KBWWrTzmP6votZ7LqfZ9/fTvG1HdX23Ru53BkyMAAgAKLPY6Cgtfvjycp+novrmNahVTTe7WNO2mQdTuJhJoPSJROUjAAIATOP67o10JOOcertZQxcIdgRAAIDfVdYY69AQi8Ylt6qkqwGBi5VAAAB+R1Nk5WpycXVJ0vDO9f1cEvgLNYAAAJjM7Pv7ae/xHHVoEO3vosBPCIAAAJjMRZFh6tgwxt/FgB8FVRPw1KlT1bRpU0VFRal3795auXKl033feecd9evXT7Vr11bt2rWVnJzscn8AAIBgETQB8LPPPtP48eM1adIkrVmzRomJiRo8eLCOHj3qcP8FCxbohhtu0Pz587Vs2TIlJCToyiuv1KFD/lnzEAAAoLJYjLKsuh2AevfurZ49e+q1116TJBUWFiohIUF//etf9eijj7o9vqCgQLVr19Zrr72mkSNHenTNzMxMxcTEKCMjQ9HR9KMAgLLKzs1Xx0k/SZJ+ffRyNaji61kjsPH+HSQ1gHl5eVq9erWSk5Ot20JCQpScnKxly5Z5dI4zZ87o/PnzqlPH+dxQubm5yszMtPsCAACoaoIiAB4/flwFBQWKi4uz2x4XF6e0tDSPzvHII4+oQYMGdiGypClTpigmJsb6lZCQUK5yAwAA+ENQBMDyev755zVjxgx98803ioqKcrrfhAkTlJGRYf06cOBAJZYSAIJXROiFt6PoauF+LAlgDkExDUzdunUVGhqq9PR0u+3p6emKj493eey///1vPf/88/rll1/UuXNnl/tGRkYqMjKy3OUFANiLCAvRzDF9VVBYqBqRQfHWBAS0oKgBjIiIUPfu3ZWSkmLdVlhYqJSUFCUlJTk97oUXXtAzzzyjOXPmqEePHpVRVACAE10Saql7E9boBSpD0HzMGj9+vEaNGqUePXqoV69eeuWVV5STk6PRo0dLkkaOHKmGDRtqypQpkqR//vOfmjhxoj755BM1bdrU2lewRo0aqlGjht+eBwAAgK8FTQAcMWKEjh07pokTJyotLU1dunTRnDlzrANDUlNTFRJyocLzjTfeUF5env70pz/ZnWfSpEl66qmnKrPoAAAAlSpo5gH0B+YRAgCg6uH9O0j6AAIAAMBzBEAAAACTIQACAACYDAEQAADAZAiAAAAAJkMABAAAMBkCIAAAgMkQAAEAAEyGAAgAAGAyBEAAAACTCZq1gP2heBW9zMxMP5cEAAB4qvh928yr4RIAyyErK0uSlJCQ4OeSAAAAb2VlZSkmJsbfxfALi2Hm+FtOhYWFOnz4sGrWrCmLxVKh587MzFRCQoIOHDhg2oWqPcW98hz3ynPcK89xrzzHvfKcL++VYRjKyspSgwYNFBJizt5w1ACWQ0hIiBo1auTTa0RHR/NHwkPcK89xrzzHvfIc98pz3CvP+epembXmr5g5Yy8AAICJEQABAABMhgAYoCIjIzVp0iRFRkb6uygBj3vlOe6V57hXnuNeeY575TnulW8xCAQAAMBkqAEEAAAwGQIgAACAyRAAAQAATIYACAAAYDIEwAA0depUNW3aVFFRUerdu7dWrlzp7yL51FNPPSWLxWL31bZtW+vj586d05gxY3TxxRerRo0auv7665Wenm53jtTUVA0bNkzVq1dXbGysHnroIeXn59vts2DBAnXr1k2RkZFq2bKlpk+fXhlPr1wWLVqk4cOHq0GDBrJYLJo5c6bd44ZhaOLEiapfv76qVaum5ORk7dy5026fkydP6qabblJ0dLRq1aql22+/XdnZ2Xb7bNiwQf369VNUVJQSEhL0wgsvlCrLF198obZt2yoqKkqdOnXS7NmzK/z5lpe7+3XrrbeWeq0NGTLEbh8z3K8pU6aoZ8+eqlmzpmJjY3Xttddq+/btdvtU5u9dIP/N8+ReDRgwoNTr6p577rHbxwz3SpLeeOMNde7c2Tp5c1JSkn788Ufr47yuAoiBgDJjxgwjIiLCmDZtmrF582bjzjvvNGrVqmWkp6f7u2g+M2nSJKNDhw7GkSNHrF/Hjh2zPn7PPfcYCQkJRkpKirFq1SqjT58+xiWXXGJ9PD8/3+jYsaORnJxsrF271pg9e7ZRt25dY8KECdZ99uzZY1SvXt0YP368sWXLFuO///2vERoaasyZM6dSn6u3Zs+ebTz++OPG119/bUgyvvnmG7vHn3/+eSMmJsaYOXOmsX79euPqq682mjVrZpw9e9a6z5AhQ4zExERj+fLlxuLFi42WLVsaN9xwg/XxjIwMIy4uzrjpppuMTZs2GZ9++qlRrVo146233rLus3TpUiM0NNR44YUXjC1bthhPPPGEER4ebmzcuNHn98Ab7u7XqFGjjCFDhti91k6ePGm3jxnu1+DBg43333/f2LRpk7Fu3TrjqquuMho3bmxkZ2db96ms37tA/5vnyb267LLLjDvvvNPudZWRkWF93Cz3yjAM47vvvjNmzZpl7Nixw9i+fbvx2GOPGeHh4camTZsMw+B1FUgIgAGmV69expgxY6w/FxQUGA0aNDCmTJnix1L51qRJk4zExESHj50+fdoIDw83vvjiC+u2rVu3GpKMZcuWGYZR9KYfEhJipKWlWfd54403jOjoaCM3N9cwDMN4+OGHjQ4dOtide8SIEcbgwYMr+Nn4TslAU1hYaMTHxxv/+te/rNtOnz5tREZGGp9++qlhGIaxZcsWQ5Lx22+/Wff58ccfDYvFYhw6dMgwDMN4/fXXjdq1a1vvlWEYxiOPPGK0adPG+vNf/vIXY9iwYXbl6d27t3H33XdX6HOsSM4C4DXXXOP0GLPer6NHjxqSjIULFxqGUbm/d1Xtb17Je2UYRQFw3LhxTo8x670qVrt2bePdd9/ldRVgaAIOIHl5eVq9erWSk5Ot20JCQpScnKxly5b5sWS+t3PnTjVo0EDNmzfXTTfdpNTUVEnS6tWrdf78ebt70rZtWzVu3Nh6T5YtW6ZOnTopLi7Ous/gwYOVmZmpzZs3W/exPUfxPlX5vu7du1dpaWl2zysmJka9e/e2uze1atVSjx49rPskJycrJCREK1assO7Tv39/RUREWPcZPHiwtm/frlOnTln3CZb7t2DBAsXGxqpNmza69957deLECetjZr1fGRkZkqQ6depIqrzfu6r4N6/kvSr28ccfq27duurYsaMmTJigM2fOWB8z670qKCjQjBkzlJOTo6SkJF5XASbM3wXABcePH1dBQYHdC1+S4uLitG3bNj+Vyvd69+6t6dOnq02bNjpy5Iiefvpp9evXT5s2bVJaWpoiIiJUq1Ytu2Pi4uKUlpYmSUpLS3N4z4ofc7VPZmamzp49q2rVqvno2flO8XNz9Lxsn3dsbKzd42FhYapTp47dPs2aNSt1juLHateu7fT+FZ+jqhgyZIj++Mc/qlmzZtq9e7cee+wxDR06VMuWLVNoaKgp71dhYaH+9re/qW/fvurYsaMkVdrv3alTp6rU3zxH90qSbrzxRjVp0kQNGjTQhg0b9Mgjj2j79u36+uuvJZnvXm3cuFFJSUk6d+6catSooW+++Ubt27fXunXreF0FEAIg/G7o0KHW7zt37qzevXurSZMm+vzzz6tkMEPg+r//+z/r9506dVLnzp3VokULLViwQIMGDfJjyfxnzJgx2rRpk5YsWeLvogQ8Z/fqrrvusn7fqVMn1a9fX4MGDdLu3bvVokWLyi6m37Vp00br1q1TRkaGvvzyS40aNUoLFy70d7FQAk3AAaRu3boKDQ0tNSIqPT1d8fHxfipV5atVq5Zat26tXbt2KT4+Xnl5eTp9+rTdPrb3JD4+3uE9K37M1T7R0dFVNmQWPzdXr5f4+HgdPXrU7vH8/HydPHmyQu5fVX9dNm/eXHXr1tWuXbskme9+jR07Vj/88IPmz5+vRo0aWbdX1u9dVfqb5+xeOdK7d29JsntdmeleRUREqGXLlurevbumTJmixMREvfrqq7yuAgwBMIBERESoe/fuSklJsW4rLCxUSkqKkpKS/FiyypWdna3du3erfv366t69u8LDw+3uyfbt25Wammq9J0lJSdq4caPdG/fcuXMVHR2t9u3bW/exPUfxPlX5vjZr1kzx8fF2zyszM1MrVqywuzenT5/W6tWrrfvMmzdPhYWF1jeppKQkLVq0SOfPn7fuM3fuXLVp00a1a9e27hNs90+SDh48qBMnTqh+/fqSzHO/DMPQ2LFj9c0332jevHmlmrQr6/euKvzNc3evHFm3bp0k2b2uzHCvnCksLFRubi6vq0Dj71EosDdjxgwjMjLSmD59urFlyxbjrrvuMmrVqmU3IirY/P3vfzcWLFhg7N2711i6dKmRnJxs1K1b1zh69KhhGEXTBjRu3NiYN2+esWrVKiMpKclISkqyHl88bcCVV15prFu3zpgzZ45Rr149h9MGPPTQQ8bWrVuNqVOnVolpYLKysoy1a9caa9euNSQZL730krF27Vpj//79hmEUTQNTq1Yt49tvvzU2bNhgXHPNNQ6ngenatauxYsUKY8mSJUarVq3spjU5ffq0ERcXZ9xyyy3Gpk2bjBkzZhjVq1cvNa1JWFiY8e9//9vYunWrMWnSpICa1qSYq/uVlZVlPPjgg8ayZcuMvXv3Gr/88ovRrVs3o1WrVsa5c+es5zDD/br33nuNmJgYY8GCBXZTl5w5c8a6T2X93gX63zx392rXrl3G5MmTjVWrVhl79+41vv32W6N58+ZG//79recwy70yDMN49NFHjYULFxp79+41NmzYYDz66KOGxWIxfv75Z8MweF0FEgJgAPrvf/9rNG7c2IiIiDB69eplLF++3N9F8qkRI0YY9evXNyIiIoyGDRsaI0aMMHbt2mV9/OzZs8Z9991n1K5d26hevbpx3XXXGUeOHLE7x759+4yhQ4ca1apVM+rWrWv8/e9/N86fP2+3z/z5840uXboYERERRvPmzY3333+/Mp5eucyfP9+QVOpr1KhRhmEUTQXz5JNPGnFxcUZkZKQxaNAgY/v27XbnOHHihHHDDTcYNWrUMKKjo43Ro0cbWVlZdvusX7/euPTSS43IyEijYcOGxvPPP1+qLJ9//rnRunVrIyIiwujQoYMxa9Ysnz3vsnJ1v86cOWNceeWVRr169Yzw8HCjSZMmxp133lnqDcEM98vRPZJk9ztRmb93gfw3z929Sk1NNfr372/UqVPHiIyMNFq2bGk89NBDdvMAGoY57pVhGMZtt91mNGnSxIiIiDDq1atnDBo0yBr+DIPXVSCxGIZhVF59IwAAAPyNPoAAAAAmQwAEAAAwGQIgAACAyRAAAQAATIYACAAAYDIEQAAAAJMhAAIAAJgMARAAAMBkCIAAAAAmQwAEAAAwGQIgAACAyRAAAQAATIYACAAAYDIEQAAAAJMhAAIAAJgMARAAAMBkCIAAAAAmQwAEAAAwGQIgAACAyRAAAQAATIYACAAAYDIEQAAAAJMhAAIAAJgMARAAAMBkCIAAAAAmQwAEAAAwGQIgAACAyRAAAQAATIYACAAAYDIEQAAAAJMhAAIAAJjM/wNZIs69sY7IUAAAAABJRU5ErkJggg==' width=640.0/>\n",
       "            </div>\n",
       "        "
      ],
      "text/plain": [
       "Canvas(toolbar=Toolbar(toolitems=[('Home', 'Reset original view', 'home', 'home'), ('Back', 'Back to previous …"
      ]
     },
     "metadata": {},
     "output_type": "display_data"
    }
   ],
   "source": [
    "lossi = []\n",
    "stepi = []\n",
    "for p in parameters:\n",
    "    p.requires_grad = True\n",
    "for i in range(30000):\n",
    "    batchix = torch.randint(0, xtrain.shape[0], (batchsize,))\n",
    "    bx, by = xtrain[batchix], ytrain[batchix]\n",
    "    loss = forward_pass(bx, by)\n",
    "    for p in parameters:\n",
    "        p.grad = None\n",
    "    loss.backward()\n",
    "    for p in parameters:\n",
    "        p.data += -lr * p.grad\n",
    "    stepi.append(i)\n",
    "    lossi.append(loss.log10().item())\n",
    "plt.figure()\n",
    "plt.plot(stepi, lossi)"
   ]
  },
  {
   "cell_type": "markdown",
   "id": "08d5eeec-abf7-4934-940a-f2609aba939a",
   "metadata": {},
   "source": [
    "As you can see, it is a bit noisy, but that is just because of the minibatches!"
   ]
  },
  {
   "cell_type": "code",
   "execution_count": 55,
   "id": "0c61e6c7-7363-4b9b-b46a-c4bffdc745ed",
   "metadata": {},
   "outputs": [
    {
     "name": "stdout",
     "output_type": "stream",
     "text": [
      "tensor(2.4532, grad_fn=<NllLossBackward0>)\n",
      "tensor(2.4539, grad_fn=<NllLossBackward0>)\n"
     ]
    }
   ],
   "source": [
    "loss_train = forward_pass(xtrain, ytrain)\n",
    "loss_val = forward_pass(xval, yval)\n",
    "print(loss_train)\n",
    "print(loss_val)"
   ]
  },
  {
   "cell_type": "markdown",
   "id": "6512f188-a1d4-4263-b0ec-3bb45a356958",
   "metadata": {},
   "source": [
    "Awesome, the training loss is actually lower than before, whereas the validation loss is pretty much the same. So, increasing the size of the hidden layer gave us some benefit. Let's experiment more to see if we can get even lower losses by increasing the embedding layer. First though, let's visualize the character embeddings:"
   ]
  },
  {
   "cell_type": "code",
   "execution_count": 56,
   "id": "7ba0f3c6-1fde-4132-931b-20506520c1df",
   "metadata": {},
   "outputs": [
    {
     "data": {
      "application/vnd.jupyter.widget-view+json": {
       "model_id": "f233c5ea803d40faa00f699a2248bdc3",
       "version_major": 2,
       "version_minor": 0
      },
      "image/png": "[encoded data removed]",
      "text/html": [
       "\n",
       "            <div style=\"display: inline-block;\">\n",
       "                <div class=\"jupyter-widgets widget-label\" style=\"text-align: center;\">\n",
       "                    Figure\n",
       "                </div>\n",
       "                <img src='data:image/png;base64,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' width=800.0/>\n",
       "            </div>\n",
       "        "
      ],
      "text/plain": [
       "Canvas(toolbar=Toolbar(toolitems=[('Home', 'Reset original view', 'home', 'home'), ('Back', 'Back to previous …"
      ]
     },
     "metadata": {},
     "output_type": "display_data"
    }
   ],
   "source": [
    "# visualize dimensions 0 and 1 of the embedding matrix C for all characters\n",
    "plt.figure(figsize=(8, 8))\n",
    "plt.scatter(C[:, 0].data, C[:, 1].data, s=200)\n",
    "for i in range(C.shape[0]):\n",
    "    plt.text(\n",
    "        C[i, 0].item(),\n",
    "        C[i, 1].item(),\n",
    "        itoc[i],\n",
    "        ha=\"center\",\n",
    "        va=\"center\",\n",
    "        color=\"white\",\n",
    "    )\n",
    "plt.grid(\"minor\")"
   ]
  },
  {
   "cell_type": "markdown",
   "id": "6d03e14c-979c-4634-9ec8-ea4211cf4409",
   "metadata": {},
   "source": [
    "The network has basically learned to separate out the characters and cluster them a little bit. For example, it has learned some characters are usually found more closer together than others. Let's try to improve our model loss by choosing a greater embeddings layer size of $10$ and by increasing the number of epochs to $200000$, also we'll decay the learning rate after $100000$ epochs:"
   ]
  },
  {
   "cell_type": "code",
   "execution_count": 57,
   "id": "32827278-a7cd-4ac6-b9af-2d3fb7c0b8e5",
   "metadata": {},
   "outputs": [],
   "source": [
    "parameters = define_nn(l1out=200, embsize=10)"
   ]
  },
  {
   "cell_type": "code",
   "execution_count": 58,
   "id": "cb8110fe-b7b5-401b-946e-816c96666e3b",
   "metadata": {},
   "outputs": [
    {
     "data": {
      "application/vnd.jupyter.widget-view+json": {
       "model_id": "39da94d1ac0a4932a3066bdf24c4d4aa",
       "version_major": 2,
       "version_minor": 0
      },
      "image/png": "[encoded data removed]",
      "text/html": [
       "\n",
       "            <div style=\"display: inline-block;\">\n",
       "                <div class=\"jupyter-widgets widget-label\" style=\"text-align: center;\">\n",
       "                    Figure\n",
       "                </div>\n",
       "                <img src='data:image/png;base64,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' width=640.0/>\n",
       "            </div>\n",
       "        "
      ],
      "text/plain": [
       "Canvas(toolbar=Toolbar(toolitems=[('Home', 'Reset original view', 'home', 'home'), ('Back', 'Back to previous …"
      ]
     },
     "metadata": {},
     "output_type": "display_data"
    }
   ],
   "source": [
    "lossi = []\n",
    "stepi = []\n",
    "for p in parameters:\n",
    "    p.requires_grad = True\n",
    "for i in range(200000):\n",
    "    batchix = torch.randint(0, xtrain.shape[0], (batchsize,))\n",
    "    bx, by = xtrain[batchix], ytrain[batchix]\n",
    "    loss = forward_pass(bx, by)\n",
    "    for p in parameters:\n",
    "        p.grad = None\n",
    "    loss.backward()\n",
    "    lr = 0.1 if i < 100000 else 0.01\n",
    "    for p in parameters:\n",
    "        p.data += -lr * p.grad\n",
    "    stepi.append(i)\n",
    "    lossi.append(loss.log10().item())\n",
    "plt.figure()\n",
    "plt.plot(stepi, lossi);"
   ]
  },
  {
   "cell_type": "code",
   "execution_count": 59,
   "id": "b2e44e4f-edd7-4ec8-ad6d-46b11d21be38",
   "metadata": {},
   "outputs": [
    {
     "name": "stdout",
     "output_type": "stream",
     "text": [
      "tensor(2.1120, grad_fn=<NllLossBackward0>)\n",
      "tensor(2.1550, grad_fn=<NllLossBackward0>)\n"
     ]
    }
   ],
   "source": [
    "loss_train = forward_pass(xtrain, ytrain)\n",
    "loss_val = forward_pass(xval, yval)\n",
    "print(loss_train)\n",
    "print(loss_val)"
   ]
  },
  {
   "cell_type": "markdown",
   "id": "692edbca-456a-42dd-955f-6dc212e2f098",
   "metadata": {},
   "source": [
    "Wow, we did it! Both train and validation losses are lower now. Can we go lower? Play around and find out! Now, before we end this lesson, let's sample from our model:"
   ]
  },
  {
   "cell_type": "code",
   "execution_count": 60,
   "id": "d0eb7ba3-1ebf-4ba1-9e8f-0e435e3ca55a",
   "metadata": {},
   "outputs": [
    {
     "name": "stdout",
     "output_type": "stream",
     "text": [
      "mora.\n",
      "mayah.\n",
      "see.\n",
      "med.\n",
      "ryla.\n",
      "rethan.\n",
      "endraeg.\n",
      "azered.\n",
      "elin.\n",
      "shyloealeigh.\n",
      "van.\n",
      "nar.\n",
      "kayzion.\n",
      "kalin.\n",
      "shubergian.\n",
      "jest.\n",
      "jair.\n",
      "jeliphel.\n",
      "alfo.\n",
      "brence.\n"
     ]
    }
   ],
   "source": [
    "# sample from the model\n",
    "g = torch.Generator().manual_seed(2147483647 + 10)\n",
    "for _ in range(20):    \n",
    "    out = []\n",
    "    context = [0] * block_size # initialize with all ...\n",
    "    while True:\n",
    "        emb = C[torch.tensor([context])] # (1,block_size,d)\n",
    "        h = torch.tanh(emb.view(1, -1) @ w1 + b1)\n",
    "        logits = h @ w2 + b2\n",
    "        probs = F.softmax(logits, dim=1)\n",
    "        ix = torch.multinomial(probs, num_samples=1, generator=g).item()\n",
    "        context = context[1:] + [ix]\n",
    "        out.append(ix)\n",
    "        if ix == 0:\n",
    "            break\n",
    "    print(''.join(itoc[i] for i in out))"
   ]
  },
  {
   "cell_type": "markdown",
   "id": "f1738f7f",
   "metadata": {},
   "source": [
    "## Outro"
   ]
  },
  {
   "cell_type": "markdown",
   "id": "4ef2c357-c347-4436-85c6-20eed1f71bdb",
   "metadata": {},
   "source": [
    "As you can see, our model now is pretty decent and able to produce suprisingly name-like text, which is what we wanted all along! Next up, we will explore **mlp** internals and other such magic."
   ]
  }
 ],
 "metadata": {
  "kernelspec": {
   "display_name": "micrograduate",
   "language": "python",
   "name": "python3"
  },
  "language_info": {
   "codemirror_mode": {
    "name": "ipython",
    "version": 3
   },
   "file_extension": ".py",
   "mimetype": "text/x-python",
   "name": "python",
   "nbconvert_exporter": "python",
   "pygments_lexer": "ipython3",
   "version": "3.11.3"
  }
 },
 "nbformat": 4,
 "nbformat_minor": 5
}
